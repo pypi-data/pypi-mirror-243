{
 "cells": [
  {
   "cell_type": "markdown",
   "id": "0d47ed3d-5b96-4feb-87b5-652e3c60b08a",
   "metadata": {},
   "source": [
    "# a sample notebook"
   ]
  },
  {
   "cell_type": "code",
   "execution_count": 1,
   "id": "ba427f4b-9a6d-494b-b996-5e0a5050935b",
   "metadata": {},
   "outputs": [
    {
     "name": "stdout",
     "output_type": "stream",
     "text": [
      "hello\n"
     ]
    }
   ],
   "source": [
    "print(\"hello\")"
   ]
  },
  {
   "cell_type": "markdown",
   "id": "2cb6a222-a380-4b15-8617-5f0af38b0f3f",
   "metadata": {},
   "source": [
    "and some text"
   ]
  }
 ],
 "metadata": {
  "kernelspec": {
   "display_name": "Python 3 (ipykernel)",
   "language": "python",
   "name": "python3"
  },
  "language_info": {
   "codemirror_mode": {
    "name": "ipython",
    "version": 3
   },
   "file_extension": ".py",
   "mimetype": "text/x-python",
   "name": "python",
   "nbconvert_exporter": "python",
   "pygments_lexer": "ipython3",
   "version": "3.11.4"
  }
 },
 "nbformat": 4,
 "nbformat_minor": 5
}
