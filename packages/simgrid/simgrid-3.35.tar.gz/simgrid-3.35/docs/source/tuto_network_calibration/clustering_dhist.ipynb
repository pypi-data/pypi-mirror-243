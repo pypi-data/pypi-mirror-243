{
 "cells": [
  {
   "cell_type": "markdown",
   "metadata": {},
   "source": [
    "# Clustering data using Dhist"
   ]
  },
  {
   "cell_type": "markdown",
   "metadata": {},
   "source": [
    "Use diagonally cut histogram to model the variability.\n",
    "\n",
    "Dhist creates a non-uniform histogram which is sampled later to estimate the intercept."
   ]
  },
  {
   "cell_type": "code",
   "execution_count": 3,
   "metadata": {
    "tags": [
     "parameters"
    ]
   },
   "outputs": [],
   "source": [
    "seed=42\n",
    "df_str=\"\"\n",
    "metric=\"\"\n",
    "coeff_col_name=\"\"\n",
    "coeff_value=0\n",
    "log=TRUE\n",
    "xbr_file=\"/tmp/dhist_xbr.csv\"\n",
    "height_file=\"/tmp/dhist_height.csv\""
   ]
  },
  {
   "cell_type": "markdown",
   "metadata": {},
   "source": [
    "We use a special method to create non-uniform histograms to represent the noise in IO operations.\n",
    "\n",
    "Unable to install the library properly, I copied the important methods here.\n",
    "\n",
    "Copied from: https://rdrr.io/github/dlebauer/pecan-priors/src/R/plots.R"
   ]
  },
  {
   "cell_type": "code",
   "execution_count": 5,
   "metadata": {},
   "outputs": [],
   "source": [
    "set.seed(seed) #forcing seed for reproductibility\n",
    "\n",
    "#' Variable-width (dagonally cut) histogram\n",
    "#'\n",
    "#'\n",
    "#' When constructing a histogram, it is common to make all bars the same width.\n",
    "#' One could also choose to make them all have the same area.\n",
    "#' These two options have complementary strengths and weaknesses; the equal-width histogram oversmooths in regions of high density, and is poor at identifying sharp peaks; the equal-area histogram oversmooths in regions of low density, and so does not identify outliers.\n",
    "#' We describe a compromise approach which avoids both of these defects. We regard the histogram as an exploratory device, rather than as an estimate of a density.\n",
    "#' @title Diagonally Cut Histogram\n",
    "#' @param x is a numeric vector (the data)\n",
    "#' @param a is the scaling factor, default is 5 * IQR\n",
    "#' @param nbins is the number of bins, default is assigned by the Stuges method\n",
    "#' @param rx  is the range used for the left of the left-most bin to the right of the right-most bin\n",
    "#' @param eps used to set artificial bound on min width / max height of bins as described in Denby and Mallows (2009) on page 24.\n",
    "#' @param xlab is label for the x axis\n",
    "#' @param plot = TRUE produces the plot, FALSE returns the heights, breaks and counts\n",
    "#' @param lab.spikes = TRUE labels the \\% of data in the spikes\n",
    "#' @return list with two elements, heights of length n and breaks of length n+1 indicating the heights and break points of the histogram bars.\n",
    "#' @author Lorraine Denby, Colin Mallows\n",
    "#' @references Lorraine Denby, Colin Mallows. Journal of Computational and Graphical Statistics. March 1, 2009, 18(1): 21-31. doi:10.1198/jcgs.2009.0002.\n",
    "dhist<-function(x, a=5*iqr(x),\n",
    "                 nbins=nclass.Sturges(x), rx = range(x,na.rm = TRUE),\n",
    "                 eps=.15, xlab = \"x\", plot = TRUE,lab.spikes = TRUE)\n",
    " {\n",
    "\n",
    "   if(is.character(nbins))\n",
    "     nbins <- switch(casefold(nbins),\n",
    "                     sturges = nclass.Sturges(x),\n",
    "                     fd = nclass.FD(x),\n",
    "                     scott = nclass.scott(x),\n",
    "                     stop(\"Nclass method not recognized\"))\n",
    "   else if(is.function(nbins))\n",
    "     nbins <- nbins(x)\n",
    "\n",
    "   x <- sort(x[!is.na(x)])\n",
    "   if(a == 0)\n",
    "     a <- diff(range(x))/100000000\n",
    "   if(a != 0 & a != Inf) {\n",
    "     n <- length(x)\n",
    "     h <- (rx[2] + a - rx[1])/nbins\n",
    "     ybr <- rx[1] + h * (0:nbins)\n",
    "     yupper <- x + (a * (1:n))/n\n",
    "                                         # upper and lower corners in the ecdf\n",
    "     ylower <- yupper - a/n\n",
    "                                         #\n",
    "     cmtx <- cbind(cut(yupper, breaks = ybr), cut(yupper, breaks = \n",
    "                                 ybr, left.include = TRUE), cut(ylower, breaks = ybr),\n",
    "                   cut(ylower, breaks = ybr, left.include = TRUE))\n",
    "     cmtx[1, 3] <- cmtx[1, 4] <- 1\n",
    "                                         # to replace NAs when default r is used\n",
    "     cmtx[n, 1] <- cmtx[n, 2] <- nbins\n",
    "                                         #\n",
    "                                         #checksum <- apply(cmtx, 1, sum) %% 4\n",
    "     checksum <- (cmtx[, 1] + cmtx[, 2] + cmtx[, 3] + cmtx[, 4]) %%\n",
    "     4\n",
    "                                         # will be 2 for obs. that straddle two bins\n",
    "     straddlers <- (1:n)[checksum == 2]\n",
    "                                         # to allow for zero counts\n",
    "     if(length(straddlers) > 0) {\n",
    "       counts <- table(c(1:nbins, cmtx[ - straddlers, 1]))\n",
    "     } else {\n",
    "       counts <- table(c(1:nbins, cmtx[, 1]))\n",
    "     }\n",
    "     counts <- counts - 1\n",
    "                                         #\n",
    "     if(length(straddlers) > 0) {\n",
    "       for(i in straddlers) {\n",
    "         binno <- cmtx[i, 1]\n",
    "         theta <- ((yupper[i] - ybr[binno]) * n)/a\n",
    "         counts[binno - 1] <- counts[binno - 1] + (\n",
    "                                                   1 - theta)\n",
    "         counts[binno] <- counts[binno] + theta\n",
    "       }\n",
    "     }\n",
    "     xbr <- ybr\n",
    "     xbr[-1] <- ybr[-1] - (a * cumsum(counts))/n\n",
    "     spike<-eps*diff(rx)/nbins\n",
    "     flag.vec<-c(diff(xbr)<spike,F)\n",
    "     if ( sum(abs(diff(xbr))<=spike) >1) {\n",
    "       xbr.new<-xbr\n",
    "       counts.new<-counts\n",
    "       diff.xbr<-abs(diff(xbr))\n",
    "       amt.spike<-diff.xbr[length(diff.xbr)]\n",
    "       for (i in rev(2:length(diff.xbr))) {\n",
    "         if (diff.xbr[i-1]<=spike&diff.xbr[i]<=spike&\n",
    "             !is.na(diff.xbr[i])) {\n",
    "           amt.spike<-amt.spike+diff.xbr[i-1]\n",
    "           counts.new[i-1]<-counts.new[i-1]+counts.new[i]\n",
    "           xbr.new[i]<-NA\n",
    "           counts.new[i]<-NA\n",
    "           flag.vec[i-1]<-T\n",
    "         }\n",
    "         else amt.spike<-diff.xbr[i-1]\n",
    "       }\n",
    "       flag.vec<-flag.vec[!is.na(xbr.new)]\n",
    "       flag.vec<-flag.vec[-length(flag.vec)]\n",
    "       counts<-counts.new[!is.na(counts.new)]\n",
    "       xbr<-xbr.new[!is.na(xbr.new)]\n",
    "\n",
    "     }\n",
    "     else flag.vec<-flag.vec[-length(flag.vec)]\n",
    "     widths <- abs(diff(xbr))\n",
    "     ## N.B. argument \"widths\" in barplot must be xbr\n",
    "     heights <- counts/widths\n",
    "   }\n",
    "   bin.size <- length(x)/nbins\n",
    "   cut.pt <- unique(c(min(x) - abs(min(x))/1000,\n",
    "                      approx(seq(length(x)), x, (1:(nbins - 1)) * bin.size, rule = 2)$y, max(x)))\n",
    "   aa <- hist(x, breaks = cut.pt, plot = FALSE, probability = TRUE)\n",
    "   if(a == Inf) {\n",
    "     heights <- aa$counts\n",
    "     xbr <- aa$breaks\n",
    "   }\n",
    "   amt.height<-3\n",
    "   q75<-quantile(heights,.75)\n",
    "   if (sum(flag.vec)!=0) {\n",
    "     amt<-max(heights[!flag.vec])\n",
    "     ylim.height<-amt*amt.height\n",
    "     ind.h<-flag.vec&heights> ylim.height\n",
    "     flag.vec[heights<ylim.height*(amt.height-1)/amt.height]<-F\n",
    "     heights[ind.h] <- ylim.height\n",
    "   }\n",
    "   amt.txt<-0\n",
    "   end.y<-(-10000)\n",
    "   if(plot) {\n",
    "     barplot(heights, abs(diff(xbr)), space = 0, density = -1, xlab = \n",
    "             xlab, plot = TRUE, xaxt = \"n\",yaxt='n')\n",
    "     at <- pretty(xbr)\n",
    "     axis(1, at = at - xbr[1], labels = as.character(at))\n",
    "     if (lab.spikes) {\n",
    "       if (sum(flag.vec)>=1) {\n",
    "         usr<-par('usr')\n",
    "         for ( i in seq(length(xbr)-1)) {\n",
    "           if (!flag.vec[i]) {\n",
    "             amt.txt<-0\n",
    "             if (xbr[i]-xbr[1]<end.y) amt.txt<-1\n",
    "           }\n",
    "           else {\n",
    "             amt.txt<-amt.txt+1\n",
    "             end.y<-xbr[i]-xbr[1]+3*par('cxy')[1]\n",
    "           }\n",
    "           if (flag.vec[i]) {\n",
    "             txt<-paste(' ',format(round(counts[i]/\n",
    "                                         sum(counts)*100)),'%',sep='')\n",
    "             par(xpd = TRUE)\n",
    "             text(xbr[i+1]-xbr[1],ylim.height-par('cxy')[2]*(amt.txt-1),txt, adj=0)\n",
    "           }}\n",
    "       }\n",
    "       else print('no spikes or more than one spike')\n",
    "     }\n",
    "     invisible(list(heights = heights, xbr = xbr))\n",
    "   }\n",
    "   else {\n",
    "     return(list(heights = heights, xbr = xbr,counts=counts))\n",
    "   }\n",
    " }\n",
    "\n",
    "#' Calculate interquartile range\n",
    "#'\n",
    "#' Calculates the 25th and 75th quantiles given a vector x; used in function \\link{dhist}.\n",
    "#' @title Interquartile range\n",
    "#' @param x vector\n",
    "#' @return numeric vector of length 2, with the 25th and 75th quantiles of input vector x. \n",
    "iqr<-function(x){\n",
    "   return(diff(quantile(x, c(0.25, 0.75), na.rm = TRUE)))\n",
    "}"
   ]
  },
  {
   "cell_type": "markdown",
   "metadata": {},
   "source": [
    "## Reading dataframe"
   ]
  },
  {
   "cell_type": "code",
   "execution_count": 6,
   "metadata": {},
   "outputs": [
    {
     "name": "stdout",
     "output_type": "stream",
     "text": [
      "       X               op               msg_size     start        \n",
      " Min.   :  1130   Length:3500        Min.   :1   Min.   : 0.2003  \n",
      " 1st Qu.: 82565   Class :character   1st Qu.:2   1st Qu.:14.3932  \n",
      " Median :179094   Mode  :character   Median :4   Median :30.8789  \n",
      " Mean   :174237                      Mean   :4   Mean   :30.3998  \n",
      " 3rd Qu.:262094                      3rd Qu.:6   3rd Qu.:45.7296  \n",
      " Max.   :358579                      Max.   :7   Max.   :63.0828  \n",
      "    duration          experiment            type               index       \n",
      " Min.   :1.510e-07   Length:3500        Length:3500        Min.   :  2260  \n",
      " 1st Qu.:1.560e-07   Class :character   Class :character   1st Qu.:165130  \n",
      " Median :1.580e-07   Mode  :character   Mode  :character   Median :358189  \n",
      " Mean   :2.322e-07                                         Mean   :348475  \n",
      " 3rd Qu.:2.270e-07                                         3rd Qu.:524188  \n",
      " Max.   :1.452e-05                                         Max.   :717158  \n",
      "    origin         \n",
      " Length:3500       \n",
      " Class :character  \n",
      " Mode  :character  \n",
      "                   \n",
      "                   \n",
      "                   \n"
     ]
    },
    {
     "data": {
      "text/html": [
       "<table class=\"dataframe\">\n",
       "<caption>A data.frame: 6 × 9</caption>\n",
       "<thead>\n",
       "\t<tr><th></th><th scope=col>X</th><th scope=col>op</th><th scope=col>msg_size</th><th scope=col>start</th><th scope=col>duration</th><th scope=col>experiment</th><th scope=col>type</th><th scope=col>index</th><th scope=col>origin</th></tr>\n",
       "\t<tr><th></th><th scope=col>&lt;int&gt;</th><th scope=col>&lt;chr&gt;</th><th scope=col>&lt;int&gt;</th><th scope=col>&lt;dbl&gt;</th><th scope=col>&lt;dbl&gt;</th><th scope=col>&lt;chr&gt;</th><th scope=col>&lt;chr&gt;</th><th scope=col>&lt;int&gt;</th><th scope=col>&lt;chr&gt;</th></tr>\n",
       "</thead>\n",
       "<tbody>\n",
       "\t<tr><th scope=row>1</th><td>1130</td><td>MPI_Send</td><td>3</td><td>0.200334</td><td>2.57e-07</td><td>grenoble</td><td>exp/exp_PingPong.csv</td><td>2260</td><td>real</td></tr>\n",
       "\t<tr><th scope=row>2</th><td>1131</td><td>MPI_Send</td><td>3</td><td>0.200338</td><td>1.85e-07</td><td>grenoble</td><td>exp/exp_PingPong.csv</td><td>2262</td><td>real</td></tr>\n",
       "\t<tr><th scope=row>3</th><td>1132</td><td>MPI_Send</td><td>3</td><td>0.200342</td><td>1.63e-07</td><td>grenoble</td><td>exp/exp_PingPong.csv</td><td>2264</td><td>real</td></tr>\n",
       "\t<tr><th scope=row>4</th><td>1133</td><td>MPI_Send</td><td>3</td><td>0.200345</td><td>1.56e-07</td><td>grenoble</td><td>exp/exp_PingPong.csv</td><td>2266</td><td>real</td></tr>\n",
       "\t<tr><th scope=row>5</th><td>1134</td><td>MPI_Send</td><td>3</td><td>0.200349</td><td>1.54e-07</td><td>grenoble</td><td>exp/exp_PingPong.csv</td><td>2268</td><td>real</td></tr>\n",
       "\t<tr><th scope=row>6</th><td>1135</td><td>MPI_Send</td><td>3</td><td>0.200352</td><td>1.64e-07</td><td>grenoble</td><td>exp/exp_PingPong.csv</td><td>2270</td><td>real</td></tr>\n",
       "</tbody>\n",
       "</table>\n"
      ],
      "text/latex": [
       "A data.frame: 6 × 9\n",
       "\\begin{tabular}{r|lllllllll}\n",
       "  & X & op & msg\\_size & start & duration & experiment & type & index & origin\\\\\n",
       "  & <int> & <chr> & <int> & <dbl> & <dbl> & <chr> & <chr> & <int> & <chr>\\\\\n",
       "\\hline\n",
       "\t1 & 1130 & MPI\\_Send & 3 & 0.200334 & 2.57e-07 & grenoble & exp/exp\\_PingPong.csv & 2260 & real\\\\\n",
       "\t2 & 1131 & MPI\\_Send & 3 & 0.200338 & 1.85e-07 & grenoble & exp/exp\\_PingPong.csv & 2262 & real\\\\\n",
       "\t3 & 1132 & MPI\\_Send & 3 & 0.200342 & 1.63e-07 & grenoble & exp/exp\\_PingPong.csv & 2264 & real\\\\\n",
       "\t4 & 1133 & MPI\\_Send & 3 & 0.200345 & 1.56e-07 & grenoble & exp/exp\\_PingPong.csv & 2266 & real\\\\\n",
       "\t5 & 1134 & MPI\\_Send & 3 & 0.200349 & 1.54e-07 & grenoble & exp/exp\\_PingPong.csv & 2268 & real\\\\\n",
       "\t6 & 1135 & MPI\\_Send & 3 & 0.200352 & 1.64e-07 & grenoble & exp/exp\\_PingPong.csv & 2270 & real\\\\\n",
       "\\end{tabular}\n"
      ],
      "text/markdown": [
       "\n",
       "A data.frame: 6 × 9\n",
       "\n",
       "| <!--/--> | X &lt;int&gt; | op &lt;chr&gt; | msg_size &lt;int&gt; | start &lt;dbl&gt; | duration &lt;dbl&gt; | experiment &lt;chr&gt; | type &lt;chr&gt; | index &lt;int&gt; | origin &lt;chr&gt; |\n",
       "|---|---|---|---|---|---|---|---|---|---|\n",
       "| 1 | 1130 | MPI_Send | 3 | 0.200334 | 2.57e-07 | grenoble | exp/exp_PingPong.csv | 2260 | real |\n",
       "| 2 | 1131 | MPI_Send | 3 | 0.200338 | 1.85e-07 | grenoble | exp/exp_PingPong.csv | 2262 | real |\n",
       "| 3 | 1132 | MPI_Send | 3 | 0.200342 | 1.63e-07 | grenoble | exp/exp_PingPong.csv | 2264 | real |\n",
       "| 4 | 1133 | MPI_Send | 3 | 0.200345 | 1.56e-07 | grenoble | exp/exp_PingPong.csv | 2266 | real |\n",
       "| 5 | 1134 | MPI_Send | 3 | 0.200349 | 1.54e-07 | grenoble | exp/exp_PingPong.csv | 2268 | real |\n",
       "| 6 | 1135 | MPI_Send | 3 | 0.200352 | 1.64e-07 | grenoble | exp/exp_PingPong.csv | 2270 | real |\n",
       "\n"
      ],
      "text/plain": [
       "  X    op       msg_size start    duration experiment type                \n",
       "1 1130 MPI_Send 3        0.200334 2.57e-07 grenoble   exp/exp_PingPong.csv\n",
       "2 1131 MPI_Send 3        0.200338 1.85e-07 grenoble   exp/exp_PingPong.csv\n",
       "3 1132 MPI_Send 3        0.200342 1.63e-07 grenoble   exp/exp_PingPong.csv\n",
       "4 1133 MPI_Send 3        0.200345 1.56e-07 grenoble   exp/exp_PingPong.csv\n",
       "5 1134 MPI_Send 3        0.200349 1.54e-07 grenoble   exp/exp_PingPong.csv\n",
       "6 1135 MPI_Send 3        0.200352 1.64e-07 grenoble   exp/exp_PingPong.csv\n",
       "  index origin\n",
       "1 2260  real  \n",
       "2 2262  real  \n",
       "3 2264  real  \n",
       "4 2266  real  \n",
       "5 2268  real  \n",
       "6 2270  real  "
      ]
     },
     "metadata": {},
     "output_type": "display_data"
    }
   ],
   "source": [
    "df = read.csv(text=df_str)\n",
    "print(summary(df))\n",
    "head(df)"
   ]
  },
  {
   "cell_type": "markdown",
   "metadata": {},
   "source": [
    "## Clustering"
   ]
  },
  {
   "cell_type": "markdown",
   "metadata": {},
   "source": [
    "Calculating the intercept for the duration of each message."
   ]
  },
  {
   "cell_type": "code",
   "execution_count": 7,
   "metadata": {},
   "outputs": [],
   "source": [
    "df$intercept_estimate = df[[metric]] - df[[coeff_col_name]]*coeff_value"
   ]
  },
  {
   "cell_type": "markdown",
   "metadata": {},
   "source": [
    "Running dhist."
   ]
  },
  {
   "cell_type": "code",
   "execution_count": 55,
   "metadata": {},
   "outputs": [
    {
     "name": "stderr",
     "output_type": "stream",
     "text": [
      "Warning message in hist.default(x, breaks = cut.pt, plot = FALSE, probability = TRUE):\n",
      "“argument ‘probability’ is not made use of”\n"
     ]
    },
    {
     "data": {
      "text/plain": [
       "$heights\n",
       "\n",
       "          1           2           3           4           5           6 \n",
       "4510.135322 5863.669177 7666.843201 2453.222423 1045.499552  347.102832 \n",
       "          7           8           9          10          11          12 \n",
       "1448.764591  211.473846    0.000000    0.000000    0.000000    0.000000 \n",
       "         13 \n",
       "   1.778268 \n",
       "\n",
       "$xbr\n",
       " [1] 1.054988e-07 1.210706e-07 1.354500e-07 1.482141e-07 1.828565e-07\n",
       " [6] 2.538565e-07 4.000706e-07 5.307136e-07 8.678415e-07 1.523917e-06\n",
       "[11] 2.675975e-06 4.698973e-06 8.251327e-06 1.447928e-05\n",
       "\n",
       "$counts\n",
       "\n",
       "       1        2        3        4        5        6        7        8 \n",
       "620.9278 658.0722 690.4405 515.2837 342.9944 157.8873 409.3941 104.0000 \n",
       "       9       10       11       12       13 \n",
       "  0.0000   0.0000   0.0000   0.0000   1.0000 \n"
      ]
     },
     "metadata": {},
     "output_type": "display_data"
    }
   ],
   "source": [
    "data = df$intercept_estimate\n",
    "if (log) {\n",
    "    data = log(data)\n",
    "}\n",
    "\n",
    "dh = dhist(data, plot=FALSE)\n",
    "\n",
    "dh"
   ]
  },
  {
   "cell_type": "markdown",
   "metadata": {},
   "source": [
    "Saving result to cvs"
   ]
  },
  {
   "cell_type": "code",
   "execution_count": 56,
   "metadata": {},
   "outputs": [],
   "source": [
    "write.csv(list(xbr=dh$xbr), xbr_file)\n",
    "write.csv(dh$heights, height_file)"
   ]
  },
  {
   "cell_type": "markdown",
   "metadata": {},
   "source": [
    "## Visualizing"
   ]
  },
  {
   "cell_type": "markdown",
   "metadata": {},
   "source": [
    "Histogram with vertical lines at the mean of each cluster."
   ]
  },
  {
   "cell_type": "code",
   "execution_count": 58,
   "metadata": {},
   "outputs": [
    {
     "data": {
      "image/png": "[encoded data removed]",
      "text/plain": [
       "plot without title"
      ]
     },
     "metadata": {
      "image/png": {
       "height": 420,
       "width": 420
      }
     },
     "output_type": "display_data"
    }
   ],
   "source": [
    "library(ggplot2)\n",
    "\n",
    "if (log) {\n",
    "    dh$xbr = exp(dh$xbr)\n",
    "}\n",
    "\n",
    "ggplot(df, aes(x=intercept_estimate)) + geom_histogram(bins=100) +\n",
    "    geom_vline(xintercept=dh$xbr) + \n",
    "    theme_bw()"
   ]
  },
  {
   "cell_type": "markdown",
   "metadata": {},
   "source": [
    "Same but in log scale"
   ]
  },
  {
   "cell_type": "code",
   "execution_count": 59,
   "metadata": {},
   "outputs": [
    {
     "name": "stderr",
     "output_type": "stream",
     "text": [
      "Warning message:\n",
      "“Transformation introduced infinite values in continuous y-axis”\n",
      "Warning message:\n",
      "“Removed 59 rows containing missing values (geom_bar).”\n"
     ]
    },
    {
     "data": {
      "image/png": "[encoded data removed]",
      "text/plain": [
       "plot without title"
      ]
     },
     "metadata": {
      "image/png": {
       "height": 420,
       "width": 420
      }
     },
     "output_type": "display_data"
    }
   ],
   "source": [
    "ggplot(df, aes(x=intercept_estimate)) + geom_histogram(bins=100) +\n",
    "    geom_vline(xintercept=dh$xbr) + \n",
    "    scale_x_log10() + scale_y_log10() +\n",
    "    theme_bw()\n",
    "ggsave(paste0('plot_dhist_', unique(df$op), '.png'))"
   ]
  }
 ],
 "metadata": {
  "kernelspec": {
   "display_name": "R",
   "language": "R",
   "name": "ir"
  },
  "language_info": {
   "codemirror_mode": "r",
   "file_extension": ".r",
   "mimetype": "text/x-r-source",
   "name": "R",
   "pygments_lexer": "r",
   "version": "4.0.4"
  }
 },
 "nbformat": 4,
 "nbformat_minor": 4
}
