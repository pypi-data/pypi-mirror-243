{
 "cells": [
  {
   "cell_type": "code",
   "execution_count": 1,
   "metadata": {},
   "outputs": [],
   "source": [
    "%load_ext autoreload\n",
    "%autoreload 2"
   ]
  },
  {
   "cell_type": "code",
   "execution_count": 2,
   "metadata": {},
   "outputs": [],
   "source": [
    "import sys\n",
    "sys.path.append(\"..\")\n",
    "sys.path.append(\"../../wyss_ds\")\n"
   ]
  },
  {
   "cell_type": "code",
   "execution_count": 3,
   "metadata": {},
   "outputs": [],
   "source": [
    "from pathlib import Path\n",
    "from micromed_io.trc import MicromedTRC"
   ]
  },
  {
   "cell_type": "code",
   "execution_count": 4,
   "metadata": {},
   "outputs": [],
   "source": [
    "DATA_DIR = Path(r\"Y:\\ResearchDataArchive\\WCP-057-WYSSPER\\HUG\\patient_GS1997\\hug\")"
   ]
  },
  {
   "cell_type": "code",
   "execution_count": null,
   "metadata": {},
   "outputs": [],
   "source": [
    "mmtrc = MicromedTRC((DATA_DIR / \"EEG_2030297.TRC\"))"
   ]
  },
  {
   "cell_type": "code",
   "execution_count": null,
   "metadata": {},
   "outputs": [],
   "source": [
    "data = mmtrc.get_data()"
   ]
  },
  {
   "cell_type": "code",
   "execution_count": null,
   "metadata": {},
   "outputs": [],
   "source": [
    "mmtrc.get_markers()"
   ]
  },
  {
   "cell_type": "code",
   "execution_count": null,
   "metadata": {},
   "outputs": [],
   "source": [
    "mmtrc.get_notes()"
   ]
  },
  {
   "cell_type": "code",
   "execution_count": null,
   "metadata": {},
   "outputs": [],
   "source": [
    "import numpy as np"
   ]
  },
  {
   "cell_type": "code",
   "execution_count": null,
   "metadata": {},
   "outputs": [],
   "source": [
    "np.power(2, 31) - 1"
   ]
  },
  {
   "cell_type": "code",
   "execution_count": null,
   "metadata": {},
   "outputs": [],
   "source": [
    "data.shape"
   ]
  },
  {
   "cell_type": "code",
   "execution_count": null,
   "metadata": {},
   "outputs": [],
   "source": [
    "import matplotlib.pyplot as plt"
   ]
  },
  {
   "cell_type": "code",
   "execution_count": null,
   "metadata": {},
   "outputs": [],
   "source": [
    "%matplotlib qt"
   ]
  },
  {
   "cell_type": "code",
   "execution_count": null,
   "metadata": {},
   "outputs": [],
   "source": [
    "plt.figure()\n",
    "plt.plot(data[0,:])\n",
    "plt.show()"
   ]
  },
  {
   "cell_type": "code",
   "execution_count": 5,
   "metadata": {},
   "outputs": [],
   "source": [
    "from micromed_io.to_mne import create_mne_from_micromed_recording\n",
    "from wyss_ds.mne_utils import concatenate_and_fill_raws"
   ]
  },
  {
   "cell_type": "code",
   "execution_count": 6,
   "metadata": {},
   "outputs": [
    {
     "name": "stderr",
     "output_type": "stream",
     "text": [
      "WARNING:root:MKR channel(s) is not close to 50mV\n"
     ]
    },
    {
     "name": "stdout",
     "output_type": "stream",
     "text": [
      "Creating RawArray with float64 data, n_channels=233, n_times=4423936\n",
      "    Range : 0 ... 4423935 =      0.000 ...  2160.125 secs\n",
      "Ready.\n"
     ]
    },
    {
     "name": "stderr",
     "output_type": "stream",
     "text": [
      "WARNING:root:MKR channel(s) is not close to 50mV\n"
     ]
    },
    {
     "name": "stdout",
     "output_type": "stream",
     "text": [
      "Creating RawArray with float64 data, n_channels=233, n_times=4423936\n",
      "    Range : 0 ... 4423935 =      0.000 ...  2160.125 secs\n",
      "Ready.\n"
     ]
    },
    {
     "ename": "MemoryError",
     "evalue": "Unable to allocate 7.68 GiB for an array with shape (233, 4423936) and data type float64",
     "output_type": "error",
     "traceback": [
      "\u001b[1;31m---------------------------------------------------------------------------\u001b[0m",
      "\u001b[1;31mMemoryError\u001b[0m                               Traceback (most recent call last)",
      "\u001b[1;32mc:\\Users\\edemontalivet\\code\\micromed-io\\micromed_io\\tmp.ipynb Cell 16\u001b[0m line \u001b[0;36m3\n\u001b[0;32m      <a href='vscode-notebook-cell:/c%3A/Users/edemontalivet/code/micromed-io/micromed_io/tmp.ipynb#Y124sZmlsZQ%3D%3D?line=0'>1</a>\u001b[0m raws \u001b[39m=\u001b[39m []\n\u001b[0;32m      <a href='vscode-notebook-cell:/c%3A/Users/edemontalivet/code/micromed-io/micromed_io/tmp.ipynb#Y124sZmlsZQ%3D%3D?line=1'>2</a>\u001b[0m \u001b[39mfor\u001b[39;00m file \u001b[39min\u001b[39;00m [\u001b[39m'\u001b[39m\u001b[39mEEG_2030297\u001b[39m\u001b[39m'\u001b[39m, \u001b[39m'\u001b[39m\u001b[39mEEG_2030300\u001b[39m\u001b[39m'\u001b[39m, \u001b[39m'\u001b[39m\u001b[39mEEG_2030304\u001b[39m\u001b[39m'\u001b[39m]:\n\u001b[1;32m----> <a href='vscode-notebook-cell:/c%3A/Users/edemontalivet/code/micromed-io/micromed_io/tmp.ipynb#Y124sZmlsZQ%3D%3D?line=2'>3</a>\u001b[0m     mne_raw \u001b[39m=\u001b[39m create_mne_from_micromed_recording((DATA_DIR \u001b[39m/\u001b[39;49m \u001b[39m\"\u001b[39;49m\u001b[39mEEG_2030297.TRC\u001b[39;49m\u001b[39m\"\u001b[39;49m))\n\u001b[0;32m      <a href='vscode-notebook-cell:/c%3A/Users/edemontalivet/code/micromed-io/micromed_io/tmp.ipynb#Y124sZmlsZQ%3D%3D?line=3'>4</a>\u001b[0m     raws\u001b[39m.\u001b[39mappend(mne_raw\u001b[39m.\u001b[39mcopy())\n\u001b[0;32m      <a href='vscode-notebook-cell:/c%3A/Users/edemontalivet/code/micromed-io/micromed_io/tmp.ipynb#Y124sZmlsZQ%3D%3D?line=4'>5</a>\u001b[0m concat_mne \u001b[39m=\u001b[39m concatenate_and_fill_raws(raws)\n",
      "File \u001b[1;32mc:\\Users\\edemontalivet\\code\\micromed-io\\micromed_io\\..\\micromed_io\\to_mne.py:55\u001b[0m, in \u001b[0;36mcreate_mne_from_micromed_recording\u001b[1;34m(recording_file, sub_channels, ch_types)\u001b[0m\n\u001b[0;32m     53\u001b[0m \u001b[39mif\u001b[39;00m sub_channels \u001b[39mis\u001b[39;00m \u001b[39mNone\u001b[39;00m:\n\u001b[0;32m     54\u001b[0m     sub_channels \u001b[39m=\u001b[39m micromed_trc\u001b[39m.\u001b[39mmicromed_header\u001b[39m.\u001b[39mch_names\n\u001b[1;32m---> 55\u001b[0m sub_eegs \u001b[39m=\u001b[39m micromed_trc\u001b[39m.\u001b[39;49mget_data(picks\u001b[39m=\u001b[39;49msub_channels)\n\u001b[0;32m     57\u001b[0m info \u001b[39m=\u001b[39m mne\u001b[39m.\u001b[39mcreate_info(\n\u001b[0;32m     58\u001b[0m     ch_names\u001b[39m=\u001b[39msub_channels,\n\u001b[0;32m     59\u001b[0m     sfreq\u001b[39m=\u001b[39mmicromed_trc\u001b[39m.\u001b[39msfreq,\n\u001b[0;32m     60\u001b[0m     ch_types\u001b[39m=\u001b[39mch_types,\n\u001b[0;32m     61\u001b[0m )\n\u001b[0;32m     62\u001b[0m info[\u001b[39m\"\u001b[39m\u001b[39mdevice_info\u001b[39m\u001b[39m\"\u001b[39m] \u001b[39m=\u001b[39m {\n\u001b[0;32m     63\u001b[0m     \u001b[39m\"\u001b[39m\u001b[39mtype\u001b[39m\u001b[39m\"\u001b[39m: \u001b[39m\"\u001b[39m\u001b[39mMicromed\u001b[39m\u001b[39m\"\u001b[39m,\n\u001b[0;32m     64\u001b[0m     \u001b[39m\"\u001b[39m\u001b[39mmodel\u001b[39m\u001b[39m\"\u001b[39m: MICROMED_ACQ_EQUIPMENT[micromed_trc\u001b[39m.\u001b[39mmicromed_header\u001b[39m.\u001b[39macq_unit]\n\u001b[1;32m   (...)\u001b[0m\n\u001b[0;32m     67\u001b[0m     \u001b[39m\"\u001b[39m\u001b[39msite\u001b[39m\u001b[39m\"\u001b[39m: \u001b[39m\"\u001b[39m\u001b[39mUnknown\u001b[39m\u001b[39m\"\u001b[39m,\n\u001b[0;32m     68\u001b[0m }\n",
      "File \u001b[1;32mc:\\Users\\edemontalivet\\code\\micromed-io\\micromed_io\\..\\micromed_io\\trc.py:85\u001b[0m, in \u001b[0;36mMicromedTRC.get_data\u001b[1;34m(self, picks, keep_raw, use_volt)\u001b[0m\n\u001b[0;32m     83\u001b[0m     f\u001b[39m.\u001b[39mseek(\u001b[39mself\u001b[39m\u001b[39m.\u001b[39m_get_data_address())\n\u001b[0;32m     84\u001b[0m     b_data \u001b[39m=\u001b[39m f\u001b[39m.\u001b[39mread()\n\u001b[1;32m---> 85\u001b[0m     \u001b[39mself\u001b[39;49m\u001b[39m.\u001b[39;49mdecode_data_eeg_packet(b_data, picks, keep_raw, use_volt)\n\u001b[0;32m     86\u001b[0m \u001b[39mreturn\u001b[39;00m \u001b[39mself\u001b[39m\u001b[39m.\u001b[39mcurrent_data_eeg\n",
      "File \u001b[1;32mc:\\Users\\edemontalivet\\code\\micromed-io\\micromed_io\\..\\micromed_io\\in_out.py:352\u001b[0m, in \u001b[0;36mMicromedIO.decode_data_eeg_packet\u001b[1;34m(self, packet, picks, keep_raw, use_volt)\u001b[0m\n\u001b[0;32m    342\u001b[0m                 loc \u001b[39m*\u001b[39m\u001b[39m=\u001b[39m ratio\n\u001b[0;32m    343\u001b[0m             reshaped_data\u001b[39m.\u001b[39mappend(\n\u001b[0;32m    344\u001b[0m                 np\u001b[39m.\u001b[39mmultiply(\n\u001b[0;32m    345\u001b[0m                     np\u001b[39m.\u001b[39msubtract(\n\u001b[1;32m   (...)\u001b[0m\n\u001b[0;32m    349\u001b[0m                 )\n\u001b[0;32m    350\u001b[0m             )\n\u001b[1;32m--> 352\u001b[0m \u001b[39mself\u001b[39m\u001b[39m.\u001b[39mcurrent_data_eeg \u001b[39m=\u001b[39m np\u001b[39m.\u001b[39marray(reshaped_data)\n\u001b[0;32m    353\u001b[0m \u001b[39mself\u001b[39m\u001b[39m.\u001b[39mcurrent_channels \u001b[39m=\u001b[39m picks\n\u001b[0;32m    354\u001b[0m \u001b[39mif\u001b[39;00m keep_raw \u001b[39mis\u001b[39;00m \u001b[39mTrue\u001b[39;00m:\n",
      "\u001b[1;31mMemoryError\u001b[0m: Unable to allocate 7.68 GiB for an array with shape (233, 4423936) and data type float64"
     ]
    }
   ],
   "source": [
    "raws = []\n",
    "for file in ['EEG_2030297', 'EEG_2030300', 'EEG_2030304']:\n",
    "    mne_raw = create_mne_from_micromed_recording((DATA_DIR / file))\n",
    "    raws.append(mne_raw.copy())\n",
    "concat_mne = concatenate_and_fill_raws(raws)"
   ]
  },
  {
   "cell_type": "code",
   "execution_count": null,
   "metadata": {},
   "outputs": [],
   "source": []
  },
  {
   "cell_type": "code",
   "execution_count": null,
   "metadata": {},
   "outputs": [],
   "source": []
  },
  {
   "cell_type": "code",
   "execution_count": null,
   "metadata": {},
   "outputs": [],
   "source": [
    "%matplotlib qt"
   ]
  },
  {
   "cell_type": "code",
   "execution_count": null,
   "metadata": {},
   "outputs": [],
   "source": [
    "mne_raw.info"
   ]
  },
  {
   "cell_type": "code",
   "execution_count": null,
   "metadata": {},
   "outputs": [],
   "source": [
    "n_exp = 0\n",
    "for ann in mne_raw.annotations:\n",
    "    if ann[\"description\"] == \"254\":\n",
    "        n_exp+=1"
   ]
  },
  {
   "cell_type": "code",
   "execution_count": null,
   "metadata": {},
   "outputs": [],
   "source": [
    "n_exp"
   ]
  },
  {
   "cell_type": "code",
   "execution_count": null,
   "metadata": {},
   "outputs": [],
   "source": [
    "crop_mne = mne_raw.copy().crop(tmin=360, tmax=720)"
   ]
  },
  {
   "cell_type": "code",
   "execution_count": null,
   "metadata": {},
   "outputs": [],
   "source": [
    "crop_mne.plot(duration=10, scalings=\"auto\", proj=False);"
   ]
  },
  {
   "cell_type": "code",
   "execution_count": null,
   "metadata": {},
   "outputs": [],
   "source": []
  }
 ],
 "metadata": {
  "kernelspec": {
   "display_name": "base",
   "language": "python",
   "name": "python3"
  },
  "language_info": {
   "codemirror_mode": {
    "name": "ipython",
    "version": 3
   },
   "file_extension": ".py",
   "mimetype": "text/x-python",
   "name": "python",
   "nbconvert_exporter": "python",
   "pygments_lexer": "ipython3",
   "version": "3.11.4"
  }
 },
 "nbformat": 4,
 "nbformat_minor": 2
}
