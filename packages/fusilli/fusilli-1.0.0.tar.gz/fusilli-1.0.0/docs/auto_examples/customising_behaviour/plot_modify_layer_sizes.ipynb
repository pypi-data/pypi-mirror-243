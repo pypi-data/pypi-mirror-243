{
  "cells": [
    {
      "cell_type": "markdown",
      "metadata": {},
      "source": [
        "\n# How to modify fusion model architecture\n\nThis tutorial will show you how to modify the architectures of fusion models.\n\nMore guidance on what can be modified in each fusion model can be found in the `modifying-models` section.\n\n<div class=\"alert alert-danger\"><h4>Warning</h4><p>Some of the fusion models have been designed to work with specific architectures and there are some restrictions on how they can be modified.\n\n    For example, the channel-wise attention model requires the two modalities to have the same number of layers. Please read the notes section of the fusion model you are interested in to see if there are any restrictions.</p></div>\n"
      ]
    },
    {
      "cell_type": "markdown",
      "metadata": {},
      "source": [
        "## Setting up the experiment\n\nFirst, we will set up the experiment by importing the necessary packages, creating the simulated data, and setting the parameters for the experiment.\n\nFor a more detailed explanation of this process, please see the example tutorials.\n\n\n"
      ]
    },
    {
      "cell_type": "code",
      "execution_count": null,
      "metadata": {
        "collapsed": false
      },
      "outputs": [],
      "source": [
        "# sphinx_gallery_thumbnail_path = '_static/modify_thumbnail.png'\nimport matplotlib.pyplot as plt\nimport os\nimport torch.nn as nn\nfrom torch_geometric.nn import GCNConv, ChebConv\n\nfrom docs.examples import generate_sklearn_simulated_data\nfrom fusilli.data import get_data_module\nfrom fusilli.eval import RealsVsPreds\nfrom fusilli.train import train_and_save_models\n\nfrom fusilli.fusionmodels.tabularfusion.attention_weighted_GNN import AttentionWeightedGNN\n\nparams = {\n    \"test_size\": 0.2,\n    \"kfold_flag\": False,\n    \"log\": False,\n    \"pred_type\": \"regression\",\n    \"loss_log_dir\": \"loss_logs/modify_layers\",  # where the csv of the loss is saved for plotting later\n    \"checkpoint_dir\": \"checkpoints\",\n    \"loss_fig_path\": \"loss_figures\",\n}\n\n# empty the loss log directory (only needed for this tutorial)\nfor dir in os.listdir(params[\"loss_log_dir\"]):\n    for file in os.listdir(os.path.join(params[\"loss_log_dir\"], dir)):\n        os.remove(os.path.join(params[\"loss_log_dir\"], dir, file))\n    # remove dir\n    os.rmdir(os.path.join(params[\"loss_log_dir\"], dir))\n\nparams = generate_sklearn_simulated_data(\n    num_samples=100,\n    num_tab1_features=10,\n    num_tab2_features=15,\n    img_dims=(1, 100, 100),\n    params=params,\n)"
      ]
    },
    {
      "cell_type": "markdown",
      "metadata": {},
      "source": [
        "## Specifying the model modifications\n\nNow, we will specify the modifications we want to make to the model.\n\nWe are using the :class:`~fusilli.fusionmodels.tabularfusion.attention_weighted_GNN.AttentionWeightedGNN` model for this example.\nThis is a graph-based model which has a pretrained MLP (multi-layer perceptron) to get attention weights, and a graph neural network that uses the attention weights to perform the fusion.\n\nThe following modifications can be made to the method that makes the graph structure: :class:`~fusilli.fusionmodels.tabularfusion.attention_weighted_GNN.AttentionWeightedGraphMaker`:\n\n\n.. list-table::\n  :widths: 40 60\n  :header-rows: 1\n  :stub-columns: 0\n\n  * - Attribute\n    - Guidance\n  * - :attr:`~.AttentionWeightedGraphMaker.early_stop_callback`\n    - ``EarlyStopping`` object from ``from lightning.pytorch.callbacks import EarlyStopping``\n  * - :attr:`~.AttentionWeightedGraphMaker.edge_probability_threshold`\n    - Integer between 0 and 100.\n  * - :attr:`~.AttentionWeightedGraphMaker.attention_MLP_test_size`\n    - Float between 0 and 1.\n  * - :attr:`~.AttentionWeightedGraphMaker.AttentionWeightingMLPInstance.weighting_layers`\n    - ``nn.ModuleDict``: final layer output size must be the same as the input layer input size.\n  * - :attr:`~.AttentionWeightedGraphMaker.AttentionWeightingMLPInstance.fused_layers`\n    - ``nn.Sequential``\n\n\nThe following modifications can be made to the **fusion** model :class:`~fusilli.fusionmodels.tabularfusion.attention_weighted_GNN.AttentionWeightedGNN`:\n\n.. list-table::\n  :widths: 40 60\n  :header-rows: 1\n  :stub-columns: 0\n\n  * - Attribute\n    - Guidance\n  * - :attr:`~.AttentionWeightedGNN.graph_conv_layers`\n    - ``nn.Sequential`` of ``torch_geometric.nn`` Layers.\n  * - :attr:`~.AttentionWeightedGNN.dropout_prob`\n    - Float between (not including) 0 and 1.\n\nLet's modify the model! More info about how to do this can be found in `modifying-models`.\n\n"
      ]
    },
    {
      "cell_type": "code",
      "execution_count": null,
      "metadata": {
        "collapsed": false
      },
      "outputs": [],
      "source": [
        "layer_mods = {\n    \"AttentionWeightedGNN\": {\n        \"graph_conv_layers\": nn.Sequential(\n            ChebConv(15, 50, K=3),\n            ChebConv(50, 100, K=3),\n            ChebConv(100, 130, K=3),\n        ),\n        \"dropout_prob\": 0.4,\n    },\n    \"AttentionWeightedGraphMaker\": {\n        \"edge_probability_threshold\": 80,\n        \"attention_MLP_test_size\": 0.3,\n        \"AttentionWeightingMLPInstance.weighting_layers\": nn.ModuleDict(\n            {\n                \"Layer 1\": nn.Sequential(\n                    nn.Linear(25, 100),\n                    nn.ReLU()),\n                \"Layer 2\": nn.Sequential(\n                    nn.Linear(100, 75),\n                    nn.ReLU()),\n                \"Layer 3\": nn.Sequential(\n                    nn.Linear(75, 75),\n                    nn.ReLU()),\n                \"Layer 4\": nn.Sequential(\n                    nn.Linear(75, 100),\n                    nn.ReLU()),\n                \"Layer 5\": nn.Sequential(\n                    nn.Linear(100, 25),\n                    nn.ReLU()),\n            }\n        )},\n}"
      ]
    },
    {
      "cell_type": "markdown",
      "metadata": {},
      "source": [
        "## Loading the data and training the model\n\n"
      ]
    },
    {
      "cell_type": "code",
      "execution_count": null,
      "metadata": {
        "collapsed": false
      },
      "outputs": [],
      "source": [
        "# load data\ndatamodule = get_data_module(AttentionWeightedGNN, params, layer_mods=layer_mods, max_epochs=5)\n\n# train\ntrained_model_list = train_and_save_models(\n    data_module=datamodule,\n    params=params,\n    fusion_model=AttentionWeightedGNN,\n    layer_mods=layer_mods,\n    max_epochs=5,\n)"
      ]
    },
    {
      "cell_type": "markdown",
      "metadata": {},
      "source": [
        "It worked! Let's have a look at the model structure to see what changes have been made.\n\n"
      ]
    },
    {
      "cell_type": "code",
      "execution_count": null,
      "metadata": {
        "collapsed": false
      },
      "outputs": [],
      "source": [
        "print(\"Attention Weighted MLP:\\n\", datamodule.graph_maker_instance.AttentionWeightingMLPInstance)\nprint(\"Fusion model:\\n\", trained_model_list[0].model)"
      ]
    },
    {
      "cell_type": "markdown",
      "metadata": {},
      "source": [
        "You can see that the input features to the ``final_prediction`` layer changed to fit with our modification to the ``graph_conv_layers`` output features!\n\n## What happens when the modifications are incorrect?\n\nLet's see what happens when we try to modify an **attribute that doesn't exist**.\n\n\n"
      ]
    },
    {
      "cell_type": "code",
      "execution_count": null,
      "metadata": {
        "collapsed": false
      },
      "outputs": [],
      "source": [
        "layer_mods = {\n    \"AttentionWeightedGraphMaker\": {\n        \"AttentionWeightingMLPInstance.fake_attribute\": nn.Sequential(\n            nn.Linear(25, 100),\n            nn.ReLU(),\n        ),\n    }\n}\n\ntry:\n    datamodule = get_data_module(AttentionWeightedGNN, params, layer_mods=layer_mods, max_epochs=5)\nexcept Exception as error:\n    print(error)"
      ]
    },
    {
      "cell_type": "markdown",
      "metadata": {},
      "source": [
        "What about modifying an attribute with the **wrong data type**?\n\n* ``dropout_prob`` should be an ``float`` and between 0 and 1.\n* ``graph_conv_layers`` should be an ``nn.Sequential`` of graph convolutional layers.\n* ``edge_probability_threshold`` should be a ``float`` between 0 and 100.\n* ``AttentionWeightingMLPInstance.weighting_layers`` should be an ``nn.ModuleDict``\n\n"
      ]
    },
    {
      "cell_type": "code",
      "execution_count": null,
      "metadata": {
        "collapsed": false
      },
      "outputs": [],
      "source": [
        "layer_mods = {\n    \"AttentionWeightedGraphMaker\": {\n        \"AttentionWeightingMLPInstance.weighting_layers\": nn.Sequential(\n            nn.Linear(25, 75),\n            nn.ReLU(),\n            nn.Linear(75, 75),\n            nn.ReLU(),\n            nn.Linear(75, 25),\n            nn.ReLU()\n        ),\n    }\n}\n\ntry:\n    get_data_module(AttentionWeightedGNN, params, layer_mods=layer_mods, max_epochs=5)\nexcept Exception as error:\n    print(error)"
      ]
    },
    {
      "cell_type": "code",
      "execution_count": null,
      "metadata": {
        "collapsed": false
      },
      "outputs": [],
      "source": [
        "layer_mods = {\n    \"AttentionWeightedGraphMaker\": {\n        \"edge_probability_threshold\": \"two\",\n    }\n}\n\ntry:\n    get_data_module(AttentionWeightedGNN, params, layer_mods=layer_mods, max_epochs=5)\nexcept Exception as error:\n    print(error)"
      ]
    },
    {
      "cell_type": "markdown",
      "metadata": {},
      "source": [
        "## What about modifying multiple attributes with the **conflicting modifications**?\n\n\nFor this, let's switch to looking at the :class:`~fusilli.fusionmodels.tabularfusion.concat_feature_maps.ConcatTabularFeatureMaps` model.\nThis model concatenates the feature maps of the two modalities and then passes them through a prediction layer.\n\nWe can modify the layers that each tabular modality goes through before being concatenated, as well as the layers that come after the concatenation.\n\nThe output features of our modified ``mod1_layers`` and ``mod2_layers`` are 100 and 128, so the input features of the ``fused_layers`` should be 228. However, we've set the input features of the ``fused_layers`` to be 25.\n\nLet's see what happens when we try to modify the model in this way. It should throw an error when the data is passed through the model.\n\n"
      ]
    },
    {
      "cell_type": "code",
      "execution_count": null,
      "metadata": {
        "collapsed": false
      },
      "outputs": [],
      "source": [
        "layer_mods = {\n    \"ConcatTabularFeatureMaps\": {\n        \"mod1_layers\": nn.ModuleDict(\n            {\n                \"layer 1\": nn.Sequential(\n                    nn.Linear(10, 32),\n                    nn.ReLU(),\n                ),\n                \"layer 2\": nn.Sequential(\n                    nn.Linear(32, 66),\n                    nn.ReLU(),\n                ),\n                \"layer 3\": nn.Sequential(\n                    nn.Linear(66, 128),\n                    nn.ReLU(),\n                ),\n            }\n        ),\n        \"mod2_layers\": nn.ModuleDict(\n            {\n                \"layer 1\": nn.Sequential(\n                    nn.Linear(15, 45),\n                    nn.ReLU(),\n                ),\n                \"layer 2\": nn.Sequential(\n                    nn.Linear(45, 70),\n                    nn.ReLU(),\n                ),\n                \"layer 3\": nn.Sequential(\n                    nn.Linear(70, 100),\n                    nn.ReLU(),\n                ),\n            }\n        ),\n        \"fused_layers\": nn.Sequential(\n            nn.Linear(25, 150),\n            nn.ReLU(),\n            nn.Linear(150, 75),\n            nn.ReLU(),\n            nn.Linear(75, 50),\n            nn.ReLU(),\n        ),\n    },\n}\n\n# get the data and train the model\n\nfrom fusilli.fusionmodels.tabularfusion.concat_feature_maps import ConcatTabularFeatureMaps\n\ndatamodule = get_data_module(ConcatTabularFeatureMaps, params, layer_mods=layer_mods)\ntrained_model_list = train_and_save_models(\n    data_module=datamodule,\n    params=params,\n    fusion_model=ConcatTabularFeatureMaps,\n    layer_mods=layer_mods,\n    max_epochs=5,\n)"
      ]
    },
    {
      "cell_type": "markdown",
      "metadata": {},
      "source": [
        "**Wow it still works!**\nLet's have a look at what the model structure looks like to see what changes have been made to keep the model valid.\n\n"
      ]
    },
    {
      "cell_type": "code",
      "execution_count": null,
      "metadata": {
        "collapsed": false
      },
      "outputs": [],
      "source": [
        "print(trained_model_list[0].model)"
      ]
    },
    {
      "cell_type": "markdown",
      "metadata": {},
      "source": [
        "As you can see, a few corrections have been made to the modifications:\n\n* The ``fused_layers`` has been modified to have the correct number of nodes in the first layer to match the concatenated feature maps from the two modalities.\n\nIn general, there are checks in the fusion models to make sure that the modifications are valid.\nIf the input number of nodes to a modification is not correct, then the model will automatically calculate the correct number of nodes and correct the modification.\n\nThis is the case for quite a few modifications, but potentially not all of them so please be careful!\nMake sure to print out the model structure to check that the modifications have been made correctly and see what changes have been made to keep the model valid.\n\n"
      ]
    },
    {
      "cell_type": "code",
      "execution_count": null,
      "metadata": {
        "collapsed": false
      },
      "outputs": [],
      "source": [
        "# removing checkpoints\n\nfor file in os.listdir(params[\"checkpoint_dir\"]):\n    # remove file\n    os.remove(os.path.join(params[\"checkpoint_dir\"], file))"
      ]
    }
  ],
  "metadata": {
    "kernelspec": {
      "display_name": "Python 3",
      "language": "python",
      "name": "python3"
    },
    "language_info": {
      "codemirror_mode": {
        "name": "ipython",
        "version": 3
      },
      "file_extension": ".py",
      "mimetype": "text/x-python",
      "name": "python",
      "nbconvert_exporter": "python",
      "pygments_lexer": "ipython3",
      "version": "3.9.13"
    }
  },
  "nbformat": 4,
  "nbformat_minor": 0
}