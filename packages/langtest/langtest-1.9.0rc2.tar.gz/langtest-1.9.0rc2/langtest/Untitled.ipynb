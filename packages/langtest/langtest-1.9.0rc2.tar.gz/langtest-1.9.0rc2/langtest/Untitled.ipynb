{
 "cells": [
  {
   "cell_type": "code",
   "execution_count": 2,
   "id": "b6596677-883a-44f6-8d0d-fe93913691c3",
   "metadata": {},
   "outputs": [],
   "source": [
    "import sys\n",
    "sys.path.insert(0,\"..\")"
   ]
  },
  {
   "cell_type": "code",
   "execution_count": 4,
   "id": "87c1c0f6-1b53-4cf7-b5c7-c1bbb071790f",
   "metadata": {},
   "outputs": [],
   "source": [
    "from langtest import Harness"
   ]
  },
  {
   "cell_type": "code",
   "execution_count": null,
   "id": "1309a694-bb5d-498f-9bf2-3551490c4771",
   "metadata": {},
   "outputs": [],
   "source": [
    "\n",
    "h = Harness(task='ner', model={'model': 'dslim/bert-base-NER', 'hub':'huggingface'})\n",
    "\n",
    "# Generate, run and get a report on your test cases\n",
    "h.generate().run().report()"
   ]
  }
 ],
 "metadata": {
  "kernelspec": {
   "display_name": "Python 3 (ipykernel)",
   "language": "python",
   "name": "python3"
  },
  "language_info": {
   "codemirror_mode": {
    "name": "ipython",
    "version": 3
   },
   "file_extension": ".py",
   "mimetype": "text/x-python",
   "name": "python",
   "nbconvert_exporter": "python",
   "pygments_lexer": "ipython3",
   "version": "3.11.3"
  }
 },
 "nbformat": 4,
 "nbformat_minor": 5
}
