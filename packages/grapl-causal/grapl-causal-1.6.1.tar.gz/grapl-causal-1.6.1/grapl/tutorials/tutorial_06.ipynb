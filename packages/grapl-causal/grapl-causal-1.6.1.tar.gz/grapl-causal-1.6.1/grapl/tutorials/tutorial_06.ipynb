{
 "cells": [
  {
   "cell_type": "markdown",
   "id": "a5f89f00",
   "metadata": {},
   "source": [
    "# GRAPL: Tutorial 06\n",
    "\n",
    "Tutorial illustrating the use of the GRAPL library, for computing various forms of the same interventional expression obtained using different fixing sequences.\n",
    "\n",
    "**License**: CC BY-SA 4.0 2021. \n",
    "\n",
    "\n",
    "If you use this code, please cite:\n",
    "\n",
    "Little, M. A., Badawy, R. (2019). [Causal bootstrapping](https://arxiv.org/pdf/1910.09648.pdf), *ArXiV*, arXiv:1910.09648"
   ]
  },
  {
   "cell_type": "code",
   "execution_count": null,
   "id": "4d9fcdac",
   "metadata": {},
   "outputs": [],
   "source": [
    "import grapl.algorithms as algs\n",
    "import grapl.dsl as dsl"
   ]
  },
  {
   "cell_type": "markdown",
   "id": "f03f4b5a",
   "metadata": {},
   "source": [
    "### Create an ADMG from a GRAPL string"
   ]
  },
  {
   "cell_type": "code",
   "execution_count": null,
   "id": "bcd1d35a",
   "metadata": {},
   "outputs": [],
   "source": [
    "grapl_obj = dsl.GraplDSL()\n",
    "causal_graph = '\"A general ADMG graph\"; \\\n",
    "                Y; X; U; Z; \\\n",
    "                U -> Y; \\\n",
    "                Y-> Z; \\\n",
    "                U -> Z; \\\n",
    "                Z -> X; \\\n",
    "                X <-> Y;'\n",
    "G = grapl_obj.readgrapl(causal_graph)\n",
    "G"
   ]
  },
  {
   "cell_type": "markdown",
   "id": "fd8559df",
   "metadata": {},
   "source": [
    "### Find all interventional distribution expressions of $Y$ on $X$, using all possible fixing sequences:"
   ]
  },
  {
   "cell_type": "code",
   "execution_count": null,
   "id": "4f7523e6",
   "metadata": {},
   "outputs": [],
   "source": [
    "id_str_all, id_eqn_all, isident = algs.idfixall(G, {'Y'}, {'X'}, mode = \"all\")"
   ]
  },
  {
   "cell_type": "markdown",
   "id": "216db395",
   "metadata": {},
   "source": [
    "#### One form of the interventional expression:"
   ]
  },
  {
   "cell_type": "code",
   "execution_count": null,
   "id": "63c6963e",
   "metadata": {},
   "outputs": [],
   "source": [
    "id_eqn_all[0]"
   ]
  },
  {
   "cell_type": "markdown",
   "id": "8ae77864",
   "metadata": {},
   "source": [
    "#### Another form, obtained using a different fixing sequence:"
   ]
  },
  {
   "cell_type": "code",
   "execution_count": null,
   "id": "bda38a4b",
   "metadata": {},
   "outputs": [],
   "source": [
    "id_eqn_all[1]"
   ]
  },
  {
   "cell_type": "markdown",
   "id": "ee8eb135",
   "metadata": {},
   "source": [
    "### Form with the least number of conditional distribution terms:"
   ]
  },
  {
   "cell_type": "code",
   "execution_count": null,
   "id": "fb94aaf7",
   "metadata": {},
   "outputs": [],
   "source": [
    "id_str_short, id_eqn_short, isident = algs.idfixall(G, {'Y'}, {'X'}, mode = \"shortest\")\n",
    "id_eqn_short"
   ]
  },
  {
   "cell_type": "markdown",
   "id": "5e1f830c",
   "metadata": {},
   "source": [
    "### Above expression with the most number of marginalized variables:"
   ]
  },
  {
   "cell_type": "code",
   "execution_count": null,
   "id": "f0f53cd7",
   "metadata": {},
   "outputs": [],
   "source": [
    "id_str_mostmrg, id_eqn_mostmrg, isident = algs.idfixall(G, {'Y'}, {'X'}, mode = \"mostmrg\")\n",
    "id_eqn_mostmrg"
   ]
  },
  {
   "cell_type": "markdown",
   "metadata": {},
   "source": [
    "### A randomly selected form of the above:"
   ]
  },
  {
   "cell_type": "code",
   "execution_count": null,
   "id": "2daf3838",
   "metadata": {},
   "outputs": [],
   "source": [
    "id_str_rd, id_eqn_rd, isident = algs.idfixall(G, {'Y'}, {'X'}, mode = \"random\")\n",
    "id_eqn_rd"
   ]
  }
 ],
 "metadata": {
  "kernelspec": {
   "display_name": "Python 3 (ipykernel)",
   "language": "python",
   "name": "python3"
  },
  "language_info": {
   "codemirror_mode": {
    "name": "ipython",
    "version": 3
   },
   "file_extension": ".py",
   "mimetype": "text/x-python",
   "name": "python",
   "nbconvert_exporter": "python",
   "pygments_lexer": "ipython3",
   "version": "3.11.0"
  }
 },
 "nbformat": 4,
 "nbformat_minor": 5
}
