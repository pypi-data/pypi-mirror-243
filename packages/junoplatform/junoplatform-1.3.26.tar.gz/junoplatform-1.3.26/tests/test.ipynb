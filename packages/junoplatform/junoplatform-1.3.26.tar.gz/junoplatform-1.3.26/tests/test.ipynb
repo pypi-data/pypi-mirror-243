{
 "cells": [
  {
   "cell_type": "code",
   "execution_count": 1,
   "metadata": {},
   "outputs": [],
   "source": [
    "import redis\n",
    "\n",
    "cli = redis.Redis.from_url(\"redis://:myredis@192.168.101.157\")"
   ]
  },
  {
   "cell_type": "code",
   "execution_count": null,
   "metadata": {},
   "outputs": [],
   "source": []
  },
  {
   "cell_type": "code",
   "execution_count": 2,
   "metadata": {},
   "outputs": [],
   "source": [
    "import requests\n",
    "import logging\n",
    "import json"
   ]
  },
  {
   "cell_type": "code",
   "execution_count": 10,
   "metadata": {},
   "outputs": [
    {
     "name": "stdout",
     "output_type": "stream",
     "text": [
      "write opc success: [{'key': 'aa', 'value': 1.0}]\n"
     ]
    }
   ],
   "source": [
    "api = \"http://localhost:8888/api/write\"\n",
    "data = [{\"key\": \"aa\", \"value\": 1.0}]\n",
    "\n",
    "try:\n",
    "    newdata = {\"batch\": True, \"data\": data}\n",
    "\n",
    "    r = requests.post(api, json=newdata, timeout=5)\n",
    "    if r.status_code != 200:\n",
    "        logging.error(r.text)\n",
    "\n",
    "    print(f\"write opc success: {data}\")\n",
    "except Exception as e:\n",
    "    logging.error(str(e))\n",
    "    raise e"
   ]
  },
  {
   "cell_type": "code",
   "execution_count": 23,
   "metadata": {},
   "outputs": [],
   "source": [
    "import redis\n",
    "\n",
    "cli = redis.Redis.from_url(\"redis://:myredis@192.168.101.158\")"
   ]
  },
  {
   "cell_type": "code",
   "execution_count": 31,
   "metadata": {},
   "outputs": [
    {
     "data": {
      "text/plain": [
       "1"
      ]
     },
     "execution_count": 31,
     "metadata": {},
     "output_type": "execute_result"
    }
   ],
   "source": [
    "cli.delete(\"system.ai.abnormal.confirm.yudai.TEST\")"
   ]
  },
  {
   "cell_type": "code",
   "execution_count": 69,
   "metadata": {},
   "outputs": [
    {
     "data": {
      "text/plain": [
       "[b'{\"COD2\": 1, \"_time_\": \"2023/11/23 14:07:20\"}',\n",
       " b'{\"COD2\": 1, \"_time_\": \"2023/11/23 14:11:20\"}']"
      ]
     },
     "execution_count": 69,
     "metadata": {},
     "output_type": "execute_result"
    }
   ],
   "source": [
    "cli.lrange(\"system.ai.abnormal.confirm.yudai.TEST\", 0, -1)"
   ]
  },
  {
   "cell_type": "code",
   "execution_count": 4,
   "metadata": {},
   "outputs": [
    {
     "name": "stdout",
     "output_type": "stream",
     "text": [
      "[[1, 2], [0, 0], [1, 0], [0, 1]]\n"
     ]
    }
   ],
   "source": [
    "with open(\"ab_detect.mock.json\", \"r\") as f:\n",
    "    x = json.load(f)\n",
    "    print(x)"
   ]
  },
  {
   "cell_type": "code",
   "execution_count": 43,
   "metadata": {},
   "outputs": [
    {
     "name": "stdout",
     "output_type": "stream",
     "text": [
      "True\n",
      "1 2 me\n"
     ]
    }
   ],
   "source": [
    "import inspect\n",
    "\n",
    "\n",
    "def func1(func):\n",
    "    sig = inspect.signature(func)\n",
    "    keys = sig.parameters.keys()\n",
    "\n",
    "    ks = [k for k in sig.parameters.keys()]\n",
    "    print(ks == [\"a\", \"b\", \"user_confirms\"])\n",
    "\n",
    "    if len(sig.parameters) == 2:\n",
    "        func2(1, 2)\n",
    "    elif \"user_confirms\" in sig.parameters:\n",
    "        func(1, 2, \"me\")\n",
    "\n",
    "\n",
    "def func2(a, b, user_confirms):\n",
    "    print(a, b, user_confirms)\n",
    "\n",
    "\n",
    "func1(func2)"
   ]
  },
  {
   "cell_type": "code",
   "execution_count": 54,
   "metadata": {},
   "outputs": [
    {
     "data": {
      "text/plain": [
       "[1, 2, 3]"
      ]
     },
     "execution_count": 54,
     "metadata": {},
     "output_type": "execute_result"
    }
   ],
   "source": [
    "a = [1, 2]\n",
    "a.__add__([3])"
   ]
  }
 ],
 "metadata": {
  "kernelspec": {
   "display_name": "Python 3",
   "language": "python",
   "name": "python3"
  },
  "language_info": {
   "codemirror_mode": {
    "name": "ipython",
    "version": 3
   },
   "file_extension": ".py",
   "mimetype": "text/x-python",
   "name": "python",
   "nbconvert_exporter": "python",
   "pygments_lexer": "ipython3",
   "version": "3.11.6"
  }
 },
 "nbformat": 4,
 "nbformat_minor": 2
}
