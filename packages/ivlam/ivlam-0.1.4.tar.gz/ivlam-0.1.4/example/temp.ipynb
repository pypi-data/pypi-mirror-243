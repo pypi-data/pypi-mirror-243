{
 "cells": [
  {
   "cell_type": "code",
   "execution_count": 1,
   "metadata": {},
   "outputs": [
    {
     "name": "stdout",
     "output_type": "stream",
     "text": [
      "/home/vscode/.local/lib/python3.10/site-packages/ivlam/_ivlam.cpython-310-x86_64-linux-gnu.so\n",
      "d = ivlam_getdirection(prograde,rveca,rvecb)\n",
      "\n",
      "Wrapper for ``ivlam_getdirection``.\n",
      "\n",
      "Parameters\n",
      "----------\n",
      "prograde : input int\n",
      "rveca : input rank-1 array('d') with bounds (3)\n",
      "rvecb : input rank-1 array('d') with bounds (3)\n",
      "\n",
      "Returns\n",
      "-------\n",
      "d : int\n",
      "\n",
      "-1\n"
     ]
    }
   ],
   "source": [
    "import inspect\n",
    "from ivlam import _ivlam\n",
    "\n",
    "print(inspect.getfile(_ivlam))\n",
    "\n",
    "print(_ivlam.ivlam_getdirection.__doc__)\n",
    "\n",
    "print(_ivlam.ivlam_getdirection(1,[1.,2.,3.],[2.,-3.,-4.]))"
   ]
  },
  {
   "cell_type": "code",
   "execution_count": null,
   "metadata": {},
   "outputs": [
    {
     "name": "stdout",
     "output_type": "stream",
     "text": [
      "\n",
      "    This function converts prograde/retrograde to the d variable\n",
      "\n",
      "    Parameters\n",
      "    ----------\n",
      "    prograde: bool : if true/false, the output d represents prograde/retrograde solution\n",
      "    rveca: input rank-1 array('d') with bounds (3): The initial position vector.\n",
      "    rvecb: input rank-1 array('d') with bounds (3): The final position vector.\n",
      "\n",
      "    Returns:\n",
      "    -------\n",
      "    d: The direction of travel. d=1 is 0<=theta<=pi, d=-1 i is pi<theta<2pi\n",
      "    \n",
      "-1\n"
     ]
    }
   ],
   "source": [
    "from ivlam import *\n",
    "print(ivlam.getdirection.__doc__)\n",
    "print(ivlam.getdirection(True,[1.,2.,3.],[2.,-3.,-4.]))"
   ]
  },
  {
   "cell_type": "code",
   "execution_count": null,
   "metadata": {},
   "outputs": [
    {
     "name": "stdout",
     "output_type": "stream",
     "text": [
      "\n",
      "    This function converts prograde/retrograde to the d variable\n",
      "\n",
      "    Parameters\n",
      "    ----------\n",
      "    prograde: bool : if true/false, the output d represents prograde/retrograde solution\n",
      "    rveca: input rank-1 array('d') with bounds (3): The initial position vector.\n",
      "    rvecb: input rank-1 array('d') with bounds (3): The final position vector.\n",
      "\n",
      "    Returns:\n",
      "    -------\n",
      "    d: The direction of travel. d=1 is 0<=theta<=pi, d=-1 i is pi<theta<2pi\n",
      "    \n",
      "-1\n"
     ]
    }
   ],
   "source": [
    "import ivlam\n",
    "print(ivlam.getdirection.__doc__)\n",
    "print(ivlam.getdirection(True,[1.,2.,3.],[2.,-3.,-4.]))"
   ]
  },
  {
   "cell_type": "code",
   "execution_count": null,
   "metadata": {},
   "outputs": [
    {
     "name": "stdout",
     "output_type": "stream",
     "text": [
      "v1vec,v2vec,uptonhave,inforeturnstatusn,infohalfrevstatus = ivlam_thrun(r1vec,r2vec,tof,direction,uptonwant,dimv)\n",
      "\n",
      "Wrapper for ``ivlam_thrun``.\n",
      "\n",
      "Parameters\n",
      "----------\n",
      "r1vec : input rank-1 array('d') with bounds (3)\n",
      "r2vec : input rank-1 array('d') with bounds (3)\n",
      "tof : input float\n",
      "direction : input int\n",
      "uptonwant : input int\n",
      "dimv : input int\n",
      "\n",
      "Returns\n",
      "-------\n",
      "v1vec : rank-2 array('d') with bounds (3,1 + 2 * dimv)\n",
      "v2vec : rank-2 array('d') with bounds (3,1 + 2 * dimv)\n",
      "uptonhave : int\n",
      "inforeturnstatusn : int\n",
      "infohalfrevstatus : int\n",
      "\n"
     ]
    }
   ],
   "source": [
    "import inspect\n",
    "from ivlam import _ivlam\n",
    "\n",
    "print(_ivlam.ivlam_thrun.__doc__)"
   ]
  }
 ],
 "metadata": {
  "kernelspec": {
   "display_name": "Python 3",
   "language": "python",
   "name": "python3"
  },
  "language_info": {
   "codemirror_mode": {
    "name": "ipython",
    "version": 3
   },
   "file_extension": ".py",
   "mimetype": "text/x-python",
   "name": "python",
   "nbconvert_exporter": "python",
   "pygments_lexer": "ipython3",
   "version": "3.10.13"
  }
 },
 "nbformat": 4,
 "nbformat_minor": 2
}
