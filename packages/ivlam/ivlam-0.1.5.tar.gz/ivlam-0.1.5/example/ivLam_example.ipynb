{
 "cells": [
  {
   "cell_type": "markdown",
   "metadata": {},
   "source": [
    "# 复现 ivLam Example Driver"
   ]
  },
  {
   "cell_type": "code",
   "execution_count": 1,
   "metadata": {},
   "outputs": [],
   "source": [
    "import numpy as np\n",
    "from ivlam import *"
   ]
  },
  {
   "cell_type": "markdown",
   "metadata": {},
   "source": [
    "## 设置问题参数"
   ]
  },
  {
   "cell_type": "code",
   "execution_count": 2,
   "metadata": {},
   "outputs": [],
   "source": [
    "r1vec=np.array([1.0,2.0,3.0])  \n",
    "r2vec=np.array([2.0,-3.0,-4.0])\n",
    "tof=450.0\n",
    "\n",
    "prograde=True\n",
    "direction=ivlam.getdirection(prograde,r1vec,r2vec)"
   ]
  },
  {
   "cell_type": "markdown",
   "metadata": {},
   "source": [
    "## 初始化系数文件"
   ]
  },
  {
   "cell_type": "code",
   "execution_count": 3,
   "metadata": {},
   "outputs": [
    {
     "name": "stdout",
     "output_type": "stream",
     "text": [
      " successfully deallocated the memory from ivLam routines...\n",
      " reading ivLam tree coefficient file: /home/vscode/.local/lib/python3.10/site-packages/ivlam/ivLamTree_20210202_160219_i2d8.bin\n",
      " successfully loaded ivLam ceofficient file...\n"
     ]
    }
   ],
   "source": [
    "\n",
    "infoload = ivlam.initialize(-1)\n",
    "if(infoload!=0):\n",
    "    print('Error in ivlam_initialize')"
   ]
  },
  {
   "cell_type": "markdown",
   "metadata": {},
   "source": [
    "## 一次性计算所有解"
   ]
  },
  {
   "cell_type": "code",
   "execution_count": 4,
   "metadata": {},
   "outputs": [
    {
     "name": "stdout",
     "output_type": "stream",
     "text": [
      "[[-0.54991482 -0.54305686 -0.53928336 -0.53636625 -0.53387945 -0.53163501\n",
      "  -0.52950725 -0.52734852 -0.58927597 -0.58468459 -0.58043856 -0.57619175\n",
      "  -0.57167065 -0.56640522 -0.55814116]\n",
      " [ 0.08430624  0.13885056  0.17128414  0.19779737  0.22155688  0.24405479\n",
      "   0.26644428  0.29038075 -0.16381038 -0.13869827 -0.11478367 -0.09013533\n",
      "  -0.0630105  -0.03013242  0.0247465 ]\n",
      " [ 0.04187822  0.12077839  0.16765115  0.20594392  0.24024133  0.27270184\n",
      "   0.3049908   0.33949414 -0.3181971  -0.28166675 -0.24689647 -0.21107787\n",
      "  -0.17168223 -0.12396135 -0.04438231]]\n",
      "[[ 0.35993782  0.33647014  0.3227308   0.31161786  0.30174915  0.29248242\n",
      "   0.28333519  0.27363797  0.47246151  0.46064339  0.44947819  0.43806196\n",
      "   0.42560642  0.41066074  0.3860849 ]\n",
      " [ 0.0521612   0.10777693  0.14082924  0.16783815  0.19203418  0.21493877\n",
      "   0.23772661  0.26208195 -0.20132149 -0.17562963 -0.15117057 -0.12596885\n",
      "  -0.09824423 -0.0646521  -0.00861294]\n",
      " [ 0.12593569  0.2020342   0.24728902  0.28428562  0.31744156  0.34883859\n",
      "   0.3800859   0.41349393 -0.22010763 -0.18509328 -0.15174678 -0.11737522\n",
      "  -0.07954798 -0.03369432  0.04285078]]\n"
     ]
    }
   ],
   "source": [
    "dimensionV=10\n",
    "v1vec,v2vec,uptonhave,inforeturnstatusn,infohalfrevstatus = ivlam.thrun(r1vec,r2vec,tof,direction,dimensionV,dimensionV)\n",
    "if(inforeturnstatusn!=0):\n",
    "    print('Error in ivlam_thrun')\n",
    "if(infohalfrevstatus!=0):\n",
    "    print('This example is very close to the nPi transfer')\n",
    "print(v1vec[:,dimensionV-uptonhave:dimensionV+uptonhave+1])\n",
    "print(v2vec[:,dimensionV-uptonhave:dimensionV+uptonhave+1])"
   ]
  },
  {
   "cell_type": "markdown",
   "metadata": {},
   "source": [
    "## 逐圈验证Lambert解"
   ]
  },
  {
   "cell_type": "code",
   "execution_count": 5,
   "metadata": {},
   "outputs": [
    {
     "name": "stdout",
     "output_type": "stream",
     "text": [
      "0.0\n",
      "0.0\n",
      "0.0\n",
      "0.0\n",
      "0.0\n",
      "0.0\n",
      "0.0\n",
      "0.0\n",
      "0.0\n",
      "0.0\n",
      "0.0\n",
      "0.0\n",
      "0.0\n",
      "0.0\n",
      "0.0\n"
     ]
    }
   ],
   "source": [
    "\n",
    "from numpy import linalg\n",
    "for Ntile in range(-uptonhave,uptonhave+1):\n",
    "    v1veca,v2veca,v1vecb,v2vecb,inforeturnstatus,infohalfrevstatus = ivlam.singlen(r1vec,r2vec,tof,direction,Ntile,False)\n",
    "    print(linalg.norm(v1veca - v1vec[:,dimensionV+Ntile]))"
   ]
  },
  {
   "cell_type": "markdown",
   "metadata": {},
   "source": [
    "## 验证导数"
   ]
  },
  {
   "cell_type": "code",
   "execution_count": 6,
   "metadata": {},
   "outputs": [
    {
     "name": "stdout",
     "output_type": "stream",
     "text": [
      "[[ 4.48271307e-02  2.95094029e-02  7.87873490e-02  1.56278602e-02\n",
      "  -1.13611018e-02 -3.81636322e-02]\n",
      " [ 2.95094029e-02 -2.29433149e-01 -2.12741803e-02  6.08175308e-02\n",
      "   3.95051346e-02 -1.76536256e-01]\n",
      " [ 7.87873490e-02 -2.12741803e-02 -2.30726633e-01  6.49487002e-02\n",
      "  -1.86847489e-01 -8.84843322e-02]\n",
      " [-1.56278602e-02 -6.08175308e-02 -6.49487002e-02 -2.88690914e-02\n",
      "   2.44213153e-03 -1.42622220e-02]\n",
      " [ 1.13611018e-02 -3.95051346e-02  1.86847489e-01  2.44213153e-03\n",
      "   1.45192045e-01  7.14978289e-02]\n",
      " [ 3.81636322e-02  1.76536256e-01  8.84843322e-02 -1.42622220e-02\n",
      "   7.14978289e-02  1.95490073e-01]\n",
      " [ 2.26285896e-04  1.71894963e-03  2.48796889e-03 -7.46758880e-04\n",
      "   1.75332724e-03  2.39807336e-03]]\n",
      "d2zdyt\n",
      "[[ 3.31330740e-02 -2.78658075e-02 -6.88819816e-02  1.31758178e-02\n",
      "  -3.73203015e-02 -3.17048884e-02]\n",
      " [-2.78658075e-02  5.41369544e-02 -9.67556487e-02 -8.46914155e-03\n",
      "  -6.94921430e-02 -2.77920197e-04]\n",
      " [-6.88819816e-02 -9.67556487e-02 -3.36935845e-02  6.56498773e-03\n",
      "   1.95854900e-05 -6.44306774e-02]\n",
      " [-1.31758178e-02  8.46914155e-03 -6.56498773e-03 -1.30692768e-05\n",
      "  -7.29822203e-03  3.11483733e-03]\n",
      " [ 3.73203015e-02  6.94921430e-02 -1.95854900e-05 -7.29822203e-03\n",
      "  -3.56553409e-03  5.20299439e-02]\n",
      " [ 3.17048884e-02  2.77920197e-04  6.44306774e-02  3.11483733e-03\n",
      "   5.20299439e-02  3.04844277e-02]\n",
      " [ 6.32793901e-04  5.30732692e-04  7.64573241e-04 -7.22718020e-05\n",
      "   6.00454965e-04  8.21623818e-04]]\n"
     ]
    }
   ],
   "source": [
    "Ntile = -7\n",
    "v1vec,v2vec,inforeturnstatus,infohalfrevstatus,dzdyt,d2zdyt = ivlam.ntildewithderivs(r1vec,r2vec,tof,direction,Ntile,True)\n",
    "print(dzdyt)\n",
    "print('d2zdyt')\n",
    "print(d2zdyt[0,:,:])"
   ]
  }
 ],
 "metadata": {
  "kernelspec": {
   "display_name": "Python 3",
   "language": "python",
   "name": "python3"
  },
  "language_info": {
   "codemirror_mode": {
    "name": "ipython",
    "version": 3
   },
   "file_extension": ".py",
   "mimetype": "text/x-python",
   "name": "python",
   "nbconvert_exporter": "python",
   "pygments_lexer": "ipython3",
   "version": "3.10.13"
  }
 },
 "nbformat": 4,
 "nbformat_minor": 2
}
