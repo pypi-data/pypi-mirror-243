{
 "cells": [
  {
   "cell_type": "code",
   "execution_count": null,
   "id": "0afdf1c4-7cdf-4192-8f78-0f3d8ae1c0a9",
   "metadata": {},
   "outputs": [],
   "source": [
    "import xarray as xr\n",
    "import h3\n",
    "import h3.unstable.vect\n",
    "import h3.api.numpy_int\n",
    "import numpy as np"
   ]
  },
  {
   "cell_type": "code",
   "execution_count": null,
   "id": "e7463e7f-9890-4361-bb62-3291085325cc",
   "metadata": {},
   "outputs": [],
   "source": [
    "ds = xr.tutorial.load_dataset(\"air_temperature\").load()\n",
    "ds"
   ]
  },
  {
   "cell_type": "code",
   "execution_count": null,
   "id": "d42d0ee9-9612-478d-b100-5acb72b29f08",
   "metadata": {},
   "outputs": [],
   "source": [
    "ds.air[0].plot()"
   ]
  },
  {
   "cell_type": "code",
   "execution_count": null,
   "id": "28e4380f-ee01-4348-acea-fd92873466f9",
   "metadata": {},
   "outputs": [],
   "source": [
    "resolution = 3\n",
    "\n",
    "lon, lat = xr.broadcast(ds.lon, ds.lat)\n",
    "%time index = h3.unstable.vect.geo_to_h3(lat.data.ravel(), lon.data.ravel(), resolution)\n",
    "index.shape = lon.shape\n",
    "\n",
    "len(np.unique(index)) / lon.size"
   ]
  },
  {
   "cell_type": "code",
   "execution_count": null,
   "id": "d43cc328-eead-49c2-9736-320a21a43bce",
   "metadata": {},
   "outputs": [],
   "source": [
    "index.shape"
   ]
  },
  {
   "cell_type": "code",
   "execution_count": null,
   "id": "677f67bf-58a6-4ae5-9513-e28326f4a6fa",
   "metadata": {},
   "outputs": [],
   "source": [
    "ds.lon.shape"
   ]
  },
  {
   "cell_type": "code",
   "execution_count": null,
   "id": "342e314e-6a37-4a51-a7d8-cf3ac3fe7c9a",
   "metadata": {},
   "outputs": [],
   "source": [
    "ds.coords[\"index\"] = (\"lat\", \"lon\"), index.transpose()\n",
    "ds"
   ]
  },
  {
   "cell_type": "code",
   "execution_count": null,
   "id": "3d8d33b5-fe1e-4699-ba40-2ce0ba6171e2",
   "metadata": {},
   "outputs": [],
   "source": [
    "ds.index.plot()"
   ]
  },
  {
   "cell_type": "code",
   "execution_count": null,
   "id": "0087d85f-4dcf-427a-8c65-36edc0e135f0",
   "metadata": {},
   "outputs": [],
   "source": [
    "lon_min, lon_max = ds.lon.min().values.item(), ds.lon.max().values.item()\n",
    "lat_min, lat_max = ds.lat.min().values.item(), ds.lat.max().values.item()"
   ]
  },
  {
   "cell_type": "code",
   "execution_count": null,
   "id": "b859838c-6795-4c9d-9674-fa0834b50d0a",
   "metadata": {},
   "outputs": [],
   "source": [
    "import shapely\n",
    "\n",
    "bbox_coords = [\n",
    "    (lon_min - 360, lat_min),\n",
    "    (lon_min - 360, lat_max),\n",
    "    (lon_max - 360, lat_max),\n",
    "    (lon_max - 360, lat_min),\n",
    "    (lon_min - 360, lat_min),\n",
    "]\n",
    "bbox = shapely.Polygon(bbox_coords)\n",
    "bbox"
   ]
  },
  {
   "cell_type": "code",
   "execution_count": null,
   "id": "0034cd01-b4c0-444b-a504-7501eb50a860",
   "metadata": {},
   "outputs": [],
   "source": [
    "bbox_coords"
   ]
  },
  {
   "cell_type": "code",
   "execution_count": null,
   "id": "ef4010c4-ed57-48ff-9e3a-30d23fdeed80",
   "metadata": {},
   "outputs": [],
   "source": [
    "# h3 wants lat first\n",
    "bbox_coords_lat_first = [(lat, lon) for lon, lat in bbox_coords]\n",
    "bbox_indexes = np.array(\n",
    "    list(h3.api.basic_int.polyfill_polygon(bbox_coords_lat_first, resolution))\n",
    ")\n",
    "bbox_indexes.shape"
   ]
  },
  {
   "cell_type": "code",
   "execution_count": null,
   "id": "314d0ef5-ad12-47e3-8608-f3ddea0ec9ce",
   "metadata": {},
   "outputs": [],
   "source": [
    "ll_points = np.array([h3.api.numpy_int.h3_to_geo(i) for i in bbox_indexes])\n",
    "ll_points_lon_first = ll_points[:, ::-1]"
   ]
  },
  {
   "cell_type": "code",
   "execution_count": null,
   "id": "c88beede-bcdb-4d73-a2ee-a65ef96aaa18",
   "metadata": {},
   "outputs": [],
   "source": [
    "coords = {\"cell\": bbox_indexes}\n",
    "\n",
    "# remember to re-add the 360 degree offset\n",
    "dsi = ds.interp(\n",
    "    lon=xr.DataArray(ll_points_lon_first[:, 0] + 360, dims=\"cell\", coords=coords),\n",
    "    lat=xr.DataArray(ll_points_lon_first[:, 1], dims=\"cell\", coords=coords),\n",
    ")\n",
    "dsi"
   ]
  },
  {
   "cell_type": "code",
   "execution_count": null,
   "id": "b05fe8f0-777e-41d0-be1a-b0ea3a8c1bd1",
   "metadata": {},
   "outputs": [],
   "source": [
    "dsi2 = dsi.drop_vars([\"lon\", \"lat\", \"index\"])\n",
    "dsi2.cell.attrs = {\"grid_name\": \"h3\", \"resolution\": resolution}\n",
    "dsi2.to_netcdf(\"data/h3_example.nc\")\n",
    "dsi2"
   ]
  },
  {
   "cell_type": "code",
   "execution_count": null,
   "id": "ee36ae0b-185b-4cba-b812-959527bff0ac",
   "metadata": {},
   "outputs": [],
   "source": []
  }
 ],
 "metadata": {
  "language_info": {
   "codemirror_mode": {
    "name": "ipython",
    "version": 3
   },
   "file_extension": ".py",
   "mimetype": "text/x-python",
   "name": "python",
   "nbconvert_exporter": "python",
   "pygments_lexer": "ipython3",
   "version": "3.12.0"
  }
 },
 "nbformat": 4,
 "nbformat_minor": 5
}
