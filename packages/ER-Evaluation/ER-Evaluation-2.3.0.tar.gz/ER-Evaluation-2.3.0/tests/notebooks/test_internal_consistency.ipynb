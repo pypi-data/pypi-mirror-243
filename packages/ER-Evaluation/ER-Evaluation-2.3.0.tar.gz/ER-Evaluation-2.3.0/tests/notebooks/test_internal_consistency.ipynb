{
 "cells": [
  {
   "cell_type": "code",
   "execution_count": 3,
   "metadata": {},
   "outputs": [],
   "source": [
    "import pandas as pd\n",
    "from hamcrest import assert_that, equal_to\n",
    "\n",
    "from er_evaluation.error_analysis import (\n",
    "    record_error_table,\n",
    "    cluster_sizes_from_table\n",
    ")\n",
    "from er_evaluation.estimators import (\n",
    "    pairwise_recall_estimator,\n",
    "    pairwise_precision_estimator,\n",
    ")\n",
    "from er_evaluation.estimators.from_table import (\n",
    "    pairwise_precision_estimator_from_table,\n",
    "    pairwise_recall_estimator_from_table,\n",
    ")"
   ]
  },
  {
   "attachments": {},
   "cell_type": "markdown",
   "metadata": {},
   "source": [
    "## Test two different precision/recall estimator computations are equal "
   ]
  },
  {
   "cell_type": "code",
   "execution_count": 4,
   "metadata": {},
   "outputs": [],
   "source": [
    "prediction = pd.Series(index=[1,2,3,4,5,6,7,8], data=[1,1,2,3,2,4,4,4])\n",
    "reference = pd.Series(index=[1,2,3,4,5,6,7,8], data=[\"c1\", \"c1\", \"c1\", \"c2\", \"c2\", \"c3\", \"c3\", \"c4\"])\n",
    "sample = pd.Series(index=[1,2,3,4,5], data=[\"c1\", \"c1\", \"c1\", \"c2\", \"c2\"])\n",
    "\n",
    "for prediction, sample in [\n",
    "    (prediction, sample),\n",
    "    (sample, prediction),\n",
    "    (prediction, reference),\n",
    "    (reference, prediction),\n",
    "    (prediction, prediction),\n",
    "]:\n",
    "    error_table = record_error_table(prediction, sample)\n",
    "    cs = cluster_sizes_from_table(error_table)\n",
    "    weights = 1/cs\n",
    "\n",
    "    assert_that(\n",
    "        pairwise_precision_estimator(prediction, sample, weights=\"cluster_size\"),\n",
    "        equal_to(\n",
    "            pairwise_precision_estimator_from_table(error_table, weights)\n",
    "        )\n",
    "    )\n",
    "    assert_that(\n",
    "        pairwise_recall_estimator(prediction, sample, weights=\"cluster_size\"),\n",
    "        equal_to(\n",
    "            pairwise_recall_estimator_from_table(error_table, weights)\n",
    "        )\n",
    "    )"
   ]
  }
 ],
 "metadata": {
  "kernelspec": {
   "display_name": "er-evaluation",
   "language": "python",
   "name": "python3"
  },
  "language_info": {
   "codemirror_mode": {
    "name": "ipython",
    "version": 3
   },
   "file_extension": ".py",
   "mimetype": "text/x-python",
   "name": "python",
   "nbconvert_exporter": "python",
   "pygments_lexer": "ipython3",
   "version": "3.10.8"
  },
  "orig_nbformat": 4,
  "vscode": {
   "interpreter": {
    "hash": "a7cfe58095853939316acebc405e10b3a49f46616572691f7cf90ff724f2bfcd"
   }
  }
 },
 "nbformat": 4,
 "nbformat_minor": 2
}
