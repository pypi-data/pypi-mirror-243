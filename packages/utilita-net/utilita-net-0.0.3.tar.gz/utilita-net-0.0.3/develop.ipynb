{
 "cells": [
  {
   "cell_type": "code",
   "execution_count": 1,
   "metadata": {},
   "outputs": [],
   "source": [
    "%load_ext autoreload\n",
    "# NEW CELL\n",
    "%autoreload 2"
   ]
  },
  {
   "cell_type": "code",
   "execution_count": 2,
   "metadata": {},
   "outputs": [],
   "source": [
    "application_settings = {\n",
    "    \"backend_port\": 21774,\n",
    "    \"client_id\": \"898b8d54-54fe-4128-8819-11fd7bed011a\",\n",
    "    \"tenant_id\": \"ca19e2be-cf9c-447c-8053-e374be7c1ceb\",\n",
    "    \"redirect_uri\": \"http://localhost:21774/token\",\n",
    "    \"authority\": \"https://login.microsoftonline.com/ca19e2be-cf9c-447c-8053-e374be7c1ceb\",\n",
    "}\n",
    "\n",
    "request_scopes = [\n",
    "        \"User.Read\",\n",
    "        \"Chat.Create\",\n",
    "        \"Chat.ReadWrite\",\n",
    "        \"ChatMessage.Read\",\n",
    "        \"ChatMessage.Send\",\n",
    "        \"Sites.ReadWrite.All\",\n",
    "        \"Team.ReadBasic.All\",\n",
    "        \"Channel.ReadBasic.All\",\n",
    "        \"ChannelMessage.Send\"\n",
    "    ]"
   ]
  },
  {
   "cell_type": "code",
   "execution_count": 10,
   "metadata": {},
   "outputs": [
    {
     "name": "stderr",
     "output_type": "stream",
     "text": [
      "2023-11-19 01:04:31,206 - microsoft_helper - DEBUG - Defaulting db_path to C:\\Users\\tommy rojo\\AppData\\Local\\MicrosoftHelper\\mshelper.db\n",
      "2023-11-19 01:04:31,206 - microsoft_helper - DEBUG - db_path is C:\\Users\\tommy rojo\\AppData\\Local\\MicrosoftHelper\\mshelper.db\n",
      "2023-11-19 01:04:31,207 - microsoft_helper - DEBUG - full_connect_string is file:C:\\Users\\tommy rojo\\AppData\\Local\\MicrosoftHelper\\mshelper.db?mode=ro\n",
      "2023-11-19 01:04:31,208 - microsoft_helper - DEBUG - database is in ro mode\n",
      "2023-11-19 01:04:31,209 - microsoft_helper - WARNING - Could not find tommy.rojom@eataly.com in the database. Please call login().\n"
     ]
    },
    {
     "ename": "Exception",
     "evalue": "Could not get cached application settings from database. You must supply application_settings.",
     "output_type": "error",
     "traceback": [
      "\u001b[1;31m---------------------------------------------------------------------------\u001b[0m",
      "\u001b[1;31mException\u001b[0m                                 Traceback (most recent call last)",
      "\u001b[1;32mc:\\Users\\tommy rojo\\Desktop\\bi\\projects\\utilita-net\\develop.ipynb Cell 3\u001b[0m line \u001b[0;36m1\n\u001b[0;32m      <a href='vscode-notebook-cell:/c%3A/Users/tommy%20rojo/Desktop/bi/projects/utilita-net/develop.ipynb#W1sZmlsZQ%3D%3D?line=6'>7</a>\u001b[0m     \u001b[39mprint\u001b[39m(json\u001b[39m.\u001b[39mdumps(json_object, sort_keys\u001b[39m=\u001b[39m\u001b[39mTrue\u001b[39;00m, indent\u001b[39m=\u001b[39m\u001b[39m4\u001b[39m, separators\u001b[39m=\u001b[39m(\u001b[39m'\u001b[39m\u001b[39m,\u001b[39m\u001b[39m'\u001b[39m, \u001b[39m'\u001b[39m\u001b[39m: \u001b[39m\u001b[39m'\u001b[39m)))\n\u001b[0;32m      <a href='vscode-notebook-cell:/c%3A/Users/tommy%20rojo/Desktop/bi/projects/utilita-net/develop.ipynb#W1sZmlsZQ%3D%3D?line=8'>9</a>\u001b[0m APPLICATION_SETTINGS \u001b[39m=\u001b[39m application_settings\n\u001b[1;32m---> <a href='vscode-notebook-cell:/c%3A/Users/tommy%20rojo/Desktop/bi/projects/utilita-net/develop.ipynb#W1sZmlsZQ%3D%3D?line=10'>11</a>\u001b[0m ms_session \u001b[39m=\u001b[39m mshelper\u001b[39m.\u001b[39;49mauth\u001b[39m.\u001b[39;49mAuthenticate(\n\u001b[0;32m     <a href='vscode-notebook-cell:/c%3A/Users/tommy%20rojo/Desktop/bi/projects/utilita-net/develop.ipynb#W1sZmlsZQ%3D%3D?line=11'>12</a>\u001b[0m     \u001b[39m# application_settings=APPLICATION_SETTINGS, \u001b[39;49;00m\n\u001b[0;32m     <a href='vscode-notebook-cell:/c%3A/Users/tommy%20rojo/Desktop/bi/projects/utilita-net/develop.ipynb#W1sZmlsZQ%3D%3D?line=12'>13</a>\u001b[0m     account_id\u001b[39m=\u001b[39;49m\u001b[39m'\u001b[39;49m\u001b[39mtommy.rojom@eataly.com\u001b[39;49m\u001b[39m'\u001b[39;49m,\n\u001b[0;32m     <a href='vscode-notebook-cell:/c%3A/Users/tommy%20rojo/Desktop/bi/projects/utilita-net/develop.ipynb#W1sZmlsZQ%3D%3D?line=13'>14</a>\u001b[0m     log_level\u001b[39m=\u001b[39;49m\u001b[39m'\u001b[39;49m\u001b[39mDEBUG\u001b[39;49m\u001b[39m'\u001b[39;49m)\n\u001b[0;32m     <a href='vscode-notebook-cell:/c%3A/Users/tommy%20rojo/Desktop/bi/projects/utilita-net/develop.ipynb#W1sZmlsZQ%3D%3D?line=15'>16</a>\u001b[0m session_token \u001b[39m=\u001b[39m ms_session\u001b[39m.\u001b[39mget_access_token()\n\u001b[0;32m     <a href='vscode-notebook-cell:/c%3A/Users/tommy%20rojo/Desktop/bi/projects/utilita-net/develop.ipynb#W1sZmlsZQ%3D%3D?line=17'>18</a>\u001b[0m \u001b[39m# sp_session = mshelper.sharepoint.SharepointHelper(authorization_token=session_token, sharepoint_site_url='https://eataly.sharepoint.com/sites/bi-private')\u001b[39;00m\n",
      "File \u001b[1;32mc:\\Users\\tommy rojo\\Desktop\\bi\\projects\\utilita-net\\utilita\\net\\microsofthelper\\auth.py:99\u001b[0m, in \u001b[0;36mAuthenticate.__init__\u001b[1;34m(self, db_path, log_level, application_settings, account_id)\u001b[0m\n\u001b[0;32m     97\u001b[0m \u001b[39m# get default user\u001b[39;00m\n\u001b[0;32m     98\u001b[0m \u001b[39mself\u001b[39m\u001b[39m.\u001b[39maccount_id \u001b[39m=\u001b[39m \u001b[39mself\u001b[39m\u001b[39m.\u001b[39m_get_account_id(account_id\u001b[39m=\u001b[39maccount_id)\n\u001b[1;32m---> 99\u001b[0m \u001b[39mself\u001b[39m\u001b[39m.\u001b[39mapplication_settings \u001b[39m=\u001b[39m \u001b[39mself\u001b[39;49m\u001b[39m.\u001b[39;49m_get_application_settings(account_id\u001b[39m=\u001b[39;49maccount_id) \u001b[39mif\u001b[39;00m application_settings \u001b[39mis\u001b[39;00m \u001b[39mNone\u001b[39;00m \u001b[39melse\u001b[39;00m application_settings\n\u001b[0;32m    101\u001b[0m \u001b[39mif\u001b[39;00m \u001b[39mself\u001b[39m\u001b[39m.\u001b[39mapplication_settings \u001b[39mis\u001b[39;00m \u001b[39mNone\u001b[39;00m:\n\u001b[0;32m    102\u001b[0m     \u001b[39mraise\u001b[39;00m \u001b[39mAttributeError\u001b[39;00m(\u001b[39m'\u001b[39m\u001b[39mPlease supply application_settings.\u001b[39m\u001b[39m'\u001b[39m)\n",
      "File \u001b[1;32mc:\\Users\\tommy rojo\\Desktop\\bi\\projects\\utilita-net\\utilita\\net\\microsofthelper\\auth.py:270\u001b[0m, in \u001b[0;36mAuthenticate._get_application_settings\u001b[1;34m(self, account_id)\u001b[0m\n\u001b[0;32m    267\u001b[0m q_data \u001b[39m=\u001b[39m \u001b[39mself\u001b[39m\u001b[39m.\u001b[39mcredentials_database\u001b[39m.\u001b[39mexecute(query)\u001b[39m.\u001b[39mfetchone()\n\u001b[0;32m    269\u001b[0m \u001b[39mif\u001b[39;00m q_data \u001b[39mis\u001b[39;00m \u001b[39mNone\u001b[39;00m:\n\u001b[1;32m--> 270\u001b[0m     \u001b[39mraise\u001b[39;00m \u001b[39mException\u001b[39;00m(\u001b[39mf\u001b[39m\u001b[39m'\u001b[39m\u001b[39mCould not get cached application settings from database. You must supply application_settings.\u001b[39m\u001b[39m'\u001b[39m)\n\u001b[0;32m    272\u001b[0m \u001b[39melse\u001b[39;00m:\n\u001b[0;32m    273\u001b[0m     \u001b[39mself\u001b[39m\u001b[39m.\u001b[39mlogger\u001b[39m.\u001b[39mdebug(\u001b[39mf\u001b[39m\u001b[39m'\u001b[39m\u001b[39mGot cached application settings.\u001b[39m\u001b[39m'\u001b[39m)\n",
      "\u001b[1;31mException\u001b[0m: Could not get cached application settings from database. You must supply application_settings."
     ]
    }
   ],
   "source": [
    "import pyperclip\n",
    "import json\n",
    "from utilita.net import microsofthelper as mshelper\n",
    "\n",
    "def json_pretty_print(text):\n",
    "    json_object = json.loads(text)\n",
    "    print(json.dumps(json_object, sort_keys=True, indent=4, separators=(',', ': ')))\n",
    "\n",
    "APPLICATION_SETTINGS = application_settings\n",
    "\n",
    "ms_session = mshelper.auth.Authenticate(\n",
    "    # application_settings=APPLICATION_SETTINGS, \n",
    "    account_id='tommy.rojom@eataly.com',\n",
    "    log_level='DEBUG')\n",
    "\n",
    "session_token = ms_session.get_access_token()\n",
    "\n",
    "# sp_session = mshelper.sharepoint.SharepointHelper(authorization_token=session_token, sharepoint_site_url='https://eataly.sharepoint.com/sites/bi-private')\n"
   ]
  },
  {
   "cell_type": "code",
   "execution_count": 4,
   "metadata": {},
   "outputs": [
    {
     "name": "stderr",
     "output_type": "stream",
     "text": [
      "2023-11-19 00:46:00,169 - microsoft_helper - INFO - If the browser does not open, copy the following url into it:\n",
      "2023-11-19 00:46:00,171 - microsoft_helper - INFO - https://login.microsoftonline.com/ca19e2be-cf9c-447c-8053-e374be7c1ceb/oauth2/v2.0/authorize?client_id=898b8d54-54fe-4128-8819-11fd7bed011a&response_type=code&redirect_uri=http%3A%2F%2Flocalhost%3A21774%2Ftoken&scope=Channel.ReadBasic.All+ChannelMessage.Send+Chat.Create+Chat.ReadWrite+ChatMessage.Read+ChatMessage.Send+Sites.ReadWrite.All+Team.ReadBasic.All+User.Read+offline_access+openid+profile&prompt=select_account\n",
      "127.0.0.1 - - [19/Nov/2023 00:46:03] \"GET /token?code=0.AQ0AvuIZypzPfESAU-N0vnwc61SNi4n-VChBiBkR_XvtARoNAM8.AgABAAIAAAAmoFfGtYxvRrNriQdPKIZ-AgDs_wUA9P8d34KkUmKfutrsqa7UgqR8UBErfkZK3kZFENhF2PIjKpaZ8FNGy3Gvn-MTNWjkbM9qtCw6AiSHbwsXN61SeaPkHwaV6YdICNOlsd7qnh1bbH0tBn2a_Or4mEevL024x4_klZZIf6EPy4657mTchBsYsC3eU_sbDKRHyCrUOCzhZnQf_Bh3KPtDQ7A3r7Pt4GPxGzxzY4YkpNJCfx-X_gaj47FmOUxAKwWp5Wo2SJH5-gUQ6tdRPwznBavCdD80D2EM8WkFXxdSiYjwXliwV8FZSyp-ahqvdVTKwLE_re-m6ESa95er0OA_DEvVmgdI12_d3uNaJ1XNZM3tznkC-rO6GANGWePtLq0cVTOwaofkCrjueAWev3z23R8w4XB7nFlcxRL_OoxkDLLWfl6o0dBm1flxt-jXrQOZqFUlXRbN0_yDSEgnvilnI1dJ8M9gblVk2UmOmN_AsRBA6KSUDNKBEWw3kc6o6hvttycakoOWAEFd86aOd5KXol7IM-qJNhJuvQr2sfhwf_dkvJEEaU0NfUcr-SqNPDd1CbmvLtYzzoO6qKdpFEMZO1dWfYoDV5c5Bmjn83rFEwyqTtmQh38aAuwda7wQD_fj6K4w5vL9JFPx2STdiW3CRsfW8V37m8QO2bqgsT11NvZaJ-y1zBRN6r-FHXJIeEIj3enSNGdT_t37Ds3IRdvBNx7jaqdCNMQWG13Zj-ae65qMS_gey-dz1AGX9zvYkQcHE-LlxSh2sLXFq0zJFXjOE9t_rYt0XBhmaQzwqTM1pFa12e0xCtNHjGO2fWdxYV6FHEYofootu9G2lztQyCoX6oUi6e7AFdAqUGXAj0ocVoejnKXKS6TuvbpCm7d_3_k36DGXjCc0ZqXnUwbe-Oj4eOFRGL6X&session_state=3f8da359-e0b3-439c-ae92-1222099aae20 HTTP/1.1\" 200 -\n",
      "2023-11-19 00:46:03,435 - microsoft_helper - INFO - Got successful Auth for Tommy.Rojo@eataly.com\n"
     ]
    },
    {
     "data": {
      "text/plain": [
       "'Tommy.Rojo@eataly.com'"
      ]
     },
     "execution_count": 4,
     "metadata": {},
     "output_type": "execute_result"
    }
   ],
   "source": [
    "ms_session.login(request_scopes=request_scopes)"
   ]
  },
  {
   "cell_type": "code",
   "execution_count": 8,
   "metadata": {},
   "outputs": [
    {
     "name": "stderr",
     "output_type": "stream",
     "text": [
      "2023-11-19 01:01:47,544 - microsoft_helper - DEBUG - Remounting C:\\Users\\tommy rojo\\AppData\\Local\\MicrosoftHelper\\mshelper.db as rw\n",
      "2023-11-19 01:01:47,545 - microsoft_helper - DEBUG - full_connect_string is file:C:\\Users\\tommy rojo\\AppData\\Local\\MicrosoftHelper\\mshelper.db?mode=rw\n",
      "2023-11-19 01:01:47,554 - microsoft_helper - DEBUG - Remounting C:\\Users\\tommy rojo\\AppData\\Local\\MicrosoftHelper\\mshelper.db as ro\n",
      "2023-11-19 01:01:47,555 - microsoft_helper - DEBUG - full_connect_string is file:C:\\Users\\tommy rojo\\AppData\\Local\\MicrosoftHelper\\mshelper.db?mode=ro\n",
      "2023-11-19 01:01:47,556 - microsoft_helper - DEBUG - Remounting C:\\Users\\tommy rojo\\AppData\\Local\\MicrosoftHelper\\mshelper.db as rw\n",
      "2023-11-19 01:01:47,557 - microsoft_helper - DEBUG - full_connect_string is file:C:\\Users\\tommy rojo\\AppData\\Local\\MicrosoftHelper\\mshelper.db?mode=rw\n",
      "2023-11-19 01:01:47,560 - microsoft_helper - DEBUG - Inserted token for Tommy.Rojo@eataly.com into credentials database.\n",
      "2023-11-19 01:01:47,567 - microsoft_helper - DEBUG - Remounting C:\\Users\\tommy rojo\\AppData\\Local\\MicrosoftHelper\\mshelper.db as ro\n",
      "2023-11-19 01:01:47,569 - microsoft_helper - DEBUG - full_connect_string is file:C:\\Users\\tommy rojo\\AppData\\Local\\MicrosoftHelper\\mshelper.db?mode=ro\n"
     ]
    },
    {
     "data": {
      "text/plain": [
       "True"
      ]
     },
     "execution_count": 8,
     "metadata": {},
     "output_type": "execute_result"
    }
   ],
   "source": [
    "ms_session.refresh_credentials_now()"
   ]
  },
  {
   "cell_type": "code",
   "execution_count": 5,
   "metadata": {},
   "outputs": [
    {
     "data": {
      "text/plain": [
       "'eyJ0eXAiOiJKV1QiLCJub25jZSI6IkNtT3dCdXFvai1PVXNfamh4NWlCUGFnZkw1TUc4QXFxQmM5Q0RoSDM4WlEiLCJhbGciOiJSUzI1NiIsIng1dCI6IjlHbW55RlBraGMzaE91UjIybXZTdmduTG83WSIsImtpZCI6IjlHbW55RlBraGMzaE91UjIybXZTdmduTG83WSJ9.eyJhdWQiOiIwMDAwMDAwMy0wMDAwLTAwMDAtYzAwMC0wMDAwMDAwMDAwMDAiLCJpc3MiOiJodHRwczovL3N0cy53aW5kb3dzLm5ldC9jYTE5ZTJiZS1jZjljLTQ0N2MtODA1My1lMzc0YmU3YzFjZWIvIiwiaWF0IjoxNzAwMzcyNDAyLCJuYmYiOjE3MDAzNzI0MDIsImV4cCI6MTcwMDM3NjM1MSwiYWNjdCI6MCwiYWNyIjoiMSIsImFpbyI6IkFUUUF5LzhWQUFBQUVHM2dQUCtCeXhtU1BPT0xLV1U4RG15cmlkU1JhaXJycDZlVklHMDAwL3lZL3BLS2k3SEE0cHd5NmQ3dzhyQWoiLCJhbXIiOlsicHdkIl0sImFwcF9kaXNwbGF5bmFtZSI6IkJJLklOVEVHUkFUSU9OIiwiYXBwaWQiOiI4OThiOGQ1NC01NGZlLTQxMjgtODgxOS0xMWZkN2JlZDAxMWEiLCJhcHBpZGFjciI6IjAiLCJmYW1pbHlfbmFtZSI6IkludGVncmF0aW9uIiwiZ2l2ZW5fbmFtZSI6IkJJIiwiaWR0eXAiOiJ1c2VyIiwiaXBhZGRyIjoiNjguMTczLjIyOS43OCIsIm5hbWUiOiJiaS5pbnRlZ3JhdGlvbiIsIm9pZCI6ImIyNmJhOWJjLWQzYTktNGYzNi05NmI3LWY4MGJhMWNiZDdmZCIsInBsYXRmIjoiMyIsInB1aWQiOiIxMDAzMjAwMzA5RUJFNjEwIiwicmgiOiIwLkFRMEF2dUlaeXB6UGZFU0FVLU4wdm53YzZ3TUFBQUFBQUFBQXdBQUFBQUFBQUFBTkFJYy4iLCJzY3AiOiJDaGFubmVsLlJlYWRCYXNpYy5BbGwgQ2hhbm5lbE1lc3NhZ2UuU2VuZCBDaGF0LkNyZWF0ZSBDaGF0LlJlYWRXcml0ZSBDaGF0TWVzc2FnZS5SZWFkIENoYXRNZXNzYWdlLlNlbmQgb3BlbmlkIHByb2ZpbGUgU2l0ZXMuUmVhZFdyaXRlLkFsbCBUZWFtLlJlYWRCYXNpYy5BbGwgVXNlci5SZWFkIGVtYWlsIiwic3ViIjoiWkk5X3JvU2lDUUVKa3VsSkExR190VVBQQ21ETGN1c0JXLTNrckFtclZ3TSIsInRlbmFudF9yZWdpb25fc2NvcGUiOiJOQSIsInRpZCI6ImNhMTllMmJlLWNmOWMtNDQ3Yy04MDUzLWUzNzRiZTdjMWNlYiIsInVuaXF1ZV9uYW1lIjoiYmkuaW50ZWdyYXRpb25AZWF0YWx5LmNvbSIsInVwbiI6ImJpLmludGVncmF0aW9uQGVhdGFseS5jb20iLCJ1dGkiOiJzTkZPNzBjNEQwMkh5M2Y2ZFVDV0FBIiwidmVyIjoiMS4wIiwid2lkcyI6WyJiNzlmYmY0ZC0zZWY5LTQ2ODktODE0My03NmIxOTRlODU1MDkiXSwieG1zX3N0Ijp7InN1YiI6IlJ1WmVLVVMwNUlLTDVySzltOHFxbFl6a3hlWGw3aHhITlh4N3FTVndaNVUifSwieG1zX3RjZHQiOjE0MDM3MzE2Mjl9.C7L7uRz6atNJJuDqgFbPuhKVzusmYiVtoGp_XQbfaTI5S_Ze3eeVDzJjml4uILZWo6DSk9j3v9cPhCLUxlRsrKLtPOPzWc3wv2XbMxUGamGbGQ5Et3qv7dExxHWluZqmWGui0ywvj7D43umCFN8HsdqMxcYpvyJpZ05blJIIP63glyNxEbU3aYfVvUCBH8yehU4Qzw_9f1PJa8o2-u3uVMD1zXSCaiF6sjLAY9GUWMcuXy7NbVac3kqSBb0LXLHsA8DlKz5fWUpL1gumTlpOiLFs7vnjdnEthwpDp0CnDPYsoOz-jH_ZAEjyz_FQ5jFlpLvts654Rh_ErYGDHJrGOQ'"
      ]
     },
     "execution_count": 5,
     "metadata": {},
     "output_type": "execute_result"
    }
   ],
   "source": [
    "session_token"
   ]
  },
  {
   "cell_type": "code",
   "execution_count": null,
   "metadata": {},
   "outputs": [],
   "source": []
  },
  {
   "cell_type": "code",
   "execution_count": null,
   "metadata": {},
   "outputs": [],
   "source": [
    "sp_session.get_token_info()"
   ]
  },
  {
   "cell_type": "code",
   "execution_count": null,
   "metadata": {},
   "outputs": [],
   "source": [
    "ms_session.login()"
   ]
  }
 ],
 "metadata": {
  "kernelspec": {
   "display_name": "bi-etl",
   "language": "python",
   "name": "python3"
  },
  "language_info": {
   "codemirror_mode": {
    "name": "ipython",
    "version": 3
   },
   "file_extension": ".py",
   "mimetype": "text/x-python",
   "name": "python",
   "nbconvert_exporter": "python",
   "pygments_lexer": "ipython3",
   "version": "3.9.16"
  }
 },
 "nbformat": 4,
 "nbformat_minor": 2
}
