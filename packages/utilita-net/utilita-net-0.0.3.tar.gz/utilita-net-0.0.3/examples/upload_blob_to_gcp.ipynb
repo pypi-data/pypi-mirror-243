{
 "cells": [
  {
   "cell_type": "code",
   "execution_count": null,
   "metadata": {},
   "outputs": [],
   "source": [
    "from utilita.net import gcshelper\n",
    "import os\n",
    "\n",
    "os.environ['GOOGLE_APPLICATION_CREDENTIALS'] = 'creds.json'\n",
    "project_name = 'fuzzy-slippers-12345'\n",
    "\n",
    "gcs_helper = gcshelper.GCSHelper(project_id=project_name)\n",
    "\n",
    "\n",
    "# get pubsub if it exists\n",
    "pubsub_topic_name = 'pub-topic'\n",
    "pub_messages = gcs_helper.pub_get_messages(topic_name=pubsub_topic_name)\n",
    "\n",
    "for message in pub_messages:\n",
    "    m_data = message.json_data\n",
    "    \n",
    "    gcs_helper.pub_ack_message(data=message, expired_message_action='fail', topic_name=pubsub_topic_name)\n",
    "\n",
    "\n",
    "pub_single_message = {'files_done': True}\n",
    "pub_multi_message = [\n",
    "    {'data1_file_done': True},\n",
    "    {'data2_file_done': True},\n",
    "    {'data3_file_done': False}\n",
    "]\n",
    "\n",
    "# data parameter either can be a single message as a dict or multiple messages as a list of dicts.\n",
    "gcs_helper.pub_pub_message(data=pub_messages, topic_name=pubsub_topic_name)\n",
    "gcs_helper.pub_pub_message(data=pub_multi_message, topic_name=pubsub_topic_name)\n",
    "\n",
    "\n",
    "# download blob to file-like object\n",
    "gs_path = 'gs://bucket-name/path/to/blob'\n",
    "blob_data = gcs_helper.download_bucket_data_to_bytes(gs_blob_url=gs_path)\n",
    "\n",
    "# delete blob on bucket\n",
    "gcs_helper.del_blob(gs_blob_url=gs_path)\n",
    "\n",
    "# upload blob from file-like object.\n",
    "fh = open(file='file.txt', mode='r')\n",
    "fh_gs_path = 'gs://bucket-name/path/to/file.txt'\n",
    "\n",
    "final_gs_path = gcs_helper.upload_bucket_data_from_bytes(bytes_data=fh, gs_blob_url=fh_gs_path, compress=False)"
   ]
  }
 ],
 "metadata": {
  "kernelspec": {
   "display_name": "bi-etl",
   "language": "python",
   "name": "python3"
  },
  "language_info": {
   "name": "python",
   "version": "3.9.16"
  }
 },
 "nbformat": 4,
 "nbformat_minor": 2
}
