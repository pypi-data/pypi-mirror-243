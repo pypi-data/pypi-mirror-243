{
 "cells": [
  {
   "cell_type": "markdown",
   "id": "820720f6",
   "metadata": {},
   "source": [
    "https://algotrading101.com/learn/interactive-brokers-python-api-native-guide/\n",
    "https://algotrading101.com/learn/ib_insync-interactive-brokers-api-guide/\n",
    "https://interactivebrokers.github.io/#\n"
   ]
  },
  {
   "cell_type": "code",
   "execution_count": 9,
   "id": "22fb21ba",
   "metadata": {},
   "outputs": [],
   "source": [
    "import sys\n",
    "\n",
    "sys.path.append(r'C:\\Users\\jimhu\\option_trader\\src\\IBPKG')\n",
    "\n",
    "TWS_LIVE_PORT  = 7496\n",
    "TWS_PAPER_PORT = 7497\n",
    "GATEWAY_LIVE_PORT   = 4001\n",
    "GATEWAY_PAPAER_PORT = 4002\n",
    "\n",
    "port =  TWS_LIVE_PORT \n",
    "host = '127.0.0.1'\n",
    "clientID = 1234"
   ]
  },
  {
   "cell_type": "code",
   "execution_count": null,
   "id": "4b7f048c",
   "metadata": {},
   "outputs": [
    {
     "name": "stderr",
     "output_type": "stream",
     "text": [
      "ERROR -1 2104 Market data farm connection is OK:usfarm\n",
      "ERROR -1 2107 HMDS data farm connection is inactive but should be available upon demand.ushmds\n",
      "ERROR -1 2158 Sec-def data farm connection is OK:secdefil\n"
     ]
    }
   ],
   "source": [
    "from ibapi.client import EClient\n",
    "from ibapi.wrapper import EWrapper  \n",
    "\n",
    "class IBapi(EWrapper, EClient):\n",
    "     def __init__(self):\n",
    "         EClient.__init__(self, self) \n",
    "\n",
    "app = IBapi()\n",
    "app.connect(host, port, clientID)\n",
    "app.run()\n",
    "\n",
    "\n",
    "#Uncomment this section if unable to connect\n",
    "#and to prevent errors on a reconnect\n",
    "#import time\n",
    "#time.sleep(2)\n",
    "#app.disconnect()"
   ]
  },
  {
   "cell_type": "code",
   "execution_count": null,
   "id": "2b8cc089",
   "metadata": {},
   "outputs": [],
   "source": [
    "from ibapi.ticktype import TickTypeEnum\n",
    "\n",
    "for i in range(91):\n",
    "\tprint(TickTypeEnum.to_str(i), i)"
   ]
  },
  {
   "cell_type": "code",
   "execution_count": 6,
   "id": "4763c7e6",
   "metadata": {},
   "outputs": [],
   "source": [
    "from ibapi.client import EClient\n",
    "from ibapi.wrapper import EWrapper\n",
    "from ibapi.contract import Contract\n",
    "\n",
    "import threading\n",
    "import time\n",
    "\n",
    "class IBapi(EWrapper, EClient):\n",
    "\tdef __init__(self):\n",
    "\t\tEClient.__init__(self, self)\n",
    "\tdef tickPrice(self, reqId, tickType, price, attrib):\n",
    "\t\tif tickType == 2 and reqId == 1:\n",
    "\t\t\tprint('The current ask price is: ', price)\n",
    "\n",
    "def run_loop():\n",
    "\tapp.run()\n",
    "\n",
    "app = IBapi()\n",
    "app.connect(host, port, 123)\n",
    "\n",
    "#Start the socket in a thread\n",
    "api_thread = threading.Thread(target=run_loop, daemon=True)\n",
    "api_thread.start()\n",
    "\n",
    "time.sleep(1) #Sleep interval to allow time for connection to server\n",
    "\n",
    "#Create contract object\n",
    "apple_contract = Contract()\n",
    "apple_contract.symbol = 'AAPL'\n",
    "apple_contract.secType = 'STK'\n",
    "apple_contract.exchange = 'SMART'\n",
    "apple_contract.currency = 'USD'\n",
    "\n",
    "contract = Contract()\n",
    "contract.symbol = \"AAPL\"\n",
    "contract.secType = \"OPT\"\n",
    "contract.exchange = \"SMART\"\n",
    "contract.currency = \"USD\"\n",
    "contract.lastTradeDateOrContractMonth = \"20231201\"\n",
    "contract.strike = 190\n",
    "contract.right = \"C\"\n",
    "contract.multiplier = \"100\"\n",
    "\n",
    "#Request Market Data\n",
    "app.reqMktData(1, apple_contract, '', False, False, [])\n",
    "#app.reqMktData(3, contract, '', False, False, [])\n",
    "#app.reqMarketDataType(3)\n",
    "    \n",
    "time.sleep(10) #Sleep interval to allow time for incoming price data\n",
    "app.disconnect()"
   ]
  },
  {
   "cell_type": "code",
   "execution_count": null,
   "id": "4b591b7f",
   "metadata": {},
   "outputs": [
    {
     "name": "stderr",
     "output_type": "stream",
     "text": [
      "ERROR -1 2104 Market data farm connection is OK:usfarm\n",
      "ERROR -1 2107 HMDS data farm connection is inactive but should be available upon demand.ushmds\n",
      "ERROR -1 2158 Sec-def data farm connection is OK:secdefil\n",
      "ERROR 0 321 Error validating request.-'cB' : cause - Invalid security type - \n",
      "ERROR -1 2106 HMDS data farm connection is OK:ushmds\n"
     ]
    },
    {
     "name": "stdout",
     "output_type": "stream",
     "text": [
      "Historical Data: Date: 20230505 04:00:00 US/Eastern, Open: 170, High: 170, Low: 169.28, Close: 169.51, Volume: 65870, WAP: 169.548, BarCount: 234\n",
      "Historical Data: Date: 20230505 05:00:00 US/Eastern, Open: 169.49, High: 169.68, Low: 169.35, Close: 169.6, Volume: 33792, WAP: 169.511, BarCount: 138\n",
      "Historical Data: Date: 20230505 06:00:00 US/Eastern, Open: 169.63, High: 169.84, Low: 169.46, Close: 169.49, Volume: 49279, WAP: 169.655, BarCount: 193\n",
      "Historical Data: Date: 20230505 07:00:00 US/Eastern, Open: 169.49, High: 170.42, Low: 169.44, Close: 170.09, Volume: 231109, WAP: 170.112, BarCount: 937\n",
      "Historical Data: Date: 20230505 08:00:00 US/Eastern, Open: 169.5, High: 170.71, Low: 169, Close: 170.01, Volume: 1315491, WAP: 169.953, BarCount: 5042\n",
      "Historical Data: Date: 20230505 09:00:00 US/Eastern, Open: 170.01, High: 171, Low: 169.83, Close: 171, Volume: 482081, WAP: 170.31, BarCount: 2126\n",
      "End of HistoricalData\n",
      "Start: 20230504 09:30:00 US/Eastern, End: 20230505 09:30:00 US/Eastern\n"
     ]
    },
    {
     "name": "stderr",
     "output_type": "stream",
     "text": [
      "ERROR -1 2107 HMDS data farm connection is inactive but should be available upon demand.ushmds\n"
     ]
    }
   ],
   "source": [
    "#https://algotrading101.com/learn/interactive-brokers-python-api-native-guide/\n",
    "#https://algotrading101.com/learn/ib_insync-interactive-brokers-api-guide/\n",
    "#https://interactivebrokers.github.io/#\n",
    "\n",
    "from ibapi.client import *\n",
    "from ibapi.wrapper import *\n",
    "\n",
    "class TestApp(EClient, EWrapper):\n",
    "    def __init__(self):\n",
    "        EClient.__init__(self, self)\n",
    "\n",
    "    def nextValidId(self, orderId: int):\n",
    "        \n",
    "        mycontract = Contract()\n",
    "        mycontract.symbol = \"AAPL\"\n",
    "        mycontract.secType = \"STK\"\n",
    "        mycontract.exchange = \"SMART\"\n",
    "        mycontract.currency = \"USD\"\n",
    "\n",
    "        self.reqMarketDataType(3)\n",
    "        \n",
    "        self.reqSecDefOptParams(0,\"AAPL\", \"STK\", \"\", 265598)        \n",
    "        \n",
    "        self.reqHistoricalData(orderId, mycontract, \"20230505 09:30:00 US/Eastern\", \"1 D\", \"1 hour\", \"TRADES\", 0, 1, 0, [])\n",
    "\n",
    "    def historicalData(self, reqId, bar):\n",
    "        print(f\"Historical Data: {bar}\")\n",
    "\n",
    "    def historicalDataEnd(self, reqId, start, end):\n",
    "        print(f\"End of HistoricalData\")\n",
    "        print(f\"Start: {start}, End: {end}\")\n",
    "\n",
    "\n",
    "app = TestApp()\n",
    "app.connect(host, port, 0)\n",
    "app.run()"
   ]
  },
  {
   "cell_type": "code",
   "execution_count": 3,
   "id": "91e0eb73",
   "metadata": {},
   "outputs": [],
   "source": [
    "from ibapi.client import EClient\n",
    "from ibapi.wrapper import EWrapper\n",
    "from ibapi.contract import Contract\n",
    "\n",
    "import threading\n",
    "import time\n",
    "\n",
    "class IBapi(EWrapper, EClient):\n",
    "    def __init__(self):\n",
    "        EClient.__init__(self, self)\n",
    "        self.reqMarketDataType(3)\n",
    "        \n",
    "    def tickPrice(self, reqId, tickType, price, attrib):\n",
    "        #if tickType == 2 and reqId == 1:       \n",
    "        print('The current ask price is: ', price)\n",
    "\n",
    "def run_loop():\n",
    "    app.run()\n",
    "\n",
    "app = IBapi()\n",
    "app.connect(host, port, 123)\n",
    "\n",
    "#Start the socket in a thread\n",
    "api_thread = threading.Thread(target=run_loop, daemon=True)\n",
    "api_thread.start()\n",
    "\n",
    "time.sleep(1) #Sleep interval to allow time for connection to server\n",
    "\n",
    "#Create contract object\n",
    "apple_contract = Contract()\n",
    "apple_contract.symbol = 'MSFT'\n",
    "apple_contract.secType = 'STK'\n",
    "apple_contract.exchange = 'SMART'\n",
    "apple_contract.currency = 'USD'\n",
    "\n",
    "#Request Market Data\n",
    "app.reqMarketDataType(3)\n",
    "app.reqMktData(1, apple_contract, '', False, False, [])\n",
    "\n",
    "time.sleep(10) #Sleep interval to allow time for incoming price data\n",
    "app.disconnect()"
   ]
  },
  {
   "cell_type": "code",
   "execution_count": 2,
   "id": "4f11b009",
   "metadata": {},
   "outputs": [
    {
     "name": "stderr",
     "output_type": "stream",
     "text": [
      "ERROR -1 2110 Connectivity between Trader Workstation and server is broken. It will be restored automatically.\n",
      "ERROR -1 2103 Market data farm connection is broken:usfarm\n",
      "ERROR -1 2105 HMDS data farm connection is broken:ushmds\n",
      "ERROR -1 2157 Sec-def data farm connection is broken:secdefnj\n",
      "ERROR 0 322 Error processing request. Sending message failed\n"
     ]
    }
   ],
   "source": [
    "from ibapi.client import EClient\n",
    "from ibapi.wrapper import EWrapper\n",
    "#from ibapi.contract import Contract\n",
    "from ibapi.common import SetOfString\n",
    "from ibapi.common import SetOfFloat\n",
    "\n",
    "import threading\n",
    "import time\n",
    "\n",
    "class IBapi(EWrapper, EClient):\n",
    "    def __init__(self):\n",
    "        EClient.__init__(self, self)\n",
    "        \n",
    "        \n",
    "    def securityDefinitionOptionParameter(self, \n",
    "                                          reqId:int, \n",
    "                                          exchange:str, \n",
    "                                          underlyingConId:int, \n",
    "                                          tradingClass:str, \n",
    "                                          multiplier:str, \n",
    "                                          expirations:SetOfString, \n",
    "                                          strikes:SetOfFloat):\n",
    "        print(\"SecurityDefinitionOptionParameter.\", \"ReqId:\", \n",
    "              reqId, \"Exchange:\", \n",
    "              exchange, \"Underlying conId:\", \n",
    "              underlyingConId, \"TradingClass:\", \n",
    "              tradingClass, \"Multiplier:\", \n",
    "              multiplier, \"Expirations:\", \n",
    "              expirations, \"Strikes:\", \n",
    "              str(strikes),\"\\n\")\n",
    "\n",
    "    def securityDefinitionOptionParameterEnd(self, reqId:int):\n",
    "\n",
    "        print(\"SecurityDefinitionOptionParameterEnd. ReqId:\", reqId)\n",
    "\n",
    "def run_loop():\n",
    "    app.run()\n",
    "\n",
    "app = IBapi()\n",
    "app.connect(host, port, 123)\n",
    "\n",
    "#Start the socket in a thread\n",
    "api_thread = threading.Thread(target=run_loop, daemon=True)\n",
    "api_thread.start()\n",
    "\n",
    "time.sleep(1) #Sleep interval to allow time for connection to server\n",
    "\n",
    "app.reqSecDefOptParams(0,\"MSFT\", \"\", \"STK\", 272093)\n",
    "\n",
    "time.sleep(10) #Sleep interval to allow time for incoming price data\n",
    "app.disconnect()"
   ]
  },
  {
   "cell_type": "code",
   "execution_count": 2,
   "id": "a597a9e4",
   "metadata": {},
   "outputs": [],
   "source": [
    "from ibapi.client import EClient\n",
    "from ibapi.wrapper import EWrapper\n",
    "from ibapi.contract import Contract, ContractDetails\n",
    "from ibapi.common import SetOfString\n",
    "from ibapi.common import SetOfFloat\n",
    "\n",
    "import threading\n",
    "import time\n",
    "\n",
    "class IBapi(EWrapper, EClient):\n",
    "    def __init__(self):\n",
    "        EClient.__init__(self, self)\n",
    "        \n",
    "        \n",
    "    def contractDetails(self, reqId: int, contractDetails: ContractDetails):\n",
    "        super().contractDetails(reqId, contractDetails)\n",
    "        print(contractDetails)\n",
    "        #printinstance(contractDetails)\n",
    "\n",
    "    def contractDetailsEnd(self, reqId: int):\n",
    "        super().contractDetailsEnd(reqId)\n",
    "        print(\"ContractDetailsEnd. ReqId:\", reqId)\n",
    "\n",
    "def run_loop():\n",
    "    app.run()\n",
    "\n",
    "app = IBapi()\n",
    "app.connect(host, port, 123)\n",
    "\n",
    "#Start the socket in a thread\n",
    "api_thread = threading.Thread(target=run_loop, daemon=True)\n",
    "api_thread.start()\n",
    "\n",
    "time.sleep(1) #Sleep interval to allow time for connection to server\n",
    "\n",
    "contract = Contract()\n",
    "contract.symbol = 'MSFT'\n",
    "contract.secType = \"OPT\"\n",
    "contract.exchange = \"SMART\"\n",
    "contract.currency = \"USD\"\n",
    "      \n",
    "x = app.reqContractDetails(3, contract)\n",
    "time.sleep(80) #Sleep interval to allow time for incoming price data\n",
    "print(x)\n",
    "app.disconnect()"
   ]
  },
  {
   "cell_type": "code",
   "execution_count": null,
   "id": "006a14a7",
   "metadata": {},
   "outputs": [],
   "source": []
  },
  {
   "cell_type": "code",
   "execution_count": 6,
   "id": "24e929ac",
   "metadata": {},
   "outputs": [
    {
     "name": "stdout",
     "output_type": "stream",
     "text": [
      "BID_SIZE 0\n",
      "BID 1\n",
      "ASK 2\n",
      "ASK_SIZE 3\n",
      "LAST 4\n",
      "LAST_SIZE 5\n",
      "HIGH 6\n",
      "LOW 7\n",
      "VOLUME 8\n",
      "CLOSE 9\n",
      "BID_OPTION_COMPUTATION 10\n",
      "ASK_OPTION_COMPUTATION 11\n",
      "LAST_OPTION_COMPUTATION 12\n",
      "MODEL_OPTION 13\n",
      "OPEN 14\n",
      "LOW_13_WEEK 15\n",
      "HIGH_13_WEEK 16\n",
      "LOW_26_WEEK 17\n",
      "HIGH_26_WEEK 18\n",
      "LOW_52_WEEK 19\n",
      "HIGH_52_WEEK 20\n",
      "AVG_VOLUME 21\n",
      "OPEN_INTEREST 22\n",
      "OPTION_HISTORICAL_VOL 23\n",
      "OPTION_IMPLIED_VOL 24\n",
      "OPTION_BID_EXCH 25\n",
      "OPTION_ASK_EXCH 26\n",
      "OPTION_CALL_OPEN_INTEREST 27\n",
      "OPTION_PUT_OPEN_INTEREST 28\n",
      "OPTION_CALL_VOLUME 29\n",
      "OPTION_PUT_VOLUME 30\n",
      "INDEX_FUTURE_PREMIUM 31\n",
      "BID_EXCH 32\n",
      "ASK_EXCH 33\n",
      "AUCTION_VOLUME 34\n",
      "AUCTION_PRICE 35\n",
      "AUCTION_IMBALANCE 36\n",
      "MARK_PRICE 37\n",
      "BID_EFP_COMPUTATION 38\n",
      "ASK_EFP_COMPUTATION 39\n",
      "LAST_EFP_COMPUTATION 40\n",
      "OPEN_EFP_COMPUTATION 41\n",
      "HIGH_EFP_COMPUTATION 42\n",
      "LOW_EFP_COMPUTATION 43\n",
      "CLOSE_EFP_COMPUTATION 44\n",
      "LAST_TIMESTAMP 45\n",
      "SHORTABLE 46\n",
      "FUNDAMENTAL_RATIOS 47\n",
      "RT_VOLUME 48\n",
      "HALTED 49\n",
      "BID_YIELD 50\n",
      "ASK_YIELD 51\n",
      "LAST_YIELD 52\n",
      "CUST_OPTION_COMPUTATION 53\n",
      "TRADE_COUNT 54\n",
      "TRADE_RATE 55\n",
      "VOLUME_RATE 56\n",
      "LAST_RTH_TRADE 57\n",
      "RT_HISTORICAL_VOL 58\n",
      "IB_DIVIDENDS 59\n",
      "BOND_FACTOR_MULTIPLIER 60\n",
      "REGULATORY_IMBALANCE 61\n",
      "NEWS_TICK 62\n",
      "SHORT_TERM_VOLUME_3_MIN 63\n",
      "SHORT_TERM_VOLUME_5_MIN 64\n",
      "SHORT_TERM_VOLUME_10_MIN 65\n",
      "DELAYED_BID 66\n",
      "DELAYED_ASK 67\n",
      "DELAYED_LAST 68\n",
      "DELAYED_BID_SIZE 69\n",
      "DELAYED_ASK_SIZE 70\n",
      "DELAYED_LAST_SIZE 71\n",
      "DELAYED_HIGH 72\n",
      "DELAYED_LOW 73\n",
      "DELAYED_VOLUME 74\n",
      "DELAYED_CLOSE 75\n",
      "DELAYED_OPEN 76\n",
      "RT_TRD_VOLUME 77\n",
      "CREDITMAN_MARK_PRICE 78\n",
      "CREDITMAN_SLOW_MARK_PRICE 79\n",
      "DELAYED_BID_OPTION 80\n",
      "DELAYED_ASK_OPTION 81\n",
      "DELAYED_LAST_OPTION 82\n",
      "DELAYED_MODEL_OPTION 83\n",
      "LAST_EXCH 84\n",
      "LAST_REG_TIME 85\n",
      "FUTURES_OPEN_INTEREST 86\n",
      "AVG_OPT_VOLUME 87\n",
      "DELAYED_LAST_TIMESTAMP 88\n",
      "SHORTABLE_SHARES 89\n",
      "DELAYED_HALTED 90\n"
     ]
    }
   ],
   "source": [
    "from ibapi.ticktype import TickTypeEnum\n",
    "\n",
    "for i in range(91):\n",
    "\tprint(TickTypeEnum.to_str(i), i)"
   ]
  },
  {
   "cell_type": "code",
   "execution_count": 7,
   "id": "14c9c58b",
   "metadata": {},
   "outputs": [
    {
     "name": "stderr",
     "output_type": "stream",
     "text": [
      "ERROR -1 2104 Market data farm connection is OK:hfarm\n",
      "ERROR -1 2104 Market data farm connection is OK:eufarmnj\n",
      "ERROR -1 2104 Market data farm connection is OK:cashfarm\n",
      "ERROR -1 2104 Market data farm connection is OK:usfuture\n",
      "ERROR -1 2104 Market data farm connection is OK:usfarm.nj\n",
      "ERROR -1 2104 Market data farm connection is OK:jfarm\n",
      "ERROR -1 2104 Market data farm connection is OK:usfarm\n",
      "ERROR -1 2104 Market data farm connection is OK:usopt\n",
      "ERROR -1 2106 HMDS data farm connection is OK:euhmds\n",
      "ERROR -1 2106 HMDS data farm connection is OK:fundfarm\n",
      "ERROR -1 2106 HMDS data farm connection is OK:ushmds\n",
      "ERROR -1 2158 Sec-def data farm connection is OK:secdefnj\n",
      "ERROR 2147483647 321 Error validating request.-'bv' : cause - The account code is required for this operation.\n"
     ]
    }
   ],
   "source": [
    "\n",
    "from ibapi.client import EClient\n",
    "from ibapi.wrapper import EWrapper\n",
    "from ibapi.contract import Contract\n",
    "from threading import Timer\n",
    "\n",
    "class TestApp(EWrapper, EClient):\n",
    "    def __init__(self):\n",
    "        EClient.__init__(self, self)\n",
    "\n",
    "    #def error(self, reqId, errorCode, errorString):\n",
    "    #    print(\"Error: \", reqId, \" \", errorCode, \" \", errorString)\n",
    "\n",
    "    def nextValidId(self, orderId):\n",
    "        self.start()\n",
    "\n",
    "    def updatePortfolio(self, contract: Contract, position: float, marketPrice: float, marketValue: float,\n",
    "                        averageCost: float, unrealizedPNL: float, realizedPNL: float, accountName: str):\n",
    "        print(\"UpdatePortfolio.\", \"Symbol:\", contract.symbol, \"SecType:\", contract.secType, \"Exchange:\", contract.exchange,\n",
    "              \"Position:\", position, \"MarketPrice:\", marketPrice, \"MarketValue:\", marketValue, \"AverageCost:\", averageCost,\n",
    "              \"UnrealizedPNL:\", unrealizedPNL, \"RealizedPNL:\", realizedPNL, \"AccountName:\", accountName)\n",
    "\n",
    "    def updateAccountValue(self, key: str, val: str, currency: str, accountName: str):\n",
    "        print(\"UpdateAccountValue. Key:\", key, \"Value:\", val, \"Currency:\", currency, \"AccountName:\", accountName)\n",
    "\n",
    "    def updateAccountTime(self, timeStamp: str):\n",
    "        print(\"UpdateAccountTime. Time:\", timeStamp)\n",
    "\n",
    "    def accountDownloadEnd(self, accountName: str):\n",
    "        print(\"AccountDownloadEnd. Account:\", accountName)\n",
    "\n",
    "    def start(self):\n",
    "        # Account number can be omitted when using reqAccountUpdates with single account structure\n",
    "        self.reqAccountUpdates(True, \"\")\n",
    "\n",
    "    def stop(self):\n",
    "        self.reqAccountUpdates(False, \"\")\n",
    "        self.done = True\n",
    "        self.disconnect()\n",
    "\n",
    "def main():\n",
    "    app = TestApp()\n",
    "    app.connect(host, port, 0)\n",
    "\n",
    "    Timer(5, app.stop).start()\n",
    "    app.run()\n",
    "\n",
    "if __name__ == \"__main__\":\n",
    "    main()\n"
   ]
  },
  {
   "cell_type": "code",
   "execution_count": null,
   "id": "7697ee9b",
   "metadata": {},
   "outputs": [],
   "source": [
    "class TestApp(EWrapper, EClient):\n",
    "    def __init__(self):\n",
    "        EClient.__init__(self, self)\n",
    "\n",
    "    def error(self, reqId, errorCode, errorString):\n",
    "        print(\"Error: \", reqId, \" \", errorCode, \" \", errorString)\n",
    "\n",
    "    def nextValidId(self, orderId):\n",
    "        self.start()\n",
    "\n",
    "    def updatePortfolio(self, contract: Contract, position: float, marketPrice: float, marketValue: float,\n",
    "                        averageCost: float, unrealizedPNL: float, realizedPNL: float, accountName: str):\n",
    "        print(\"UpdatePortfolio.\", \"Symbol:\", contract.symbol, \"SecType:\", contract.secType, \"Exchange:\", contract.exchange,\n",
    "              \"Position:\", position, \"MarketPrice:\", marketPrice, \"MarketValue:\", marketValue, \"AverageCost:\", averageCost,\n",
    "              \"UnrealizedPNL:\", unrealizedPNL, \"RealizedPNL:\", realizedPNL, \"AccountName:\", accountName)\n",
    "\n",
    "    def updateAccountValue(self, key: str, val: str, currency: str, accountName: str):\n",
    "        print(\"UpdateAccountValue. Key:\", key, \"Value:\", val, \"Currency:\", currency, \"AccountName:\", accountName)\n",
    "\n",
    "    def updateAccountTime(self, timeStamp: str):\n",
    "        print(\"UpdateAccountTime. Time:\", timeStamp)\n",
    "\n",
    "    def accountDownloadEnd(self, accountName: str):\n",
    "        print(\"AccountDownloadEnd. Account:\", accountName)\n",
    "\n",
    "    def start(self):\n",
    "        # Account number can be omitted when using reqAccountUpdates with single account structure\n",
    "        self.reqAccountUpdates(True, \"\")\n",
    "\n",
    "    def stop(self):\n",
    "        self.reqAccountUpdates(False, \"\")\n",
    "        self.done = True\n",
    "        self.disconnect()\n"
   ]
  },
  {
   "cell_type": "code",
   "execution_count": 6,
   "id": "2cddc26a",
   "metadata": {},
   "outputs": [
    {
     "name": "stderr",
     "output_type": "stream",
     "text": [
      "ERROR -1 2104 Market data farm connection is OK:usfarm.nj\n",
      "ERROR -1 2104 Market data farm connection is OK:hfarm\n",
      "ERROR -1 2104 Market data farm connection is OK:jfarm\n",
      "ERROR -1 2104 Market data farm connection is OK:usfuture\n",
      "ERROR -1 2104 Market data farm connection is OK:cashfarm\n",
      "ERROR -1 2104 Market data farm connection is OK:eufarmnj\n",
      "ERROR -1 2104 Market data farm connection is OK:usfarm\n",
      "ERROR -1 2106 HMDS data farm connection is OK:euhmds\n",
      "ERROR -1 2106 HMDS data farm connection is OK:fundfarm\n",
      "ERROR -1 2106 HMDS data farm connection is OK:ushmds\n",
      "ERROR -1 2158 Sec-def data farm connection is OK:secdefnj\n",
      "ERROR -1 2106 HMDS data farm connection is OK:cashhmds\n"
     ]
    },
    {
     "name": "stdout",
     "output_type": "stream",
     "text": [
      "Time: 1700604900 Close: 1.09109\n",
      "Time: 1700607600 Close: 1.09171\n",
      "Time: 1700611200 Close: 1.09196\n",
      "Time: 1700614800 Close: 1.09133\n",
      "Time: 1700618400 Close: 1.09159\n",
      "Time: 1700622000 Close: 1.09144\n",
      "Time: 1700625600 Close: 1.09137\n",
      "Time: 1700629200 Close: 1.09073\n",
      "Time: 1700632800 Close: 1.09003\n",
      "Time: 1700636400 Close: 1.09146\n",
      "Time: 1700640000 Close: 1.08854\n",
      "Time: 1700643600 Close: 1.09025\n",
      "Time: 1700647200 Close: 1.09007\n",
      "Time: 1700650800 Close: 1.08999\n",
      "Time: 1700654400 Close: 1.09066\n",
      "Time: 1700658000 Close: 1.0896\n",
      "Time: 1700661600 Close: 1.08742\n",
      "Time: 1700665200 Close: 1.08657\n",
      "Time: 1700668800 Close: 1.08703\n",
      "Time: 1700672400 Close: 1.08786\n",
      "Time: 1700676000 Close: 1.08846\n",
      "Time: 1700679600 Close: 1.08838\n",
      "Time: 1700683200 Close: 1.08874\n",
      "Time: 1700686800 Close: 1.08881\n",
      "Time: 1700691300 Close: 1.08861\n",
      "Time: 1700694000 Close: 1.08878\n",
      "Time: 1700697600 Close: 1.0892\n",
      "Time: 1700701200 Close: 1.0895\n",
      "Time: 1700704800 Close: 1.09035\n",
      "Time: 1700708400 Close: 1.0905\n",
      "Time: 1700712000 Close: 1.09026\n",
      "Time: 1700715600 Close: 1.09106\n",
      "Time: 1700719200 Close: 1.0908\n",
      "Time: 1700722800 Close: 1.09137\n",
      "Time: 1700726400 Close: 1.09174\n",
      "Time: 1700730000 Close: 1.09231\n",
      "Time: 1700733600 Close: 1.0919\n",
      "Time: 1700737200 Close: 1.09146\n",
      "Time: 1700740800 Close: 1.09033\n",
      "Time: 1700744400 Close: 1.09017\n",
      "Time: 1700748000 Close: 1.08961\n",
      "Time: 1700751600 Close: 1.09096\n",
      "Time: 1700755200 Close: 1.09049\n"
     ]
    }
   ],
   "source": [
    "from ibapi.client import EClient\n",
    "from ibapi.wrapper import EWrapper\n",
    "from ibapi.contract import Contract\n",
    "\n",
    "import threading\n",
    "import time\n",
    "\n",
    "class IBapi(EWrapper, EClient):\n",
    "\tdef __init__(self):\n",
    "\t\tEClient.__init__(self, self)\n",
    "\tdef historicalData(self, reqId, bar):\n",
    "\t\tprint(f'Time: {bar.date} Close: {bar.close}')\n",
    "\t\t\n",
    "def run_loop():\n",
    "\tapp.run()\n",
    "\n",
    "app = IBapi()\n",
    "app.connect(host, port, 123)\n",
    "\n",
    "#Start the socket in a thread\n",
    "api_thread = threading.Thread(target=run_loop, daemon=True)\n",
    "api_thread.start()\n",
    "\n",
    "time.sleep(1) #Sleep interval to allow time for connection to server\n",
    "\n",
    "#Create contract object\n",
    "eurusd_contract = Contract()\n",
    "eurusd_contract.symbol = 'EUR'\n",
    "eurusd_contract.secType = 'CASH'\n",
    "eurusd_contract.exchange = 'IDEALPRO'\n",
    "eurusd_contract.currency = 'USD'\n",
    "\n",
    "#Request historical candles\n",
    "app.reqHistoricalData(1, eurusd_contract, '', '2 D', '1 hour', 'BID', 0, 2, False, [])\n",
    "\n",
    "time.sleep(5) #sleep to allow enough time for data to be returned\n",
    "app.disconnect()"
   ]
  },
  {
   "cell_type": "code",
   "execution_count": null,
   "id": "6bc8ad43",
   "metadata": {
    "scrolled": true
   },
   "outputs": [],
   "source": [
    "import sys\n",
    "\n",
    "sys.path.append(r'C:\\TWS API\\source\\pythonclient')\n",
    "\n",
    "from ibapi.client import EClient\n",
    "from ibapi.wrapper import EWrapper\n",
    "from ibapi.contract import Contract\n",
    "from ibapi.order import *\n",
    "\n",
    "import threading\n",
    "import time\n",
    "\n",
    "class IBapi(EWrapper, EClient):\n",
    "\tdef __init__(self):\n",
    "\t\tEClient.__init__(self, self)\n",
    "\n",
    "\tdef nextValidId(self, orderId: int):\n",
    "\t\tsuper().nextValidId(orderId)\n",
    "\t\tself.nextorderId = orderId\n",
    "\t\tprint('The next valid order id is: ', self.nextorderId)\n",
    "\n",
    "\tdef orderStatus(self, orderId, status, filled, remaining, avgFullPrice, permId, parentId, lastFillPrice, clientId, whyHeld, mktCapPrice):\n",
    "\t\tprint('orderStatus - orderid:', orderId, 'status:', status, 'filled', filled, 'remaining', remaining, 'lastFillPrice', lastFillPrice)\n",
    "\t\n",
    "\tdef openOrder(self, orderId, contract, order, orderState):\n",
    "\t\tprint('openOrder id:', orderId, contract.symbol, contract.secType, '@', contract.exchange, ':', order.action, order.orderType, order.totalQuantity, orderState.status)\n",
    "\n",
    "\tdef execDetails(self, reqId, contract, execution):\n",
    "\t\tprint('Order Executed: ', reqId, contract.symbol, contract.secType, contract.currency, execution.execId, execution.orderId, execution.shares, execution.lastLiquidity)\n",
    "\n",
    "\n",
    "def run_loop():\n",
    "\tapp.run()\n",
    "\n",
    "#Function to create FX Order contract\n",
    "def FX_order(symbol):\n",
    "\tcontract = Contract()\n",
    "\tcontract.symbol = symbol[:3]\n",
    "\tcontract.secType = 'CASH'\n",
    "\tcontract.exchange = 'IDEALPRO'\n",
    "\tcontract.currency = symbol[3:]\n",
    "\treturn contract\n",
    "\n",
    "app = IBapi()\n",
    "app.connect('127.0.0.1', 7497, 123)\n",
    "\n",
    "app.nextorderId = None\n",
    "\n",
    "#Start the socket in a thread\n",
    "api_thread = threading.Thread(target=run_loop, daemon=True)\n",
    "api_thread.start()\n",
    "\n",
    "#Check if the API is connected via orderid\n",
    "while True:\n",
    "\tif isinstance(app.nextorderId, int):\n",
    "\t\tprint('connected')\n",
    "\t\tbreak\n",
    "\telse:\n",
    "\t\tprint('waiting for connection')\n",
    "\t\ttime.sleep(1)\n",
    "\n",
    "#Create order object\n",
    "order = Order()\n",
    "order.action = 'BUY'\n",
    "order.totalQuantity = 100000\n",
    "order.orderType = 'LMT'\n",
    "order.lmtPrice = '1.10'\n",
    "\n",
    "#Place order\n",
    "app.placeOrder(app.nextorderId, FX_order('EURUSD'), order)\n",
    "#app.nextorderId += 1\n",
    "\n",
    "time.sleep(3)\n",
    "\n",
    "#Cancel order \n",
    "print('cancelling order')\n",
    "app.cancelOrder(app.nextorderId, \"\")\n",
    "\n",
    "time.sleep(3)\n",
    "app.disconnect()"
   ]
  },
  {
   "cell_type": "code",
   "execution_count": 6,
   "id": "3b8f92a9",
   "metadata": {},
   "outputs": [
    {
     "name": "stderr",
     "output_type": "stream",
     "text": [
      "Peer closed connection. clientId 4 already in use?\n",
      "API connection failed: TimeoutError()\n"
     ]
    },
    {
     "ename": "TimeoutError",
     "evalue": "",
     "output_type": "error",
     "traceback": [
      "\u001b[1;31m---------------------------------------------------------------------------\u001b[0m",
      "\u001b[1;31mCancelledError\u001b[0m                            Traceback (most recent call last)",
      "File \u001b[1;32mC:\\ProgramData\\Anaconda3\\envs\\option_trader\\Lib\\asyncio\\tasks.py:490\u001b[0m, in \u001b[0;36mwait_for\u001b[1;34m(fut, timeout)\u001b[0m\n\u001b[0;32m    489\u001b[0m \u001b[38;5;28;01mtry\u001b[39;00m:\n\u001b[1;32m--> 490\u001b[0m     \u001b[38;5;28;01mreturn\u001b[39;00m fut\u001b[38;5;241m.\u001b[39mresult()\n\u001b[0;32m    491\u001b[0m \u001b[38;5;28;01mexcept\u001b[39;00m exceptions\u001b[38;5;241m.\u001b[39mCancelledError \u001b[38;5;28;01mas\u001b[39;00m exc:\n",
      "File \u001b[1;32mC:\\ProgramData\\Anaconda3\\envs\\option_trader\\Lib\\asyncio\\futures.py:198\u001b[0m, in \u001b[0;36mFuture.result\u001b[1;34m(self)\u001b[0m\n\u001b[0;32m    197\u001b[0m     exc \u001b[38;5;241m=\u001b[39m \u001b[38;5;28mself\u001b[39m\u001b[38;5;241m.\u001b[39m_make_cancelled_error()\n\u001b[1;32m--> 198\u001b[0m     \u001b[38;5;28;01mraise\u001b[39;00m exc\n\u001b[0;32m    199\u001b[0m \u001b[38;5;28;01mif\u001b[39;00m \u001b[38;5;28mself\u001b[39m\u001b[38;5;241m.\u001b[39m_state \u001b[38;5;241m!=\u001b[39m _FINISHED:\n",
      "File \u001b[1;32mC:\\ProgramData\\Anaconda3\\envs\\option_trader\\Lib\\asyncio\\tasks.py:269\u001b[0m, in \u001b[0;36mTask.__step\u001b[1;34m(***failed resolving arguments***)\u001b[0m\n\u001b[0;32m    268\u001b[0m     \u001b[38;5;28;01melse\u001b[39;00m:\n\u001b[1;32m--> 269\u001b[0m         result \u001b[38;5;241m=\u001b[39m coro\u001b[38;5;241m.\u001b[39mthrow(exc)\n\u001b[0;32m    270\u001b[0m \u001b[38;5;28;01mexcept\u001b[39;00m \u001b[38;5;167;01mStopIteration\u001b[39;00m \u001b[38;5;28;01mas\u001b[39;00m exc:\n",
      "File \u001b[1;32mC:\\ProgramData\\Anaconda3\\envs\\option_trader\\Lib\\asyncio\\tasks.py:684\u001b[0m, in \u001b[0;36m_wrap_awaitable\u001b[1;34m(awaitable)\u001b[0m\n\u001b[0;32m    679\u001b[0m \u001b[38;5;124;03m\"\"\"Helper for asyncio.ensure_future().\u001b[39;00m\n\u001b[0;32m    680\u001b[0m \n\u001b[0;32m    681\u001b[0m \u001b[38;5;124;03mWraps awaitable (an object with __await__) into a coroutine\u001b[39;00m\n\u001b[0;32m    682\u001b[0m \u001b[38;5;124;03mthat will later be wrapped in a Task by ensure_future().\u001b[39;00m\n\u001b[0;32m    683\u001b[0m \u001b[38;5;124;03m\"\"\"\u001b[39;00m\n\u001b[1;32m--> 684\u001b[0m \u001b[38;5;28;01mreturn\u001b[39;00m (\u001b[38;5;28;01myield from\u001b[39;00m awaitable\u001b[38;5;241m.\u001b[39m\u001b[38;5;21m__await__\u001b[39m())\n",
      "File \u001b[1;32mC:\\ProgramData\\Anaconda3\\envs\\option_trader\\Lib\\asyncio\\futures.py:287\u001b[0m, in \u001b[0;36mFuture.__await__\u001b[1;34m(self)\u001b[0m\n\u001b[0;32m    286\u001b[0m     \u001b[38;5;28mself\u001b[39m\u001b[38;5;241m.\u001b[39m_asyncio_future_blocking \u001b[38;5;241m=\u001b[39m \u001b[38;5;28;01mTrue\u001b[39;00m\n\u001b[1;32m--> 287\u001b[0m     \u001b[38;5;28;01myield\u001b[39;00m \u001b[38;5;28mself\u001b[39m  \u001b[38;5;66;03m# This tells Task to wait for completion.\u001b[39;00m\n\u001b[0;32m    288\u001b[0m \u001b[38;5;28;01mif\u001b[39;00m \u001b[38;5;129;01mnot\u001b[39;00m \u001b[38;5;28mself\u001b[39m\u001b[38;5;241m.\u001b[39mdone():\n",
      "File \u001b[1;32mC:\\ProgramData\\Anaconda3\\envs\\option_trader\\Lib\\asyncio\\tasks.py:339\u001b[0m, in \u001b[0;36mTask.__wakeup\u001b[1;34m(self, future)\u001b[0m\n\u001b[0;32m    338\u001b[0m \u001b[38;5;28;01mtry\u001b[39;00m:\n\u001b[1;32m--> 339\u001b[0m     future\u001b[38;5;241m.\u001b[39mresult()\n\u001b[0;32m    340\u001b[0m \u001b[38;5;28;01mexcept\u001b[39;00m \u001b[38;5;167;01mBaseException\u001b[39;00m \u001b[38;5;28;01mas\u001b[39;00m exc:\n\u001b[0;32m    341\u001b[0m     \u001b[38;5;66;03m# This may also be a cancellation.\u001b[39;00m\n",
      "File \u001b[1;32mC:\\ProgramData\\Anaconda3\\envs\\option_trader\\Lib\\asyncio\\futures.py:198\u001b[0m, in \u001b[0;36mFuture.result\u001b[1;34m(self)\u001b[0m\n\u001b[0;32m    197\u001b[0m     exc \u001b[38;5;241m=\u001b[39m \u001b[38;5;28mself\u001b[39m\u001b[38;5;241m.\u001b[39m_make_cancelled_error()\n\u001b[1;32m--> 198\u001b[0m     \u001b[38;5;28;01mraise\u001b[39;00m exc\n\u001b[0;32m    199\u001b[0m \u001b[38;5;28;01mif\u001b[39;00m \u001b[38;5;28mself\u001b[39m\u001b[38;5;241m.\u001b[39m_state \u001b[38;5;241m!=\u001b[39m _FINISHED:\n",
      "\u001b[1;31mCancelledError\u001b[0m: ",
      "\nThe above exception was the direct cause of the following exception:\n",
      "\u001b[1;31mTimeoutError\u001b[0m                              Traceback (most recent call last)",
      "Cell \u001b[1;32mIn[6], line 7\u001b[0m\n\u001b[0;32m      3\u001b[0m util\u001b[38;5;241m.\u001b[39mstartLoop()  \u001b[38;5;66;03m# uncomment this line when in a notebook\u001b[39;00m\n\u001b[0;32m      5\u001b[0m ib \u001b[38;5;241m=\u001b[39m IB()\n\u001b[1;32m----> 7\u001b[0m ib\u001b[38;5;241m.\u001b[39mconnect(\u001b[38;5;124m'\u001b[39m\u001b[38;5;124m127.0.0.1\u001b[39m\u001b[38;5;124m'\u001b[39m, \u001b[38;5;241m7496\u001b[39m, clientId\u001b[38;5;241m=\u001b[39m\u001b[38;5;241m4\u001b[39m)\n\u001b[0;32m      9\u001b[0m contract \u001b[38;5;241m=\u001b[39m Forex(\u001b[38;5;124m'\u001b[39m\u001b[38;5;124mEURUSD\u001b[39m\u001b[38;5;124m'\u001b[39m)\n\u001b[0;32m     11\u001b[0m x \u001b[38;5;241m=\u001b[39m ib\u001b[38;5;241m.\u001b[39mreqSecDefOptParams(\u001b[38;5;124m\"\u001b[39m\u001b[38;5;124mAAPL\u001b[39m\u001b[38;5;124m\"\u001b[39m, \u001b[38;5;124m\"\u001b[39m\u001b[38;5;124m\"\u001b[39m, \u001b[38;5;124m\"\u001b[39m\u001b[38;5;124mSTK\u001b[39m\u001b[38;5;124m\"\u001b[39m, \u001b[38;5;241m265598\u001b[39m)\n",
      "File \u001b[1;32mC:\\ProgramData\\Anaconda3\\envs\\option_trader\\Lib\\site-packages\\ib_insync\\ib.py:279\u001b[0m, in \u001b[0;36mIB.connect\u001b[1;34m(self, host, port, clientId, timeout, readonly, account)\u001b[0m\n\u001b[0;32m    257\u001b[0m \u001b[38;5;28;01mdef\u001b[39;00m \u001b[38;5;21mconnect\u001b[39m(\n\u001b[0;32m    258\u001b[0m         \u001b[38;5;28mself\u001b[39m, host: \u001b[38;5;28mstr\u001b[39m \u001b[38;5;241m=\u001b[39m \u001b[38;5;124m'\u001b[39m\u001b[38;5;124m127.0.0.1\u001b[39m\u001b[38;5;124m'\u001b[39m, port: \u001b[38;5;28mint\u001b[39m \u001b[38;5;241m=\u001b[39m \u001b[38;5;241m7497\u001b[39m, clientId: \u001b[38;5;28mint\u001b[39m \u001b[38;5;241m=\u001b[39m \u001b[38;5;241m1\u001b[39m,\n\u001b[0;32m    259\u001b[0m         timeout: \u001b[38;5;28mfloat\u001b[39m \u001b[38;5;241m=\u001b[39m \u001b[38;5;241m4\u001b[39m, readonly: \u001b[38;5;28mbool\u001b[39m \u001b[38;5;241m=\u001b[39m \u001b[38;5;28;01mFalse\u001b[39;00m, account: \u001b[38;5;28mstr\u001b[39m \u001b[38;5;241m=\u001b[39m \u001b[38;5;124m'\u001b[39m\u001b[38;5;124m'\u001b[39m):\n\u001b[0;32m    260\u001b[0m     \u001b[38;5;124;03m\"\"\"\u001b[39;00m\n\u001b[0;32m    261\u001b[0m \u001b[38;5;124;03m    Connect to a running TWS or IB gateway application.\u001b[39;00m\n\u001b[0;32m    262\u001b[0m \u001b[38;5;124;03m    After the connection is made the client is fully synchronized\u001b[39;00m\n\u001b[1;32m   (...)\u001b[0m\n\u001b[0;32m    277\u001b[0m \u001b[38;5;124;03m        account: Main account to receive updates for.\u001b[39;00m\n\u001b[0;32m    278\u001b[0m \u001b[38;5;124;03m    \"\"\"\u001b[39;00m\n\u001b[1;32m--> 279\u001b[0m     \u001b[38;5;28;01mreturn\u001b[39;00m \u001b[38;5;28mself\u001b[39m\u001b[38;5;241m.\u001b[39m_run(\u001b[38;5;28mself\u001b[39m\u001b[38;5;241m.\u001b[39mconnectAsync(\n\u001b[0;32m    280\u001b[0m         host, port, clientId, timeout, readonly, account))\n",
      "File \u001b[1;32mC:\\ProgramData\\Anaconda3\\envs\\option_trader\\Lib\\site-packages\\ib_insync\\ib.py:318\u001b[0m, in \u001b[0;36mIB._run\u001b[1;34m(self, *awaitables)\u001b[0m\n\u001b[0;32m    317\u001b[0m \u001b[38;5;28;01mdef\u001b[39;00m \u001b[38;5;21m_run\u001b[39m(\u001b[38;5;28mself\u001b[39m, \u001b[38;5;241m*\u001b[39mawaitables: Awaitable):\n\u001b[1;32m--> 318\u001b[0m     \u001b[38;5;28;01mreturn\u001b[39;00m util\u001b[38;5;241m.\u001b[39mrun(\u001b[38;5;241m*\u001b[39mawaitables, timeout\u001b[38;5;241m=\u001b[39m\u001b[38;5;28mself\u001b[39m\u001b[38;5;241m.\u001b[39mRequestTimeout)\n",
      "File \u001b[1;32mC:\\ProgramData\\Anaconda3\\envs\\option_trader\\Lib\\site-packages\\ib_insync\\util.py:341\u001b[0m, in \u001b[0;36mrun\u001b[1;34m(timeout, *awaitables)\u001b[0m\n\u001b[0;32m    339\u001b[0m globalErrorEvent\u001b[38;5;241m.\u001b[39mconnect(onError)\n\u001b[0;32m    340\u001b[0m \u001b[38;5;28;01mtry\u001b[39;00m:\n\u001b[1;32m--> 341\u001b[0m     result \u001b[38;5;241m=\u001b[39m loop\u001b[38;5;241m.\u001b[39mrun_until_complete(task)\n\u001b[0;32m    342\u001b[0m \u001b[38;5;28;01mexcept\u001b[39;00m asyncio\u001b[38;5;241m.\u001b[39mCancelledError \u001b[38;5;28;01mas\u001b[39;00m e:\n\u001b[0;32m    343\u001b[0m     \u001b[38;5;28;01mraise\u001b[39;00m globalErrorEvent\u001b[38;5;241m.\u001b[39mvalue() \u001b[38;5;129;01mor\u001b[39;00m e\n",
      "File \u001b[1;32mC:\\ProgramData\\Anaconda3\\envs\\option_trader\\Lib\\site-packages\\nest_asyncio.py:90\u001b[0m, in \u001b[0;36m_patch_loop.<locals>.run_until_complete\u001b[1;34m(self, future)\u001b[0m\n\u001b[0;32m     87\u001b[0m \u001b[38;5;28;01mif\u001b[39;00m \u001b[38;5;129;01mnot\u001b[39;00m f\u001b[38;5;241m.\u001b[39mdone():\n\u001b[0;32m     88\u001b[0m     \u001b[38;5;28;01mraise\u001b[39;00m \u001b[38;5;167;01mRuntimeError\u001b[39;00m(\n\u001b[0;32m     89\u001b[0m         \u001b[38;5;124m'\u001b[39m\u001b[38;5;124mEvent loop stopped before Future completed.\u001b[39m\u001b[38;5;124m'\u001b[39m)\n\u001b[1;32m---> 90\u001b[0m \u001b[38;5;28;01mreturn\u001b[39;00m f\u001b[38;5;241m.\u001b[39mresult()\n",
      "File \u001b[1;32mC:\\ProgramData\\Anaconda3\\envs\\option_trader\\Lib\\asyncio\\futures.py:203\u001b[0m, in \u001b[0;36mFuture.result\u001b[1;34m(self)\u001b[0m\n\u001b[0;32m    201\u001b[0m \u001b[38;5;28mself\u001b[39m\u001b[38;5;241m.\u001b[39m__log_traceback \u001b[38;5;241m=\u001b[39m \u001b[38;5;28;01mFalse\u001b[39;00m\n\u001b[0;32m    202\u001b[0m \u001b[38;5;28;01mif\u001b[39;00m \u001b[38;5;28mself\u001b[39m\u001b[38;5;241m.\u001b[39m_exception \u001b[38;5;129;01mis\u001b[39;00m \u001b[38;5;129;01mnot\u001b[39;00m \u001b[38;5;28;01mNone\u001b[39;00m:\n\u001b[1;32m--> 203\u001b[0m     \u001b[38;5;28;01mraise\u001b[39;00m \u001b[38;5;28mself\u001b[39m\u001b[38;5;241m.\u001b[39m_exception\u001b[38;5;241m.\u001b[39mwith_traceback(\u001b[38;5;28mself\u001b[39m\u001b[38;5;241m.\u001b[39m_exception_tb)\n\u001b[0;32m    204\u001b[0m \u001b[38;5;28;01mreturn\u001b[39;00m \u001b[38;5;28mself\u001b[39m\u001b[38;5;241m.\u001b[39m_result\n",
      "File \u001b[1;32mC:\\ProgramData\\Anaconda3\\envs\\option_trader\\Lib\\asyncio\\tasks.py:267\u001b[0m, in \u001b[0;36mTask.__step\u001b[1;34m(***failed resolving arguments***)\u001b[0m\n\u001b[0;32m    263\u001b[0m \u001b[38;5;28;01mtry\u001b[39;00m:\n\u001b[0;32m    264\u001b[0m     \u001b[38;5;28;01mif\u001b[39;00m exc \u001b[38;5;129;01mis\u001b[39;00m \u001b[38;5;28;01mNone\u001b[39;00m:\n\u001b[0;32m    265\u001b[0m         \u001b[38;5;66;03m# We use the `send` method directly, because coroutines\u001b[39;00m\n\u001b[0;32m    266\u001b[0m         \u001b[38;5;66;03m# don't have `__iter__` and `__next__` methods.\u001b[39;00m\n\u001b[1;32m--> 267\u001b[0m         result \u001b[38;5;241m=\u001b[39m coro\u001b[38;5;241m.\u001b[39msend(\u001b[38;5;28;01mNone\u001b[39;00m)\n\u001b[0;32m    268\u001b[0m     \u001b[38;5;28;01melse\u001b[39;00m:\n\u001b[0;32m    269\u001b[0m         result \u001b[38;5;241m=\u001b[39m coro\u001b[38;5;241m.\u001b[39mthrow(exc)\n",
      "File \u001b[1;32mC:\\ProgramData\\Anaconda3\\envs\\option_trader\\Lib\\site-packages\\ib_insync\\ib.py:1748\u001b[0m, in \u001b[0;36mIB.connectAsync\u001b[1;34m(self, host, port, clientId, timeout, readonly, account)\u001b[0m\n\u001b[0;32m   1745\u001b[0m timeout \u001b[38;5;241m=\u001b[39m timeout \u001b[38;5;129;01mor\u001b[39;00m \u001b[38;5;28;01mNone\u001b[39;00m\n\u001b[0;32m   1746\u001b[0m \u001b[38;5;28;01mtry\u001b[39;00m:\n\u001b[0;32m   1747\u001b[0m     \u001b[38;5;66;03m# establish API connection\u001b[39;00m\n\u001b[1;32m-> 1748\u001b[0m     \u001b[38;5;28;01mawait\u001b[39;00m \u001b[38;5;28mself\u001b[39m\u001b[38;5;241m.\u001b[39mclient\u001b[38;5;241m.\u001b[39mconnectAsync(host, port, clientId, timeout)\n\u001b[0;32m   1750\u001b[0m     \u001b[38;5;66;03m# autobind manual orders\u001b[39;00m\n\u001b[0;32m   1751\u001b[0m     \u001b[38;5;28;01mif\u001b[39;00m clientId \u001b[38;5;241m==\u001b[39m \u001b[38;5;241m0\u001b[39m:\n",
      "File \u001b[1;32mC:\\ProgramData\\Anaconda3\\envs\\option_trader\\Lib\\site-packages\\ib_insync\\client.py:217\u001b[0m, in \u001b[0;36mClient.connectAsync\u001b[1;34m(self, host, port, clientId, timeout)\u001b[0m\n\u001b[0;32m    213\u001b[0m     msg \u001b[38;5;241m=\u001b[39m \u001b[38;5;124mb\u001b[39m\u001b[38;5;124m'\u001b[39m\u001b[38;5;124mAPI\u001b[39m\u001b[38;5;130;01m\\0\u001b[39;00m\u001b[38;5;124m'\u001b[39m \u001b[38;5;241m+\u001b[39m \u001b[38;5;28mself\u001b[39m\u001b[38;5;241m.\u001b[39m_prefix(\u001b[38;5;124mb\u001b[39m\u001b[38;5;124m'\u001b[39m\u001b[38;5;124mv\u001b[39m\u001b[38;5;132;01m%d\u001b[39;00m\u001b[38;5;124m..\u001b[39m\u001b[38;5;132;01m%d\u001b[39;00m\u001b[38;5;132;01m%s\u001b[39;00m\u001b[38;5;124m'\u001b[39m \u001b[38;5;241m%\u001b[39m (\n\u001b[0;32m    214\u001b[0m         \u001b[38;5;28mself\u001b[39m\u001b[38;5;241m.\u001b[39mMinClientVersion, \u001b[38;5;28mself\u001b[39m\u001b[38;5;241m.\u001b[39mMaxClientVersion,\n\u001b[0;32m    215\u001b[0m         \u001b[38;5;124mb\u001b[39m\u001b[38;5;124m'\u001b[39m\u001b[38;5;124m \u001b[39m\u001b[38;5;124m'\u001b[39m \u001b[38;5;241m+\u001b[39m \u001b[38;5;28mself\u001b[39m\u001b[38;5;241m.\u001b[39mconnectOptions \u001b[38;5;28;01mif\u001b[39;00m \u001b[38;5;28mself\u001b[39m\u001b[38;5;241m.\u001b[39mconnectOptions \u001b[38;5;28;01melse\u001b[39;00m \u001b[38;5;124mb\u001b[39m\u001b[38;5;124m'\u001b[39m\u001b[38;5;124m'\u001b[39m))\n\u001b[0;32m    216\u001b[0m     \u001b[38;5;28mself\u001b[39m\u001b[38;5;241m.\u001b[39mconn\u001b[38;5;241m.\u001b[39msendMsg(msg)\n\u001b[1;32m--> 217\u001b[0m     \u001b[38;5;28;01mawait\u001b[39;00m asyncio\u001b[38;5;241m.\u001b[39mwait_for(\u001b[38;5;28mself\u001b[39m\u001b[38;5;241m.\u001b[39mapiStart, timeout)\n\u001b[0;32m    218\u001b[0m     \u001b[38;5;28mself\u001b[39m\u001b[38;5;241m.\u001b[39m_logger\u001b[38;5;241m.\u001b[39minfo(\u001b[38;5;124m'\u001b[39m\u001b[38;5;124mAPI connection ready\u001b[39m\u001b[38;5;124m'\u001b[39m)\n\u001b[0;32m    219\u001b[0m \u001b[38;5;28;01mexcept\u001b[39;00m \u001b[38;5;167;01mBaseException\u001b[39;00m \u001b[38;5;28;01mas\u001b[39;00m e:\n",
      "File \u001b[1;32mC:\\ProgramData\\Anaconda3\\envs\\option_trader\\Lib\\asyncio\\tasks.py:492\u001b[0m, in \u001b[0;36mwait_for\u001b[1;34m(fut, timeout)\u001b[0m\n\u001b[0;32m    490\u001b[0m             \u001b[38;5;28;01mreturn\u001b[39;00m fut\u001b[38;5;241m.\u001b[39mresult()\n\u001b[0;32m    491\u001b[0m         \u001b[38;5;28;01mexcept\u001b[39;00m exceptions\u001b[38;5;241m.\u001b[39mCancelledError \u001b[38;5;28;01mas\u001b[39;00m exc:\n\u001b[1;32m--> 492\u001b[0m             \u001b[38;5;28;01mraise\u001b[39;00m exceptions\u001b[38;5;241m.\u001b[39mTimeoutError() \u001b[38;5;28;01mfrom\u001b[39;00m \u001b[38;5;21;01mexc\u001b[39;00m\n\u001b[0;32m    493\u001b[0m \u001b[38;5;28;01mfinally\u001b[39;00m:\n\u001b[0;32m    494\u001b[0m     timeout_handle\u001b[38;5;241m.\u001b[39mcancel()\n",
      "\u001b[1;31mTimeoutError\u001b[0m: "
     ]
    }
   ],
   "source": [
    "from ib_insync import *\n",
    "\n",
    "util.startLoop()  # uncomment this line when in a notebook\n",
    "\n",
    "ib = IB()\n",
    "\n",
    "ib.connect('127.0.0.1', 7496, clientId=4)\n",
    "\n",
    "contract = Forex('EURUSD')\n",
    "\n",
    "x = ib.reqSecDefOptParams(\"AAPL\", \"\", \"STK\", 265598)\n",
    "\n",
    "print(x[0])\n",
    "\n",
    "ib.disconnect()\n",
    "\n",
    "# convert to pandas dataframe:\n",
    "#df = util.df(bars)\n",
    "#print(df)"
   ]
  },
  {
   "cell_type": "code",
   "execution_count": 2,
   "id": "e18f1f69",
   "metadata": {},
   "outputs": [
    {
     "data": {
      "text/plain": [
       "['20231124',\n",
       " '20231201',\n",
       " '20231208',\n",
       " '20231215',\n",
       " '20231222',\n",
       " '20231229',\n",
       " '20240119',\n",
       " '20240216',\n",
       " '20240315',\n",
       " '20240419',\n",
       " '20240621',\n",
       " '20240719',\n",
       " '20240920',\n",
       " '20241220',\n",
       " '20250117',\n",
       " '20250620',\n",
       " '20250919',\n",
       " '20251219',\n",
       " '20260116']"
      ]
     },
     "execution_count": 2,
     "metadata": {},
     "output_type": "execute_result"
    }
   ],
   "source": [
    "x[0].expirations"
   ]
  },
  {
   "cell_type": "code",
   "execution_count": null,
   "id": "0ad2eda5",
   "metadata": {},
   "outputs": [],
   "source": [
    "from ib_insync import *\n",
    "\n",
    "try:\n",
    "    get_ipython    \n",
    "    util.startLoop()  # uncomment this line when in a notebook\n",
    "except:\n",
    "    pass\n",
    "    \n",
    "ib = IB()\n",
    "\n",
    "ib.connect('127.0.0.1', 7497, clientId=3)"
   ]
  },
  {
   "cell_type": "code",
   "execution_count": 19,
   "id": "2d5b0f00",
   "metadata": {},
   "outputs": [
    {
     "name": "stdout",
     "output_type": "stream",
     "text": [
      "20231124 305.0\n"
     ]
    },
    {
     "name": "stderr",
     "output_type": "stream",
     "text": [
      "Error 354, reqId 8: Requested market data is not subscribed.MSFT NOV 24 '23 305 Call/TOP/ALL, contract: Contract(secType='OPT', conId=658225693, symbol='MSFT', lastTradeDateOrContractMonth='20231124', strike=305.0, right='C', multiplier='100', exchange='SMART', currency='USD', localSymbol='MSFT  231124C00305000', tradingClass='MSFT')\n"
     ]
    },
    {
     "name": "stdout",
     "output_type": "stream",
     "text": [
      "None\n",
      "20231124 310.0\n",
      "None\n",
      "20231124 312.5\n",
      "None\n",
      "20231124 315.0\n",
      "None\n",
      "20231124 317.5\n"
     ]
    },
    {
     "name": "stderr",
     "output_type": "stream",
     "text": [
      "Error 354, reqId 16: Requested market data is not subscribed.MSFT NOV 24 '23 317.5 Call/TOP/ALL, contract: Contract(secType='OPT', conId=665535909, symbol='MSFT', lastTradeDateOrContractMonth='20231124', strike=317.5, right='C', multiplier='100', exchange='SMART', currency='USD', localSymbol='MSFT  231124C00317500', tradingClass='MSFT')\n"
     ]
    },
    {
     "name": "stdout",
     "output_type": "stream",
     "text": [
      "None\n",
      "20231124 320.0\n",
      "None\n",
      "20231124 322.5\n",
      "None\n",
      "20231124 325.0\n"
     ]
    },
    {
     "name": "stderr",
     "output_type": "stream",
     "text": [
      "Error 354, reqId 22: Requested market data is not subscribed.MSFT NOV 24 '23 325 Call/TOP/ALL, contract: Contract(secType='OPT', conId=658225982, symbol='MSFT', lastTradeDateOrContractMonth='20231124', strike=325.0, right='C', multiplier='100', exchange='SMART', currency='USD', localSymbol='MSFT  231124C00325000', tradingClass='MSFT')\n"
     ]
    },
    {
     "name": "stdout",
     "output_type": "stream",
     "text": [
      "None\n",
      "20231124 327.5\n",
      "None\n",
      "20231124 330.0\n",
      "None\n",
      "20231124 332.5\n",
      "None\n",
      "20231124 335.0\n",
      "None\n",
      "20231201 305.0\n",
      "None\n",
      "20231201 310.0\n",
      "None\n",
      "20231201 312.5\n"
     ]
    },
    {
     "name": "stderr",
     "output_type": "stream",
     "text": [
      "Error 200, reqId 35: No security definition has been found for the request, contract: Contract(secType='OPT', symbol='MSFT', lastTradeDateOrContractMonth='20231201', strike=312.5, right='C', multiplier='100', exchange='SMART', currency='USD')\n",
      "Unknown contract: Contract(secType='OPT', symbol='MSFT', lastTradeDateOrContractMonth='20231201', strike=312.5, right='C', multiplier='100', exchange='SMART', currency='USD')\n",
      "Error 200, reqId 36: No security definition has been found for the request, contract: Contract(secType='OPT', symbol='MSFT', lastTradeDateOrContractMonth='20231201', strike=312.5, right='C', multiplier='100', exchange='SMART', currency='USD')\n"
     ]
    },
    {
     "name": "stdout",
     "output_type": "stream",
     "text": [
      "None\n",
      "20231201 315.0\n",
      "None\n",
      "20231201 317.5\n"
     ]
    },
    {
     "name": "stderr",
     "output_type": "stream",
     "text": [
      "Error 200, reqId 39: No security definition has been found for the request, contract: Contract(secType='OPT', symbol='MSFT', lastTradeDateOrContractMonth='20231201', strike=317.5, right='C', multiplier='100', exchange='SMART', currency='USD')\n",
      "Unknown contract: Contract(secType='OPT', symbol='MSFT', lastTradeDateOrContractMonth='20231201', strike=317.5, right='C', multiplier='100', exchange='SMART', currency='USD')\n",
      "Error 200, reqId 40: No security definition has been found for the request, contract: Contract(secType='OPT', symbol='MSFT', lastTradeDateOrContractMonth='20231201', strike=317.5, right='C', multiplier='100', exchange='SMART', currency='USD')\n"
     ]
    },
    {
     "name": "stdout",
     "output_type": "stream",
     "text": [
      "None\n",
      "20231201 320.0\n",
      "None\n",
      "20231201 322.5\n",
      "None\n",
      "20231201 325.0\n",
      "None\n",
      "20231201 327.5\n"
     ]
    },
    {
     "name": "stderr",
     "output_type": "stream",
     "text": [
      "Error 354, reqId 48: Requested market data is not subscribed.MSFT DEC 01 '23 327.5 Call/TOP/ALL, contract: Contract(secType='OPT', conId=668027120, symbol='MSFT', lastTradeDateOrContractMonth='20231201', strike=327.5, right='C', multiplier='100', exchange='SMART', currency='USD', localSymbol='MSFT  231201C00327500', tradingClass='MSFT')\n"
     ]
    },
    {
     "name": "stdout",
     "output_type": "stream",
     "text": [
      "None\n",
      "20231201 330.0\n",
      "OptionComputation(tickAttrib=0, impliedVol=None, delta=None, optPrice=None, pvDividend=0.0, gamma=None, vega=-2.0, theta=-2.0, undPrice=377.35)\n"
     ]
    },
    {
     "ename": "TypeError",
     "evalue": "unsupported operand type(s) for +: 'NoneType' and 'NoneType'",
     "output_type": "error",
     "traceback": [
      "\u001b[1;31m---------------------------------------------------------------------------\u001b[0m",
      "\u001b[1;31mTypeError\u001b[0m                                 Traceback (most recent call last)",
      "Cell \u001b[1;32mIn[19], line 84\u001b[0m\n\u001b[0;32m     80\u001b[0m     ib\u001b[38;5;241m.\u001b[39mdisconnect()\n\u001b[0;32m     82\u001b[0m     \u001b[38;5;28;01mreturn\u001b[39;00m df\n\u001b[1;32m---> 84\u001b[0m df \u001b[38;5;241m=\u001b[39m get_option_chain(\u001b[38;5;124m'\u001b[39m\u001b[38;5;124mMSFT\u001b[39m\u001b[38;5;124m'\u001b[39m, \u001b[38;5;241m320\u001b[39m)\n\u001b[0;32m     86\u001b[0m df\n",
      "Cell \u001b[1;32mIn[19], line 70\u001b[0m, in \u001b[0;36mget_option_chain\u001b[1;34m(symbol, stock_price, strike_limit_pert, max_days_to_expire)\u001b[0m\n\u001b[0;32m     67\u001b[0m \u001b[38;5;28mprint\u001b[39m(x\u001b[38;5;241m.\u001b[39mbidGreeks)        \n\u001b[0;32m     68\u001b[0m \u001b[38;5;28;01mif\u001b[39;00m x\u001b[38;5;241m.\u001b[39mbidGreeks \u001b[38;5;241m!=\u001b[39m \u001b[38;5;28;01mNone\u001b[39;00m:\n\u001b[0;32m     69\u001b[0m     \u001b[38;5;66;03m#print(x.bidGreeks)\u001b[39;00m\n\u001b[1;32m---> 70\u001b[0m     ne\u001b[38;5;241m.\u001b[39mimpliedVolatility \u001b[38;5;241m=\u001b[39m (x\u001b[38;5;241m.\u001b[39mbidGreeks\u001b[38;5;241m.\u001b[39mimpliedVol \u001b[38;5;241m+\u001b[39m x\u001b[38;5;241m.\u001b[39maskGreeks\u001b[38;5;241m.\u001b[39mimpliedVol) \u001b[38;5;241m/\u001b[39m \u001b[38;5;241m2\u001b[39m\n\u001b[0;32m     71\u001b[0m     ne\u001b[38;5;241m.\u001b[39mdelta \u001b[38;5;241m=\u001b[39m (x\u001b[38;5;241m.\u001b[39mbidGreeks\u001b[38;5;241m.\u001b[39mdelta \u001b[38;5;241m+\u001b[39m x\u001b[38;5;241m.\u001b[39maskGreeks\u001b[38;5;241m.\u001b[39mdelta) \u001b[38;5;241m/\u001b[39m \u001b[38;5;241m2\u001b[39m\n\u001b[0;32m     72\u001b[0m     ne\u001b[38;5;241m.\u001b[39mgamma \u001b[38;5;241m=\u001b[39m (x\u001b[38;5;241m.\u001b[39mbidGreeks\u001b[38;5;241m.\u001b[39mgamma \u001b[38;5;241m+\u001b[39m x\u001b[38;5;241m.\u001b[39maskGreeks\u001b[38;5;241m.\u001b[39mgamma) \u001b[38;5;241m/\u001b[39m \u001b[38;5;241m2\u001b[39m\n",
      "\u001b[1;31mTypeError\u001b[0m: unsupported operand type(s) for +: 'NoneType' and 'NoneType'"
     ]
    }
   ],
   "source": [
    "from ib_insync import *\n",
    "import numpy as np\n",
    "import pandas as pd\n",
    "from datetime import time, date, datetime, timedelta\n",
    "from pytz import timezone\n",
    "\n",
    "option_chain_rec = {'exp_date':[''],'strike':[np.nan],\n",
    "                'lastPirce':[np.nan],'bid':[np.nan], 'ask':[np.nan],\n",
    "                'bidSize':[np.nan], 'askSize':[np.nan], 'volume':[np.nan],\n",
    "                'open':[np.nan], 'high':[np.nan], 'low':[np.nan], 'close':[np.nan],\n",
    "                'impliedVolatility':[np.nan], 'delta':[np.nan], 'gamma':[np.nan],\n",
    "                'vega':[np.nan], 'theta':[np.nan],'sigma':[np.nan]}\n",
    "\n",
    "def get_option_chain(symbol, stock_price, strike_limit_pert =0.05, max_days_to_expire=30):\n",
    "    \n",
    "    trade_date = datetime.now(timezone('US/Eastern'))    \n",
    "    \n",
    "    util.startLoop()  # uncomment this line when in a notebook\n",
    "\n",
    "    ib = IB()\n",
    "\n",
    "    ib.connect(host, port, clientId=444)\n",
    "\n",
    "    x = ib.reqMatchingSymbols(symbol)\n",
    "\n",
    "    conId = x[0].contract.conId\n",
    "\n",
    "    x = ib.reqSecDefOptParams(symbol, \"\", \"STK\", conId)\n",
    "\n",
    "    exp_date_list = list(filter(lambda x: (pd.Timestamp(x).tz_localize(timezone('US/Eastern'))-trade_date).days < max_days_to_expire, x[0].expirations))   \n",
    "   \n",
    "    strikes = list(filter(lambda x: x >= stock_price * (1-strike_limit_pert) and x <= stock_price * (1+strike_limit_pert), x[0].strikes))   \n",
    "    \n",
    "    #df_new_row = pd.DataFrame.from_records(self.empty_rec)\n",
    "\n",
    "    ib.reqMarketDataType(3)\n",
    "        \n",
    "    df = pd.DataFrame()\n",
    "    for exp_date in exp_date_list:\n",
    "        for strike in strikes:        \n",
    "            print(exp_date, strike)\n",
    "            contract = Contract()\n",
    "            contract.symbol = symbol\n",
    "            contract.secType = 'OPT'\n",
    "            contract.exchange = 'SMART'\n",
    "            contract.currency = 'USD'\n",
    "            contract.lastTradeDateOrContractMonth = exp_date\n",
    "            contract.strike = strike\n",
    "            contract.right = 'C'\n",
    "            contract.multiplier = '100'\n",
    "            ib.qualifyContracts(contract) \n",
    "            x = ib.reqMktData(contract, '', False, False, [])\n",
    "            ib.sleep(5)            \n",
    "            ne = pd.DataFrame.from_records(option_chain_rec)\n",
    "            ne.exp_date = exp_date\n",
    "            ne.strike = strike    \n",
    "            ne.bid =  x.bid\n",
    "            ne.bidSize = x.bidSize\n",
    "            ne.ask = x.ask\n",
    "            ne.askSize = x.askSize\n",
    "            ne.lastPrice = x.last\n",
    "            ne.open = x.open\n",
    "            ne.high = x.high\n",
    "            ne.low = x.low\n",
    "            ne.close = x.close\n",
    "        \n",
    "            print(x.bidGreeks)        \n",
    "            if x.bidGreeks != None:\n",
    "                #print(x.bidGreeks)\n",
    "                ne.impliedVolatility = (x.bidGreeks.impliedVol + x.askGreeks.impliedVol) / 2\n",
    "                ne.delta = (x.bidGreeks.delta + x.askGreeks.delta) / 2\n",
    "                ne.gamma = (x.bidGreeks.gamma + x.askGreeks.gamma) / 2\n",
    "                ne.vega =  (x.bidGreeks.vega + x.askGreeks.vega) / 2\n",
    "                ne.theta = (x.bidGreeks.theta  + x.askGreeks.theta ) / 2\n",
    "                ne.sigma = (x.bidGreeks.sigma  + x.askGreeks.sigma ) / 2\n",
    "                ne.volume = x.volume\n",
    "\n",
    "            df = pd.concat([df, ne])  \n",
    "                        \n",
    "    ib.disconnect()\n",
    "    \n",
    "    return df\n",
    "\n",
    "df = get_option_chain('MSFT', 320)\n",
    "\n",
    "df"
   ]
  },
  {
   "cell_type": "code",
   "execution_count": null,
   "id": "bd75b0a3",
   "metadata": {},
   "outputs": [],
   "source": [
    "option_chain_rec = {'exp_date':[''],'strike':[np.nan],\n",
    "                'lastPirce':[np.nan],'bid':[np.nan], 'ask':[np.nan],\n",
    "                'bidSize':[np.nan], 'askSize':[np.nan], 'volume':[np.nan],\n",
    "                'open':[np.nan], 'high':[np.nan], 'low':[np.nan], 'close':[np.nan],\n",
    "                'impliedVolatility':[np.nan], 'delta':[np.nan], 'gamma':[np.nan],\n",
    "                'vega':[np.nan], 'theta':[np.nan],'sigma':[np.nan]}\n",
    "    \n",
    "df = pd.DataFrame()\n",
    "\n",
    "for exp_date in exp_date_list:\n",
    "    for strike in strikes:        \n",
    "        ne = pd.DataFrame.from_records(option_chain_rec)\n",
    "        ne.exp_date = exp_date\n",
    "        ne.strike = strike\n",
    "        df = pd.concat([df, ne])\n",
    "        \n",
    "df"
   ]
  },
  {
   "cell_type": "code",
   "execution_count": null,
   "id": "6423dc15",
   "metadata": {},
   "outputs": [],
   "source": [
    "import pandas as pd\n",
    "import pandas_ta as ta\n",
    "import pymannkendall as mk\n",
    "import math\n",
    "import numpy as np\n",
    "from datetime import time, date, datetime, timedelta\n",
    "from pytz import timezone\n",
    "\n",
    "max_days_to_expire = 30\n",
    "\n",
    "exp_date_list = []\n",
    "\n",
    "exp_tbl = x.expirations        \n",
    "trade_date = datetime.now(timezone('US/Eastern'))\n",
    "\n",
    "\n",
    "exp_date_list = list(filter(lambda x: (pd.Timestamp(x).tz_localize(timezone('US/Eastern'))-trade_date).days < 30, x.expirations))   \n",
    "    \n",
    "#for exp_date in exp_tbl:    \n",
    "#    exp_date = pd.Timestamp(exp_date)\n",
    "#    days_to_expire = (exp_date.tz_localize(timezone('US/Eastern'))-trade_date).days\n",
    "\n",
    "#    if days_to_expire <= 0:\n",
    "#        continue\n",
    "\n",
    "#    if days_to_expire > max_days_to_expire:\n",
    "#        break\n",
    "\n",
    "#    exp_date_list.append(exp_date)\n",
    "\n",
    "print(exp_date_list) \n",
    "\n",
    "    "
   ]
  },
  {
   "cell_type": "code",
   "execution_count": null,
   "id": "c752a212",
   "metadata": {},
   "outputs": [],
   "source": [
    "class IBConfig:\n",
    "    port = 7497\n",
    "    clientId = 8888\n",
    "    marketDataType = 3 #https://interactivebrokers.github.io/tws-api/market_data_type.html\n"
   ]
  },
  {
   "cell_type": "code",
   "execution_count": null,
   "id": "18bff526",
   "metadata": {},
   "outputs": [],
   "source": [
    "from ib_insync import *\n",
    "\n",
    "class IBClient:    \n",
    "\n",
    "    connection = None     \n",
    "    \n",
    "    @staticmethod\n",
    "    def get_client():\n",
    "        util.startLoop()  # uncomment this line when in a notebook        \n",
    "        if IBClient.connection == None:\n",
    "            ib = IB()\n",
    "            ib.connect('127.0.0.1', IBConfig.port, clientId=IBConfig.clientId)            \n",
    "            IBClient.connection = ib\n",
    "            # delayed quote\n",
    "            ib.reqMarketDataType(IBConfig.marketDataType)            \n",
    "            return ib\n",
    "        else:\n",
    "            return IBClient.connection\n",
    "        \n",
    "    @staticmethod\n",
    "    def disconnect():\n",
    "        if IBClient.connection != None:\n",
    "            IBClient.connection.client.disconnect()\n",
    "            IBClient.connection = None     "
   ]
  },
  {
   "cell_type": "code",
   "execution_count": null,
   "id": "37ea83d9",
   "metadata": {},
   "outputs": [],
   "source": [
    "mycontract = Contract()\n",
    "mycontract.symbol = \"AAPL\"\n",
    "mycontract.secType = \"STK\"\n",
    "mycontract.exchange = \"SMART\"\n",
    "mycontract.currency = \"USD\"\n",
    "        \n",
    "contract = Forex('EURUSD')\n",
    "\n",
    "ib.reqMarketDataType(3)\n",
    "    \n",
    "#https://interactivebrokers.github.io/tws-api/historical_bars.html#hd_what_to_show\n",
    "\n",
    "bars = ib.reqHistoricalData(\n",
    "    mycontract, endDateTime='', durationStr='1 y',\n",
    "    barSizeSetting='1 day', whatToShow='TRADES', useRTH=True)\n",
    "\n",
    "# convert to pandas dataframe:\n",
    "df = util.df(bars)\n",
    "\n",
    "df.rename(columns = {'date':'Date', 'open':'Open', 'high':'High', 'low':'Low',\n",
    "                     'close':'Close', 'volume':'Volume', 'average':'Average'}, inplace = True)\n",
    "\n",
    "print(df.set_index('Date'))\n",
    "\n",
    "ib.disconnect()"
   ]
  },
  {
   "cell_type": "code",
   "execution_count": null,
   "id": "c834e395",
   "metadata": {},
   "outputs": [],
   "source": [
    "from ib_insync import *\n",
    "\n",
    "try:\n",
    "    get_ipython    \n",
    "    util.startLoop()  # uncomment this line when in a notebook\n",
    "except:\n",
    "    pass\n",
    "    \n",
    "ib = IB()\n",
    "\n",
    "symbol = 'MSFT'\n",
    "\n",
    "ib.connect('127.0.0.1', 7497, clientId=0)\n",
    "\n",
    "contract = Contract()\n",
    "contract.symbol =  symbol\n",
    "contract.secType = \"OPT\"\n",
    "contract.exchange = \"SMART\"\n",
    "contract.currency = \"USD\"\n",
    "\n",
    "ib.reqMarketDataType(3)\n",
    "    \n",
    "#https://interactivebrokers.github.io/tws-api/historical_bars.html#hd_what_to_show\n",
    "\n",
    "x = ib.reqMatchingSymbols(symbol)\n",
    "\n",
    "\n",
    "conId = x[0].contract.conId\n",
    "\n",
    "x = ib.reqSecDefOptParams(symbol, \"\", \"STK\", conId)\n",
    "\n",
    "print(x[0])\n",
    "\n",
    "\n",
    "ib.disconnect()"
   ]
  },
  {
   "cell_type": "code",
   "execution_count": null,
   "id": "5e886e00",
   "metadata": {
    "scrolled": true
   },
   "outputs": [],
   "source": [
    "x[0].contract.conId"
   ]
  },
  {
   "cell_type": "code",
   "execution_count": null,
   "id": "75141880",
   "metadata": {},
   "outputs": [],
   "source": [
    "from ib_insync import *\n",
    "\n",
    "try:\n",
    "    get_ipython    \n",
    "    util.startLoop()  # uncomment this line when in a notebook\n",
    "except:\n",
    "    pass\n",
    "    \n",
    "ib = IB()\n",
    "\n",
    "ib.connect('127.0.0.1', port, clientId=clientID)\n",
    "\n",
    "mycontract = Contract()\n",
    "mycontract.symbol = \"AAPL\"\n",
    "mycontract.secType = \"OPT\"\n",
    "mycontract.exchange = \"SMART\"\n",
    "mycontract.currency = \"USD\"\n",
    "        \n",
    "contract = Forex('EURUSD')\n",
    "\n",
    "ib.reqMarketDataType(3)\n",
    "    \n",
    "#https://interactivebrokers.github.io/tws-api/historical_bars.html#hd_what_to_show\n",
    "\n",
    "x = ib.reqSecDefOptParams(\"MSFT\", \"\", \"STK\", 272093)\n",
    "\n",
    "print(x[0])\n",
    "\n",
    "ib.disconnect()"
   ]
  },
  {
   "cell_type": "code",
   "execution_count": null,
   "id": "0aac3d96",
   "metadata": {},
   "outputs": [],
   "source": [
    "#Legal interval are: 1 secs, 5 secs, 10 secs, 15 secs, 30 secs, 1 min, \n",
    "#    2 mins, 3 mins, 5 mins, 10 mins, 15 mins, 20 mins, 30 mins, \n",
    "#    1 hour, 2 hours, 3 hours, 4 hours, 8 hours, 1 day, 1W, 1M, \n",
    "                \n",
    "def get_price_history(symbol, period=\"1 Y\", interval=\"1 day\", start=None, end=None):    \n",
    "\n",
    "    ib = IBClient.get_client()\n",
    "    \n",
    "    contract = Contract()\n",
    "    contract.symbol = symbol\n",
    "    contract.secType = \"STK\"\n",
    "    contract.exchange = \"SMART\"\n",
    "    contract.currency = \"USD\"\n",
    "\n",
    "    bars = ib.reqHistoricalData(\n",
    "        contract, endDateTime='', durationStr=period,\n",
    "        barSizeSetting=interval, whatToShow='TRADES', useRTH=True)\n",
    "\n",
    "    df =  util.df(bars)\n",
    "    df.rename(columns = {'date':'Date', 'open':'Open', 'high':'High', 'low':'Low',\n",
    "                         'close':'Close', 'volume':'Volume', 'average':'Average'}, inplace = True)\n",
    "    \n",
    "    IBClient.disconnect()\n",
    "    \n",
    "    return df.set_index('Date')\n",
    "\n",
    "get_price_history('AAPL')\n",
    "    \n",
    "    \n"
   ]
  },
  {
   "cell_type": "code",
   "execution_count": null,
   "id": "c7f352ca",
   "metadata": {},
   "outputs": [],
   "source": [
    "apple_contract = Contract()\n",
    "apple_contract.symbol = 'MSFT'\n",
    "apple_contract.secType = 'STK'\n",
    "apple_contract.exchange = 'SMART'\n",
    "apple_contract.currency = 'USD'\n",
    "\n",
    "\n",
    "#Request Market Data\n",
    "app.reqMarketDataType(3)\n",
    "app.reqMktData(1, apple_contract, '', False, False, [])\n",
    "\n",
    "contract.lastTradeDateOrContractMonth = '20230519'\n",
    "contract.strike = 305.0\n",
    "contract.right = 'C'\n",
    "contract.multiplier = '100'"
   ]
  },
  {
   "cell_type": "code",
   "execution_count": null,
   "id": "e9514a81",
   "metadata": {},
   "outputs": [],
   "source": [
    "from ib_insync import *\n",
    "\n",
    "util.startLoop()  # uncomment this line when in a notebook\n",
    "\n",
    "ib = IB()\n",
    "\n",
    "ib.connect('127.0.0.1', 7497, clientId=4)\n",
    "\n",
    "contract = Contract()\n",
    "contract.symbol = 'MSFT'\n",
    "contract.secType = 'OPT'\n",
    "contract.exchange = 'SMART'\n",
    "contract.currency = 'USD'\n",
    "contract.lastTradeDateOrContractMonth = '20230519'\n",
    "contract.strike = 307.5\n",
    "contract.right = 'C'\n",
    "contract.multiplier = '100'\n",
    "ib.qualifyContracts(contract) \n",
    "ib.reqMarketDataType(3)\n",
    "x = ib.reqMktData(contract, '', False, False, [])\n",
    "ib.sleep(5)\n",
    "\n",
    "print(vars(x))\n",
    "\n",
    "ib.disconnect()\n",
    "\n",
    "# convert to pandas dataframe:\n",
    "#df = util.df(bars)\n",
    "#print(df)"
   ]
  },
  {
   "cell_type": "code",
   "execution_count": null,
   "id": "838fcc0c",
   "metadata": {},
   "outputs": [],
   "source": []
  },
  {
   "cell_type": "code",
   "execution_count": 16,
   "id": "fb346ccd",
   "metadata": {},
   "outputs": [],
   "source": [
    "from ib_insync import *\n",
    "\n",
    "util.startLoop()  # uncomment this line when in a notebook\n",
    "\n",
    "def get_ticker(symbol):\n",
    "    \n",
    "    ib = IB()\n",
    "    ib.connect('127.0.0.1', port, clientId=clientID)\n",
    "\n",
    "    contract = Contract()\n",
    "    contract.symbol = symbol\n",
    "    contract.secType = 'STK'\n",
    "    contract.exchange = 'SMART'\n",
    "    contract.currency = 'USD'\n",
    "\n",
    "    ib.qualifyContracts(contract) \n",
    "    ib.reqMarketDataType(3)\n",
    "    x = ib.reqMktData(contract, '', False, False, [])\n",
    "    ib.sleep(5)\n",
    "\n",
    "    #return x.bid, x.ask, x.last, x.bidGreeks.impliedVol, x.bidGreeks.delta, x.bidGreeks.gamma, x.bidGreeks.vega, x.bidGreeks.theta\n",
    "\n",
    "    ib.disconnect()\n",
    "\n",
    "    return x\n",
    "\n",
    "x = get_ticker('AAPL')    \n",
    "\n",
    "print(vars(x))"
   ]
  },
  {
   "cell_type": "code",
   "execution_count": 15,
   "id": "ab5d6fa3",
   "metadata": {},
   "outputs": [],
   "source": [
    "from ib_insync import *\n",
    "\n",
    "print('1111')\n",
    "\n",
    "util.startLoop()  # uncomment this line when in a notebook\n",
    "\n",
    "def get_option_price(symbol, exp_date, strike, otype):\n",
    "    \n",
    "    print('xxx')\n",
    "    ib = IB()\n",
    "    ib.connect(host, port, clientId=clientID)\n",
    "\n",
    "    contract = Contract()\n",
    "    contract.symbol = symbol\n",
    "    contract.secType = 'OPT'\n",
    "    contract.exchange = 'SMART'\n",
    "    contract.currency = 'USD'\n",
    "    contract.lastTradeDateOrContractMonth = exp_date #'20230512'\n",
    "    contract.strike = strike\n",
    "    contract.right = otype\n",
    "    contract.multiplier = '100'\n",
    "    print(contract)\n",
    "    ib.qualifyContracts(contract) \n",
    "    ib.reqMarketDataType(3)\n",
    "    x = ib.reqMktData(contract, '', False, False, [])\n",
    "    ib.sleep(5)\n",
    "    \n",
    "    return x.bid, x.ask, x.last, x.bidGreeks.impliedVol, x.bidGreeks.delta, x.bidGreeks.gamma, x.bidGreeks.vega, x.bidGreeks.theta\n",
    "\n",
    "    ib.disconnect()\n",
    "\n",
    "print('xxx')\n",
    "get_option_price('AAPL', '20231201', 190, 'C')  \n",
    "print('yyy')"
   ]
  },
  {
   "cell_type": "code",
   "execution_count": null,
   "id": "cfd89257",
   "metadata": {},
   "outputs": [],
   "source": [
    "#https://algotrading101.com/learn/ib_insync-interactive-brokers-api-guide/\n",
    "\n",
    "from ib_insync import *\n",
    "\n",
    "util.startLoop()  # uncomment this line when in a notebook\n",
    "\n",
    "ib = IB()\n",
    "\n",
    "ib.connect()"
   ]
  },
  {
   "cell_type": "code",
   "execution_count": null,
   "id": "8e5a8784",
   "metadata": {},
   "outputs": [],
   "source": [
    "nflx_contract = Stock('NFLX', 'SMART', 'USD')"
   ]
  },
  {
   "cell_type": "code",
   "execution_count": null,
   "id": "e5fbab7a",
   "metadata": {},
   "outputs": [],
   "source": [
    "ib.qualifyContracts(nflx_contract)"
   ]
  },
  {
   "cell_type": "code",
   "execution_count": null,
   "id": "00cf3f9e",
   "metadata": {},
   "outputs": [],
   "source": [
    "data = ib.reqMktData(nflx_contract)"
   ]
  },
  {
   "cell_type": "code",
   "execution_count": null,
   "id": "f1cbf5d7",
   "metadata": {},
   "outputs": [],
   "source": [
    "data.marketPrice()"
   ]
  },
  {
   "cell_type": "code",
   "execution_count": null,
   "id": "e091d2c8",
   "metadata": {},
   "outputs": [],
   "source": [
    "eur_usd_contract = Forex('EURUSD', 'IDEALPRO')\n",
    "ib.qualifyContracts(eur_usd_contract)"
   ]
  },
  {
   "cell_type": "code",
   "execution_count": null,
   "id": "dfc3606e",
   "metadata": {},
   "outputs": [],
   "source": [
    "btc_fut_contract = Future('BRR', '20231031', 'CMECRYPTO')\n",
    "ib.qualifyContracts(btc_fut_contract)"
   ]
  },
  {
   "cell_type": "code",
   "execution_count": null,
   "id": "fbc7e28a",
   "metadata": {},
   "outputs": [],
   "source": [
    "btc_fut_cont_contract = ContFuture('BRR', 'CMECRYPTO')\n",
    "ib.qualifyContracts(btc_fut_cont_contract)"
   ]
  },
  {
   "cell_type": "code",
   "execution_count": null,
   "id": "15206c69",
   "metadata": {},
   "outputs": [],
   "source": [
    "ib.reqMarketDataType(3)\n",
    "\n",
    "historical_data_nflx = ib.reqHistoricalData(\n",
    "    nflx_contract, \n",
    "    '', \n",
    "    barSizeSetting='15 mins', \n",
    "    durationStr='2 D', \n",
    "    whatToShow='MIDPOINT', \n",
    "    useRTH=True\n",
    "    )"
   ]
  },
  {
   "cell_type": "code",
   "execution_count": null,
   "id": "13b07e4b",
   "metadata": {},
   "outputs": [],
   "source": [
    "type(historical_data_nflx)"
   ]
  },
  {
   "cell_type": "code",
   "execution_count": null,
   "id": "4790e76a",
   "metadata": {},
   "outputs": [],
   "source": [
    "historical_data_nflx[-1]"
   ]
  },
  {
   "cell_type": "code",
   "execution_count": null,
   "id": "fd33396b",
   "metadata": {},
   "outputs": [],
   "source": [
    "util.df(historical_data_nflx)"
   ]
  },
  {
   "cell_type": "code",
   "execution_count": null,
   "id": "9c4c78c6",
   "metadata": {},
   "outputs": [],
   "source": [
    "nflx_order = MarketOrder('BUY', 200)"
   ]
  },
  {
   "cell_type": "code",
   "execution_count": null,
   "id": "b90b78a5",
   "metadata": {},
   "outputs": [],
   "source": [
    "trade = ib.placeOrder(nflx_contract, nflx_order)"
   ]
  },
  {
   "cell_type": "code",
   "execution_count": null,
   "id": "fcb00f9f",
   "metadata": {},
   "outputs": [],
   "source": [
    "def order_status(trade):\n",
    "    print(trade.orderStatis.status)\n",
    "    if trade.orderStatus.status == 'Filled':\n",
    "        fill = trade.fills[-1]\n",
    "        \n",
    "        print(f'{fill.time} - {fill.execution.side} {fill.contract.symbol} {fill.execution.shares} @ {fill.execution.avgPrice}')"
   ]
  },
  {
   "cell_type": "code",
   "execution_count": null,
   "id": "831c3889",
   "metadata": {},
   "outputs": [],
   "source": [
    "\n",
    "from ib_insync import *\n",
    "\n",
    "def order_status(trade):\n",
    "    print(trade.orderStatis.status)\n",
    "    if trade.orderStatus.status == 'Filled':\n",
    "        fill = trade.fills[-1]\n",
    "        \n",
    "        print(f'{fill.time} - {fill.execution.side} {fill.contract.symbol} {fill.execution.shares} @ {fill.execution.avgPrice}')\n",
    "        \n",
    "util.startLoop()  # uncomment this line when in a noteboo\n",
    "nflx_order = MarketOrder('BUY', 100)\n",
    "msft_order = MarketOrder('BUY', 100)\n",
    "\n",
    "nflx_trade = ib.placeOrder(nflx_contract, nflx_order)\n",
    "\n",
    "trade.filledEvent+= order_status"
   ]
  },
  {
   "cell_type": "code",
   "execution_count": null,
   "id": "33588e22",
   "metadata": {},
   "outputs": [],
   "source": [
    "eurusd_bracket_order = ib.bracketOrder(\n",
    "    'BUY',\n",
    "    100000,\n",
    "    limitPrice=1.19,\n",
    "    takeProfitPrice=1.20,\n",
    "    stopLossPrice=1.18\n",
    ")"
   ]
  },
  {
   "cell_type": "code",
   "execution_count": null,
   "id": "30e796f0",
   "metadata": {},
   "outputs": [],
   "source": [
    "for ord in eurusd_bracket_order:\n",
    "    ib.placeOrder(eur_usd_contract, ord)"
   ]
  },
  {
   "cell_type": "code",
   "execution_count": null,
   "id": "61291a5c",
   "metadata": {},
   "outputs": [],
   "source": [
    "visa_contract = Stock('V', 'SMART', 'USD')\n",
    "ib.qualifyContracts(visa_contract)"
   ]
  },
  {
   "cell_type": "code",
   "execution_count": null,
   "id": "ccb7936c",
   "metadata": {},
   "outputs": [],
   "source": [
    "price_condition = PriceCondition(\n",
    "    price=200,\n",
    "    conId=visa_contract.conId,\n",
    "    exch=visa_contract.exchange\n",
    "    )"
   ]
  },
  {
   "cell_type": "code",
   "execution_count": null,
   "id": "cea11060",
   "metadata": {},
   "outputs": [],
   "source": [
    "ma_contract = Stock('MA', 'SMART', 'USD')\n",
    "ib.qualifyContracts(ma_contract)"
   ]
  },
  {
   "cell_type": "code",
   "execution_count": null,
   "id": "8f9c947e",
   "metadata": {},
   "outputs": [],
   "source": []
  },
  {
   "cell_type": "code",
   "execution_count": null,
   "id": "f327d6e0",
   "metadata": {},
   "outputs": [],
   "source": [
    "from ib_insync import *\n",
    "\n",
    "util.startLoop()  # uncomment this line when in a notebook\n",
    "\n",
    "ib = IB()\n",
    "\n",
    "ib.connect('127.0.0.1', 7497, clientId=123)"
   ]
  },
  {
   "cell_type": "code",
   "execution_count": null,
   "id": "838d5e3b",
   "metadata": {},
   "outputs": [],
   "source": [
    "P1S_contract = Option('MSFT', '20230519', 290, 'C', 'SMART')\n",
    "ib.qualifyContracts(P1S_contract) \n",
    "P1L_contract = Option('MSFT', '20230519', 300, 'C', 'SMART')\n",
    "ib.qualifyContracts(P1L_contract) \n",
    "\n",
    "P1S_contract.ratio = 1\n",
    "P1S_contract.action = 'SELL'\n",
    "P1S_contract.openClose = 0\n",
    "P1S_contract.shortSaleSlot = 0\n",
    "P1S_contract.exemptCode=0\n",
    "P1S_contract.designatedLocation = 0   \n",
    "\n",
    "P1L_contract.ratio = 1\n",
    "P1L_contract.action = 'BUY'\n",
    "P1L_contract.openClose = 0\n",
    "P1L_contract.shortSaleSlot = 0\n",
    "P1L_contract.exemptCode=0\n",
    "P1L_contract.designatedLocation = 0   "
   ]
  },
  {
   "cell_type": "code",
   "execution_count": null,
   "id": "7f4ababe",
   "metadata": {},
   "outputs": [],
   "source": [
    "comboLegs = [P1S_contract, P1L_contract]"
   ]
  },
  {
   "cell_type": "code",
   "execution_count": null,
   "id": "52a2710c",
   "metadata": {},
   "outputs": [],
   "source": [
    "contract = Contract(symbol='MSFT', secType='BAG', exchange='SMART', currency='USD', comboLegs=comboLegs)"
   ]
  },
  {
   "cell_type": "code",
   "execution_count": null,
   "id": "7ca387f8",
   "metadata": {},
   "outputs": [],
   "source": [
    "order = Order(action='BUY', orderType='LMT', totalQuantity=5, lmtPrice=8)"
   ]
  },
  {
   "cell_type": "code",
   "execution_count": null,
   "id": "946ea0bf",
   "metadata": {},
   "outputs": [],
   "source": [
    "trade = ib.placeOrder(contract, order)\n",
    "\n",
    "def order_status(trade):\n",
    "    print(trade.orderStatus.status)\n",
    "    if trade.orderStatus.status == 'Filled':\n",
    "        fill = trade.fills[-1]\n",
    "        \n",
    "        print(f'{fill.time} - {fill.execution.side} {fill.contract.symbol} {fill.execution.shares} @ {fill.execution.avgPrice}')\n",
    "        \n",
    "\n",
    "trade.filledEvent+= order_status"
   ]
  },
  {
   "cell_type": "code",
   "execution_count": null,
   "id": "1938fb5b",
   "metadata": {},
   "outputs": [],
   "source": [
    "trade.orderStatus\n"
   ]
  },
  {
   "cell_type": "code",
   "execution_count": null,
   "id": "f2fc6479",
   "metadata": {},
   "outputs": [],
   "source": [
    "trade.log"
   ]
  },
  {
   "cell_type": "code",
   "execution_count": null,
   "id": "3d54a882",
   "metadata": {},
   "outputs": [],
   "source": [
    "ib.cancelOrder(order)"
   ]
  },
  {
   "cell_type": "code",
   "execution_count": null,
   "id": "d7bce3d9",
   "metadata": {},
   "outputs": [],
   "source": [
    "trade"
   ]
  },
  {
   "cell_type": "code",
   "execution_count": null,
   "id": "1dafd17a",
   "metadata": {},
   "outputs": [],
   "source": [
    "order.orderId"
   ]
  },
  {
   "cell_type": "code",
   "execution_count": null,
   "id": "9288fc03",
   "metadata": {},
   "outputs": [],
   "source": [
    "list = [1,2,3]"
   ]
  },
  {
   "cell_type": "code",
   "execution_count": null,
   "id": "3d7ddbbe",
   "metadata": {},
   "outputs": [],
   "source": [
    "list.pop(1)"
   ]
  },
  {
   "cell_type": "code",
   "execution_count": null,
   "id": "2904093f",
   "metadata": {
    "scrolled": true
   },
   "outputs": [],
   "source": [
    "x = ib.portfolio(account='DU7131629')\n",
    "p = util.df(x)\n",
    "p"
   ]
  },
  {
   "cell_type": "code",
   "execution_count": null,
   "id": "51aa5210",
   "metadata": {},
   "outputs": [],
   "source": [
    "x = ib.accountValues(account='')\n",
    "df = util.df(x)\n",
    "for index, row in df.iterrows():\n",
    "    print(row['tag'], '\\t----\\t', row['value'])\n"
   ]
  },
  {
   "cell_type": "code",
   "execution_count": null,
   "id": "dd93eb4e",
   "metadata": {},
   "outputs": [],
   "source": [
    "ib.managedAccounts()"
   ]
  },
  {
   "cell_type": "code",
   "execution_count": null,
   "id": "35a22e0b",
   "metadata": {},
   "outputs": [],
   "source": [
    "x = ib.accountSummary()\n",
    "df = util.df(x)\n",
    "\n",
    "for index, row in df.iterrows():\n",
    "    print(row['tag'], '\\t----\\t', row['value'])\n"
   ]
  },
  {
   "cell_type": "code",
   "execution_count": null,
   "id": "71484861",
   "metadata": {},
   "outputs": [],
   "source": [
    "util.df(ib.positions())"
   ]
  },
  {
   "cell_type": "code",
   "execution_count": null,
   "id": "f242bbba",
   "metadata": {},
   "outputs": [],
   "source": [
    "util.df(ib.orders())"
   ]
  },
  {
   "cell_type": "code",
   "execution_count": null,
   "id": "bd165c9d",
   "metadata": {},
   "outputs": [],
   "source": [
    "util.df(ib.fills())"
   ]
  },
  {
   "cell_type": "code",
   "execution_count": null,
   "id": "9a931a01",
   "metadata": {},
   "outputs": [],
   "source": [
    "dir(ib)"
   ]
  },
  {
   "cell_type": "code",
   "execution_count": null,
   "id": "644138bd",
   "metadata": {},
   "outputs": [],
   "source": [
    "import sys\n",
    "import traceback\n",
    "#sys.exc_info()\n",
    "#traceback.format_exc(sys.exc_info()) \n",
    "\n",
    "etype, value, tb = sys.exc_info()\n",
    "\n",
    "print(''.join(traceback.format_exception(etype, value, tb, limit)))"
   ]
  },
  {
   "cell_type": "code",
   "execution_count": null,
   "id": "b4e94597",
   "metadata": {},
   "outputs": [],
   "source": [
    "import traceback\n",
    "import sys\n",
    "from pprint import pprint\n",
    "\n",
    "#from traceback_example import produce_exception\n",
    "\n",
    "try:\n",
    "    produce_exception()\n",
    "except Exception as err:\n",
    "    #tb = traceback.TracebackException.from_exception(err)\n",
    "\n",
    "    #print('Handled at stack lvl 0')\n",
    "    #print(''.join(tb.stack.format()))    \n",
    "    \n",
    "    exc_type, exc_value, exc_tb = sys.exc_info()\n",
    "    print(exc_type)\n",
    "    print(exc_value)\n",
    "    #print(exc_tb)\n",
    "    print(traceback.format_exception(exc_type, exc_value, exc_tb))\n",
    "    #print(exc_tb.tb_frame)\n",
    "    #print(exc_tb.tb_lasti)\n",
    "    #print(exc_tb.tb_lineno)\n",
    "    #print(exc_tb.tb_next)    \n",
    "    \n",
    "    \n",
    "    \n",
    "    "
   ]
  },
  {
   "cell_type": "code",
   "execution_count": null,
   "id": "c76b579f",
   "metadata": {},
   "outputs": [],
   "source": [
    "import traceback\n",
    "\n",
    "try:\n",
    "    1/0\n",
    "except Exception as ex:\n",
    "    print(ex)\n",
    "    print(traceback.format_exc())\n",
    "    # or\n",
    "    #print(sys.exc_info()[2])    \n",
    "    #x = traceback.print_exception(type(ex), ex, ex.__traceback__)\n",
    "    #print(ex.__traceback__)"
   ]
  },
  {
   "cell_type": "code",
   "execution_count": null,
   "id": "8a2dece7",
   "metadata": {},
   "outputs": [],
   "source": [
    "from ib_insync import *\n",
    "\n",
    "util.startLoop()  # only use in interactive environments (i.e. Jupyter Notebooks)"
   ]
  },
  {
   "cell_type": "code",
   "execution_count": null,
   "id": "f9d643c2",
   "metadata": {},
   "outputs": [],
   "source": [
    "ib = IB()\n",
    "#ib.connect()\n",
    "\n",
    "ib.connect(\"127.0.0.1\", 4002, clientId=21,account='DU7131629')\n"
   ]
  },
  {
   "cell_type": "code",
   "execution_count": null,
   "id": "a14641a8",
   "metadata": {},
   "outputs": [],
   "source": [
    "ib = IB()\n",
    "util.logToConsole('DEBUG')\n",
    "ib.connect(host='127.0.0.1', port=7497, clientId=1)"
   ]
  },
  {
   "cell_type": "code",
   "execution_count": 9,
   "id": "0fdbcdca",
   "metadata": {},
   "outputs": [
    {
     "data": {
      "text/plain": [
       "'C:\\\\ProgramData\\\\Anaconda3\\\\envs\\\\option_trader\\\\python.exe'"
      ]
     },
     "execution_count": 9,
     "metadata": {},
     "output_type": "execute_result"
    }
   ],
   "source": [
    "import sys\n",
    "sys.executable"
   ]
  },
  {
   "cell_type": "code",
   "execution_count": null,
   "id": "0926b80c",
   "metadata": {},
   "outputs": [],
   "source": []
  }
 ],
 "metadata": {
  "kernelspec": {
   "display_name": "Python 3 (ipykernel)",
   "language": "python",
   "name": "python3"
  },
  "language_info": {
   "codemirror_mode": {
    "name": "ipython",
    "version": 3
   },
   "file_extension": ".py",
   "mimetype": "text/x-python",
   "name": "python",
   "nbconvert_exporter": "python",
   "pygments_lexer": "ipython3",
   "version": "3.11.3"
  }
 },
 "nbformat": 4,
 "nbformat_minor": 5
}
