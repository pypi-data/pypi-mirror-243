{
 "cells": [
  {
   "cell_type": "code",
   "execution_count": 1,
   "metadata": {},
   "outputs": [],
   "source": [
    "from symai import Expression, OpenAICostTracker, TokenTracker, Interface, Function, Stream, Interface\n",
    "from symai.extended.conversation import Conversation"
   ]
  },
  {
   "cell_type": "code",
   "execution_count": 2,
   "metadata": {},
   "outputs": [],
   "source": [
    "from symai import *"
   ]
  },
  {
   "cell_type": "code",
   "execution_count": 3,
   "metadata": {},
   "outputs": [],
   "source": [
    "expr = Expression()"
   ]
  },
  {
   "cell_type": "code",
   "execution_count": 5,
   "metadata": {},
   "outputs": [],
   "source": [
    "class FuncDemo(Expression):\n",
    "    def __init__(self, *args, **kwargs):\n",
    "        super().__init__(*args, **kwargs)\n",
    "\n",
    "    def forward(self, data: Symbol, **kwargs):\n",
    "        @core.query(context='Do some fancy decoration of sentences.')\n",
    "        def _func(_, data, **kwargs):\n",
    "            pass\n",
    "        return self.sym_return_type(_func(self, data, **kwargs))"
   ]
  },
  {
   "cell_type": "code",
   "execution_count": 6,
   "metadata": {},
   "outputs": [],
   "source": [
    "leo_func = FuncDemo()"
   ]
  },
  {
   "cell_type": "code",
   "execution_count": 8,
   "metadata": {},
   "outputs": [
    {
     "data": {
      "text/html": [
       "[{'role': 'system', 'content': '[META INSTRUCTIONS START]\\nYou do not output anything else, like verbose preambles or post explanation, such as \"Sure, let me...\", \"Hope that was helpful...\", \"Yes, I can help you with that...\", etc. Consider well formatted output, e.g. for sentences use punctuation, spaces etc. or for code use indentation, etc. Never add meta instructions information to your output!\\n\\n'}, {'role': 'user', 'content': 'Data:\\n\\nContext: Do some fancy decoration of sentences.\\nAnswer:'}]"
      ],
      "text/plain": [
       "<class '__main__.FuncDemo'>(value=[{'role': 'system', 'content': '[META INSTRUCTIONS START]\\nYou do not output anything else, like verbose preambles or post explanation, such as \"Sure, let me...\", \"Hope that was helpful...\", \"Yes, I can help you with that...\", etc. Consider well formatted output, e.g. for sentences use punctuation, spaces etc. or for code use indentation, etc. Never add meta instructions information to your output!\\n\\n'}, {'role': 'user', 'content': 'Data:\\n\\nContext: Do some fancy decoration of sentences.\\nAnswer:'}])"
      ]
     },
     "execution_count": 8,
     "metadata": {},
     "output_type": "execute_result"
    }
   ],
   "source": [
    "leo_func('Test', preview=True)"
   ]
  },
  {
   "cell_type": "code",
   "execution_count": 9,
   "metadata": {},
   "outputs": [
    {
     "name": "stderr",
     "output_type": "stream",
     "text": [
      "2023-11-21 01:30:10,366 ====== WebDriver manager ======\n",
      "2023-11-21 01:30:10,366 ====== WebDriver manager ======\n",
      "2023-11-21 01:30:10,689 Get LATEST chromedriver version for google-chrome\n",
      "2023-11-21 01:30:10,689 Get LATEST chromedriver version for google-chrome\n",
      "2023-11-21 01:30:10,779 Get LATEST chromedriver version for google-chrome\n",
      "2023-11-21 01:30:10,779 Get LATEST chromedriver version for google-chrome\n",
      "2023-11-21 01:30:10,839 Get LATEST chromedriver version for google-chrome\n",
      "2023-11-21 01:30:10,839 Get LATEST chromedriver version for google-chrome\n",
      "2023-11-21 01:30:10,966 WebDriver version 119.0.6045.105 selected\n",
      "2023-11-21 01:30:10,966 WebDriver version 119.0.6045.105 selected\n",
      "2023-11-21 01:30:10,968 Modern chrome version https://edgedl.me.gvt1.com/edgedl/chrome/chrome-for-testing/119.0.6045.105/mac-x64/chromedriver-mac-x64.zip\n",
      "2023-11-21 01:30:10,968 Modern chrome version https://edgedl.me.gvt1.com/edgedl/chrome/chrome-for-testing/119.0.6045.105/mac-x64/chromedriver-mac-x64.zip\n",
      "2023-11-21 01:30:10,968 About to download new driver from https://edgedl.me.gvt1.com/edgedl/chrome/chrome-for-testing/119.0.6045.105/mac-x64/chromedriver-mac-x64.zip\n",
      "2023-11-21 01:30:10,968 About to download new driver from https://edgedl.me.gvt1.com/edgedl/chrome/chrome-for-testing/119.0.6045.105/mac-x64/chromedriver-mac-x64.zip\n",
      "2023-11-21 01:30:11,171 Driver downloading response is 200\n",
      "2023-11-21 01:30:11,171 Driver downloading response is 200\n",
      "2023-11-21 01:30:11,619 Get LATEST chromedriver version for google-chrome\n",
      "2023-11-21 01:30:11,619 Get LATEST chromedriver version for google-chrome\n",
      "2023-11-21 01:30:11,804 Driver has been saved in cache [/Users/xpitfire/.wdm/drivers/chromedriver/mac64/119.0.6045.105]\n",
      "2023-11-21 01:30:11,804 Driver has been saved in cache [/Users/xpitfire/.wdm/drivers/chromedriver/mac64/119.0.6045.105]\n"
     ]
    },
    {
     "data": {
      "text/plain": [
       "8549"
      ]
     },
     "execution_count": 9,
     "metadata": {},
     "output_type": "execute_result"
    }
   ],
   "source": [
    "crawler = Interface('selenium') # load selenium interface\n",
    "website = crawler('https://en.wikipedia.org/wiki/A*_search_algorithm'); len(website) # load wikipedia page"
   ]
  },
  {
   "cell_type": "code",
   "execution_count": 10,
   "metadata": {},
   "outputs": [],
   "source": [
    "from symai.extended import RepositoryCloner\n",
    "cloner = RepositoryCloner() # load repository cloner"
   ]
  },
  {
   "cell_type": "code",
   "execution_count": 4,
   "metadata": {},
   "outputs": [
    {
     "name": "stdout",
     "output_type": "stream",
     "text": [
      "Repository quam already exists. Checking for updates...\n",
      "Repository quam is up-to-date.\n"
     ]
    }
   ],
   "source": [
    "cloner('https://github.com/ml-jku/quam')"
   ]
  },
  {
   "cell_type": "code",
   "execution_count": 3,
   "metadata": {},
   "outputs": [],
   "source": [
    "tracker = OpenAICostTracker() # load openai cost tracker\n",
    "usage = TokenTracker() # load token tracker"
   ]
  },
  {
   "cell_type": "code",
   "execution_count": 4,
   "metadata": {},
   "outputs": [],
   "source": [
    "with tracker: # track the cost using OpenAI API\n",
    "    conv = Conversation(file_link='/Users/xpitfire/workspace/symbolicai/symai/extended/repo_cloner.py') # create conversation"
   ]
  },
  {
   "cell_type": "code",
   "execution_count": 5,
   "metadata": {},
   "outputs": [
    {
     "name": "stdout",
     "output_type": "stream",
     "text": [
      "```python\n",
      "from typing import Optional\n",
      "from .. import Expression\n",
      "from pathlib import Path\n",
      "from git import Repo\n",
      "\n",
      "\n",
      "class RepositoryCloner(Expression):\n",
      "    \"\"\"\n",
      "    A repository cloner class which allows to clone a repository from GitHub\n",
      "    by providing an URL. If the repository is already cloned, it checks if \n",
      "    the repository is up-to-date and updates it if necessary.\n",
      "\n",
      "    Parameters:\n",
      "      repo (str): The name of the repository, default is 'GitHub'.\n",
      "      repo_path (Optional[str]): The path where to clone the repository. \n",
      "                                 By default it will be at '~/.symai/repos/'.\n",
      "    \"\"\"\n",
      "    def __init__(self, repo: str = 'GitHub', repo_path: Optional[str] = None):\n",
      "        super().__init__()\n",
      "        self.repo_dir = Path.home() / '.symai/repos/' if repo_path is None else Path(repo_path)\n",
      "\n",
      "    def forward(self, url: str) -> None:\n",
      "        \"\"\"\n",
      "        Clones a repository if not already cloned or checks if the cloned repository \n",
      "        is up-to-date and updates it if necessary.\n",
      "        \n",
      "        Parameters:\n",
      "          url (str): The url of the repository to clone.\n",
      "        \"\"\"\n",
      "        repo_name = url.split('/')[-1].replace('.git', '')\n",
      "        if (self.repo_dir / repo_name).is_dir():\n",
      "            print(f'Repository {repo_name} already exists. Checking for updates...')\n",
      "            try:\n",
      "                repo = Repo(self.repo_dir / repo_name)\n",
      "                current = repo.head.commit\n",
      "                repo.remotes.origin.pull()\n",
      "                if current != repo.head.commit:\n",
      "                    print(f'Repository {repo_name} updated.')\n",
      "                else:\n",
      "                    print(f'Repository {repo_name} is up-to-date.')\n",
      "            except Exception as e:\n",
      "                print(f'An error occurred: {e}')\n",
      "        else:\n",
      "            print(f'Cloning repository {repo_name}...')\n",
      "            try:\n",
      "                Repo.clone_from(url, self.repo_dir / repo_name)\n",
      "                print(f'Repository {repo_name} cloned successfully.')\n",
      "            except Exception as e:\n",
      "                print(f'Failed to clone the repository. An error occurred: {e}')\n",
      "```\n",
      "\n",
      "\n",
      "================\n",
      "[Used tokens: 0.00%]\n",
      "================\n",
      "\n",
      "\n",
      "\n",
      "================\n",
      "[Used tokens: 8.75%]\n",
      "================\n",
      "\n"
     ]
    }
   ],
   "source": [
    "with usage: # track the token usage how much we can converse without cutting off\n",
    "    conv(f\"Implement the code missing in the class to clone a repository based on an URL. Also write proper Python documentation.\") # query the conversation expression"
   ]
  },
  {
   "cell_type": "code",
   "execution_count": 3,
   "metadata": {},
   "outputs": [
    {
     "name": "stdout",
     "output_type": "stream",
     "text": [
      "```python\n",
      "def reconstruct_path(cameFrom, current):\n",
      "    total_path = [current]\n",
      "    while current in cameFrom:\n",
      "        current = cameFrom[current]\n",
      "        total_path.insert(0, current)\n",
      "    return total_path\n",
      "\n",
      "def A_Star(start, goal, h, d):\n",
      "    openSet = [start]\n",
      "    cameFrom = {}\n",
      "    gScore = {node: float('inf') for node in openSet}\n",
      "    gScore[start] = 0\n",
      "    fScore = {node: float('inf') for node in openSet}\n",
      "    fScore[start] = h(start)\n",
      "    \n",
      "    while openSet:\n",
      "        current = min(openSet, key=lambda node: fScore[node])\n",
      "        if current == goal:\n",
      "            return reconstruct_path(cameFrom, current)\n",
      "\n",
      "        openSet.remove(current)\n",
      "        for neighbor in current.neighbors():\n",
      "            tentative_gScore = gScore[current] + d(current, neighbor)\n",
      "            if tentative_gScore < gScore[neighbor]:\n",
      "                cameFrom[neighbor] = current\n",
      "                gScore[neighbor] = tentative_gScore\n",
      "                fScore[neighbor] = tentative_gScore + h(neighbor)\n",
      "                if neighbor not in openSet:\n",
      "                    openSet.append(neighbor)\n",
      "    return None\n",
      "```\n",
      "\n",
      "\n",
      "================\n",
      "[Used tokens: 0.00%]\n",
      "================\n",
      "\n",
      "\n",
      "\n",
      "================\n",
      "[Used tokens: 5.17%]\n",
      "================\n",
      "\n"
     ]
    }
   ],
   "source": [
    "with OpenAICostTracker() as tracker: # track the cost using OpenAI API\n",
    "    with Stream() as stream: # stream over the too long website content\n",
    "        fn = Function('Extract algorithm from website') # define function to operate on the stream\n",
    "        res = stream(website) # stream over the website content\n",
    "    conv = Conversation(init=res, file_link='/Users/xpitfire/create_new_a_star.py') # create conversation with file link\n",
    "    with TokenTracker() as usage: # track the token usage how much we can converse without cutting off\n",
    "        conv(f\"Generate from the pseudo algorithm corresponding python code:\") # query the conversation expression\n",
    "    conv.commit() # extract code and commit to the file"
   ]
  },
  {
   "cell_type": "code",
   "execution_count": null,
   "metadata": {},
   "outputs": [],
   "source": [
    "conv.commit()"
   ]
  },
  {
   "cell_type": "code",
   "execution_count": null,
   "metadata": {},
   "outputs": [],
   "source": [
    "print(tracker)"
   ]
  },
  {
   "cell_type": "code",
   "execution_count": null,
   "metadata": {},
   "outputs": [],
   "source": [
    "from symai import Indexer"
   ]
  },
  {
   "cell_type": "code",
   "execution_count": null,
   "metadata": {},
   "outputs": [],
   "source": [
    "indexer = Indexer()"
   ]
  },
  {
   "cell_type": "code",
   "execution_count": 5,
   "metadata": {},
   "outputs": [],
   "source": [
    "res = Interface('selenium').fetch('https://www.baidu-venture.net/touzizuhe.html')"
   ]
  },
  {
   "cell_type": "code",
   "execution_count": null,
   "metadata": {},
   "outputs": [],
   "source": [
    "res.save('outputs/tmp.html')"
   ]
  },
  {
   "cell_type": "code",
   "execution_count": null,
   "metadata": {},
   "outputs": [],
   "source": [
    "len(res)"
   ]
  },
  {
   "cell_type": "code",
   "execution_count": null,
   "metadata": {},
   "outputs": [],
   "source": [
    "with Stream(retrieval='all') as stream:\n",
    "    fn = Function('Give a list of all investors')\n",
    "    inv = stream(res)"
   ]
  },
  {
   "cell_type": "code",
   "execution_count": null,
   "metadata": {},
   "outputs": [],
   "source": [
    "inv"
   ]
  },
  {
   "cell_type": "code",
   "execution_count": 6,
   "metadata": {},
   "outputs": [
    {
     "data": {
      "text/html": [
       "While Meta remains the largest contributor to PyTorch, companies such as AMD, Amazon Web Services (AWS), Google Cloud, HuggingFace, Lightning AI, Microsoft Azure, Nvidia, and many others have made significant investments, including both technical contributions and community building efforts."
      ],
      "text/plain": [
       "<class 'symai.extended.interfaces.google.google'>(value=While Meta remains the largest contributor to PyTorch, companies such as AMD, Amazon Web Services (AWS), Google Cloud, HuggingFace, Lightning AI, Microsoft Azure, Nvidia, and many others have made significant investments, including both technical contributions and community building efforts.)"
      ]
     },
     "execution_count": 6,
     "metadata": {},
     "output_type": "execute_result"
    }
   ],
   "source": [
    "Interface('google').search('Who is the investor of PyTorch?')"
   ]
  },
  {
   "cell_type": "code",
   "execution_count": 7,
   "metadata": {},
   "outputs": [],
   "source": [
    "from symai.extended import DocumentRetriever"
   ]
  },
  {
   "cell_type": "code",
   "execution_count": null,
   "metadata": {},
   "outputs": [],
   "source": [
    "docret = DocumentRetriever('<path_to_your_pdf_file>')"
   ]
  },
  {
   "cell_type": "code",
   "execution_count": null,
   "metadata": {},
   "outputs": [],
   "source": [
    "res = docret.query('What is the Theory of Mind paper about?')"
   ]
  },
  {
   "cell_type": "code",
   "execution_count": null,
   "metadata": {},
   "outputs": [],
   "source": [
    "res"
   ]
  },
  {
   "cell_type": "code",
   "execution_count": null,
   "metadata": {},
   "outputs": [],
   "source": [
    "image = res.extract('main idea')"
   ]
  },
  {
   "cell_type": "code",
   "execution_count": null,
   "metadata": {},
   "outputs": [],
   "source": []
  }
 ],
 "metadata": {
  "kernelspec": {
   "display_name": "symai",
   "language": "python",
   "name": "symai"
  },
  "language_info": {
   "codemirror_mode": {
    "name": "ipython",
    "version": 3
   },
   "file_extension": ".py",
   "mimetype": "text/x-python",
   "name": "python",
   "nbconvert_exporter": "python",
   "pygments_lexer": "ipython3",
   "version": "3.11.3"
  },
  "orig_nbformat": 4
 },
 "nbformat": 4,
 "nbformat_minor": 2
}
