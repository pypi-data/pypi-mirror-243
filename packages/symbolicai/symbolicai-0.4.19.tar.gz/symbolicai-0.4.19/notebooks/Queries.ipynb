{
 "cells": [
  {
   "cell_type": "code",
   "execution_count": 2,
   "metadata": {},
   "outputs": [],
   "source": [
    "import os\n",
    "import warnings\n",
    "warnings.filterwarnings('ignore')\n",
    "os.chdir('../') # set the working directory to the root of the project\n",
    "from symai import *\n",
    "from IPython.display import display\n",
    "from examples.sql import SQL\n",
    "sql = SQL()"
   ]
  },
  {
   "attachments": {},
   "cell_type": "markdown",
   "metadata": {},
   "source": [
    "## SQL Example"
   ]
  },
  {
   "attachments": {},
   "cell_type": "markdown",
   "metadata": {},
   "source": [
    "The `SQL` expression is defined and passes as a global context the syntax of the SQL language. The SQL expression is then used to generate queries based on the given context. We can then use the generated queries to get data from a database."
   ]
  },
  {
   "cell_type": "markdown",
   "metadata": {},
   "source": [
    "The following query is sent to the neural computation engine and creates a query based on the given context:"
   ]
  },
  {
   "cell_type": "code",
   "execution_count": 27,
   "metadata": {},
   "outputs": [
    {
     "data": {
      "text/html": [
       "<div class=\"alert alert-success\" role=\"alert\">\n",
       "  SELECT * FROM Members WHERE age > 30\n",
       "</div>"
      ],
      "text/plain": [
       "<class 'examples.sql.SQL'>(value=SELECT * FROM Members WHERE age > 30)"
      ]
     },
     "metadata": {},
     "output_type": "display_data"
    }
   ],
   "source": [
    "q = sql('Select all users above the age of 30 from the Members table.'); display(q)"
   ]
  },
  {
   "cell_type": "markdown",
   "metadata": {},
   "source": [
    "We can now try to further manipulate the result by asking the model to incorporate additional information, such as filtering to a specific time range:"
   ]
  },
  {
   "cell_type": "code",
   "execution_count": 4,
   "metadata": {},
   "outputs": [
    {
     "data": {
      "text/html": [
       "<div class=\"alert alert-success\" role=\"alert\">\n",
       "  SELECT * FROM Members WHERE age > 30 AND timestamp > NOW() - INTERVAL 10 MINUTE;\n",
       "</div>"
      ],
      "text/plain": [
       "<class 'examples.sql.SQL'>(value=SELECT * FROM Members WHERE age > 30 AND timestamp > NOW() - INTERVAL 10 MINUTE;)"
      ]
     },
     "metadata": {},
     "output_type": "display_data"
    }
   ],
   "source": [
    "res = q << 'limit the query to the last 10 minutes'\n",
    "display(res)"
   ]
  },
  {
   "attachments": {},
   "cell_type": "markdown",
   "metadata": {},
   "source": [
    "We can also try to remove unwanted fields from the generated query. Notice how the model tries to remove not only the given statement but attributes associated with them:"
   ]
  },
  {
   "cell_type": "code",
   "execution_count": 5,
   "metadata": {},
   "outputs": [
    {
     "data": {
      "text/html": [
       "<div class=\"alert alert-success\" role=\"alert\">\n",
       "  SELECT * FROM Members WHERE age > 30;\n",
       "</div>"
      ],
      "text/plain": [
       "<class 'examples.sql.SQL'>(value=SELECT * FROM Members WHERE age > 30;)"
      ]
     },
     "metadata": {},
     "output_type": "display_data"
    }
   ],
   "source": [
    "res -= ' AND ...'\n",
    "display(res)"
   ]
  },
  {
   "attachments": {},
   "cell_type": "markdown",
   "metadata": {},
   "source": [
    "And we can now even convert our query to other familiar domain specific languages, such as `SQL` or `ActiveRecord`:"
   ]
  },
  {
   "cell_type": "code",
   "execution_count": 6,
   "metadata": {},
   "outputs": [
    {
     "data": {
      "text/html": [
       "<div class=\"alert alert-success\" role=\"alert\">\n",
       "  Member.where(\"age > ?\", 30).select(\"*\")\n",
       "</div>"
      ],
      "text/plain": [
       "<class 'examples.sql.SQL'>(value=Member.where(\"age > ?\", 30).select(\"*\"))"
      ]
     },
     "metadata": {},
     "output_type": "display_data"
    }
   ],
   "source": [
    "sql_res = res.convert(\"ActiveRecord\")\n",
    "display(sql_res)"
   ]
  },
  {
   "cell_type": "markdown",
   "metadata": {},
   "source": [
    "To wrap things up, we might want to go back full circle and ask the model to generate again the explanation based on the given query:"
   ]
  },
  {
   "cell_type": "code",
   "execution_count": 7,
   "metadata": {},
   "outputs": [
    {
     "data": {
      "text/html": [
       "<div class=\"alert alert-success\" role=\"alert\">\n",
       "  This query selects all data from the Members table where the age is greater than 30.\n",
       "</div>"
      ],
      "text/plain": [
       "<class 'examples.sql.SQL'>(value=This query selects all data from the Members table where the age is greater than 30.)"
      ]
     },
     "metadata": {},
     "output_type": "display_data"
    }
   ],
   "source": [
    "answer_doc = res.query(\"What does this query do?\")\n",
    "display(answer_doc)"
   ]
  },
  {
   "cell_type": "markdown",
   "metadata": {},
   "source": [
    "Ask it in natural language to modify the query:"
   ]
  },
  {
   "cell_type": "code",
   "execution_count": 8,
   "metadata": {},
   "outputs": [
    {
     "data": {
      "text/html": [
       "<div class=\"alert alert-success\" role=\"alert\">\n",
       "  Answer: \n",
       "You can limit the number of results to 30 for an SQL query by adding the LIMIT clause at the end of the query, like this: \n",
       "SELECT * FROM Members WHERE age > 30 LIMIT 30;\n",
       "</div>"
      ],
      "text/plain": [
       "<class 'examples.sql.SQL'>(value=Answer: \n",
       "You can limit the number of results to 30 for an SQL query by adding the LIMIT clause at the end of the query, like this: \n",
       "SELECT * FROM Members WHERE age > 30 LIMIT 30;)"
      ]
     },
     "metadata": {},
     "output_type": "display_data"
    }
   ],
   "source": [
    "answer = res.query(\"How can you limit the number of results to 30 for an SQL query?\")\n",
    "display(answer)"
   ]
  },
  {
   "attachments": {},
   "cell_type": "markdown",
   "metadata": {},
   "source": [
    "Even translate the explanation to a different language on the fly:"
   ]
  },
  {
   "cell_type": "code",
   "execution_count": 9,
   "metadata": {},
   "outputs": [
    {
     "data": {
      "text/html": [
       "<div class=\"alert alert-success\" role=\"alert\">\n",
       "  Diese Abfrage wählt alle Daten aus der Mitgliedertabelle aus, in der das Alter größer als 30 ist.\n",
       "</div>"
      ],
      "text/plain": [
       "<class 'botdyn.symbol.Symbol'>(value=Diese Abfrage wählt alle Daten aus der Mitgliedertabelle aus, in der das Alter größer als 30 ist.)"
      ]
     },
     "metadata": {},
     "output_type": "display_data"
    }
   ],
   "source": [
    "locale = Symbol(answer_doc).translate('German')\n",
    "display(locale)"
   ]
  },
  {
   "attachments": {},
   "cell_type": "markdown",
   "metadata": {},
   "source": [
    "Fixing the query on the fly if something goes wrong or the user quickly wants to adapt a query:"
   ]
  },
  {
   "cell_type": "code",
   "execution_count": 21,
   "metadata": {},
   "outputs": [],
   "source": [
    "sql.update(feedback=\"\"\"Explanation: Never allow SELECT *, always use LIMIT to a max of x <= 50 entries, where x is the user specified limit.\"\"\");"
   ]
  },
  {
   "cell_type": "code",
   "execution_count": 22,
   "metadata": {},
   "outputs": [
    {
     "data": {
      "text/html": [
       "<div class=\"alert alert-success\" role=\"alert\">\n",
       "  SELECT * FROM Members WHERE age > 30 LIMIT 50\n",
       "</div>"
      ],
      "text/plain": [
       "<class 'examples.sql.SQL'>(value=SELECT * FROM Members WHERE age > 30 LIMIT 50)"
      ]
     },
     "metadata": {},
     "output_type": "display_data"
    }
   ],
   "source": [
    "res = sql('Select all users above the age of 30 from the Members table.')\n",
    "display(res)"
   ]
  },
  {
   "cell_type": "code",
   "execution_count": 23,
   "metadata": {},
   "outputs": [],
   "source": [
    "sql.clear();"
   ]
  },
  {
   "cell_type": "code",
   "execution_count": 24,
   "metadata": {},
   "outputs": [
    {
     "data": {
      "text/html": [
       "<div class=\"alert alert-success\" role=\"alert\">\n",
       "  SELECT * FROM Members WHERE age > 30\n",
       "</div>"
      ],
      "text/plain": [
       "<class 'examples.sql.SQL'>(value=SELECT * FROM Members WHERE age > 30)"
      ]
     },
     "metadata": {},
     "output_type": "display_data"
    }
   ],
   "source": [
    "res = sql('Select all users above the age of 30 from the Members table.')\n",
    "display(res)"
   ]
  },
  {
   "cell_type": "code",
   "execution_count": null,
   "metadata": {},
   "outputs": [],
   "source": []
  }
 ],
 "metadata": {
  "kernelspec": {
   "display_name": "continualrl",
   "language": "python",
   "name": "python3"
  },
  "language_info": {
   "codemirror_mode": {
    "name": "ipython",
    "version": 3
   },
   "file_extension": ".py",
   "mimetype": "text/x-python",
   "name": "python",
   "nbconvert_exporter": "python",
   "pygments_lexer": "ipython3",
   "version": "3.9.7"
  },
  "vscode": {
   "interpreter": {
    "hash": "7f6e76e437f50039fcb1dabeb26a40fb80edddddd3448a5d408bb52a844f2e97"
   }
  }
 },
 "nbformat": 4,
 "nbformat_minor": 4
}
