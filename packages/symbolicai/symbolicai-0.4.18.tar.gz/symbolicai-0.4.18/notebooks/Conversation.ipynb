{
 "cells": [
  {
   "cell_type": "code",
   "execution_count": 1,
   "metadata": {},
   "outputs": [],
   "source": [
    "from symai import FileReader, JsonParser"
   ]
  },
  {
   "cell_type": "code",
   "execution_count": 2,
   "metadata": {},
   "outputs": [],
   "source": [
    "reader = FileReader()\n",
    "code = reader('/Users/xpitfire/workspace/symbolicai/symai/constraints.py')"
   ]
  },
  {
   "cell_type": "code",
   "execution_count": 3,
   "metadata": {},
   "outputs": [],
   "source": [
    "parser = JsonParser(\"Extract all class methods:\", {'methods': [\n",
    "    {'name': 'command', 'params': ['wrp_params']},\n",
    "    {'name': 'forward', 'params': ['*args', '**kwargs']},\n",
    "]})"
   ]
  },
  {
   "cell_type": "code",
   "execution_count": 4,
   "metadata": {},
   "outputs": [],
   "source": [
    "res = parser(code)"
   ]
  },
  {
   "cell_type": "code",
   "execution_count": 5,
   "metadata": {},
   "outputs": [
    {
     "data": {
      "text/html": [
       "{'methods': [{'name': '__init__', 'params': ['format']}, {'name': '__call__', 'params': ['input']}, {'name': 'check_keys', 'params': ['json_format', 'gen_dict']}]}"
      ],
      "text/plain": [
       "<class 'symai.symbol.Symbol'>(value={'methods': [{'name': '__init__', 'params': ['format']}, {'name': '__call__', 'params': ['input']}, {'name': 'check_keys', 'params': ['json_format', 'gen_dict']}]})"
      ]
     },
     "execution_count": 5,
     "metadata": {},
     "output_type": "execute_result"
    }
   ],
   "source": [
    "res"
   ]
  },
  {
   "cell_type": "code",
   "execution_count": 10,
   "metadata": {},
   "outputs": [],
   "source": [
    "from symai.extended import FileMerger"
   ]
  },
  {
   "cell_type": "code",
   "execution_count": 11,
   "metadata": {},
   "outputs": [],
   "source": [
    "merger = FileMerger()"
   ]
  },
  {
   "cell_type": "code",
   "execution_count": 12,
   "metadata": {},
   "outputs": [
    {
     "name": "stderr",
     "output_type": "stream",
     "text": [
      "Reading file: ...: 0it [00:00, ?it/s]\n"
     ]
    }
   ],
   "source": [
    "merged = merger('<path_to_dir>')"
   ]
  },
  {
   "cell_type": "code",
   "execution_count": 13,
   "metadata": {},
   "outputs": [
    {
     "data": {
      "text/html": [],
      "text/plain": [
       "<class 'symai.symbol.Symbol'>(value=)"
      ]
     },
     "execution_count": 13,
     "metadata": {},
     "output_type": "execute_result"
    }
   ],
   "source": [
    "merged"
   ]
  },
  {
   "cell_type": "code",
   "execution_count": 18,
   "metadata": {},
   "outputs": [
    {
     "name": "stdout",
     "output_type": "stream",
     "text": [
      "Module 'ExtensityAI/timezone' already installed.\n"
     ]
    }
   ],
   "source": [
    "# install symai package for timezone conversion\n",
    "!sympkg i ExtensityAI/timezone"
   ]
  },
  {
   "cell_type": "code",
   "execution_count": 15,
   "metadata": {},
   "outputs": [],
   "source": [
    "conv = Conversation(file_link='/Users/xpitfire/.symai/packages/ExtensityAI/timezone/src/func.py')"
   ]
  },
  {
   "cell_type": "code",
   "execution_count": 17,
   "metadata": {},
   "outputs": [
    {
     "name": "stdout",
     "output_type": "stream",
     "text": [
      "The `Timezone` class inherits from the `Expression` class provided by the `symai` package. The `Timezone` class encapsulates functionality to convert between different time zones based on a time table. It includes the following key components:\n",
      "\n",
      "- `__init__` method: Initializes the `Timezone` object and its base class, and creates a `Function` object with a description of the functionality associated with time zone conversion.\n",
      "\n",
      "- `find_substring` method: Takes a country name as input and computes the similarity of this country name with each entry in a provided country/time zone table, using the `SequenceMatcher` class from Python's `difflib` module for string comparisons.\n",
      "\n",
      "- `forward` method: Handles incoming requests. It converts the request to a `Symbol` using `_to_symbol`, extracts the target timezone or country from the request, finds the most similar time zones using the `find_substring` method, sorts them to get the top `k` (default is 10) most similar time zones, and then formats the results into a string which it passes along with any additional arguments to the associated `Function` object for responding to the user.\n"
     ]
    }
   ],
   "source": [
    "conv('Explain the Expression');"
   ]
  },
  {
   "cell_type": "code",
   "execution_count": null,
   "metadata": {},
   "outputs": [],
   "source": []
  }
 ],
 "metadata": {
  "kernelspec": {
   "display_name": "symai",
   "language": "python",
   "name": "symai"
  },
  "language_info": {
   "codemirror_mode": {
    "name": "ipython",
    "version": 3
   },
   "file_extension": ".py",
   "mimetype": "text/x-python",
   "name": "python",
   "nbconvert_exporter": "python",
   "pygments_lexer": "ipython3",
   "version": "3.11.3"
  },
  "orig_nbformat": 4
 },
 "nbformat": 4,
 "nbformat_minor": 2
}
