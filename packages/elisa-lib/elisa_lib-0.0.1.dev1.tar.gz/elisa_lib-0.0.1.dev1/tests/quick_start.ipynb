{
 "cells": [
  {
   "cell_type": "code",
   "execution_count": 1,
   "id": "initial_id",
   "metadata": {
    "collapsed": true,
    "ExecuteTime": {
     "end_time": "2023-11-27T01:56:27.845726Z",
     "start_time": "2023-11-27T01:56:27.400354Z"
    }
   },
   "outputs": [],
   "source": [
    "from elisa.data.ogip import Data"
   ]
  },
  {
   "cell_type": "code",
   "execution_count": 2,
   "outputs": [],
   "source": [
    "det = 'n7'\n",
    "spec = f'/Users/xuewc/ObsData/GRB231115A/GBM/{det}.pha'\n",
    "back = f'/Users/xuewc/ObsData/GRB231115A/GBM/{det}.bak'\n",
    "resp = f'/Users/xuewc/ObsData/GRB231115A/GBM/{det}.rsp'\n",
    "d = Data((8, 900), spec, back, resp, name=det, group='bpos', scale=0.001)"
   ],
   "metadata": {
    "collapsed": false,
    "ExecuteTime": {
     "end_time": "2023-11-27T01:56:28.016614Z",
     "start_time": "2023-11-27T01:56:27.843940Z"
    }
   },
   "id": "f1b5841d68b052e4"
  },
  {
   "cell_type": "code",
   "execution_count": null,
   "outputs": [],
   "source": [
    "from elisa.data.ogip import Data\n",
    "from v0.data import Data as Data0\n",
    "\n",
    "det = 'n7'\n",
    "spec = f'/Users/xuewc/ObsData/GRB231115A/GBM/{det}.pha'\n",
    "back = f'/Users/xuewc/ObsData/GRB231115A/GBM/{det}.bak'\n",
    "resp = f'/Users/xuewc/ObsData/GRB231115A/GBM/{det}.rsp'\n",
    "d = Data((8, 900), spec, back, resp, name=det, group='bpos', scale=0.001)\n",
    "d0 = Data0((8, 900), spec, back, resp, name=det, group='berr', scale=0.001)\n",
    "path = '/Users/xuewc/ObsData/FRB221014/HXMT/'\n",
    "d = Data([2, 10], f'{path}/LE_optbmin5.fits',\n",
    "          f'{path}/LE_phabkg20s_g0_0-94.pha', f'{path}/LE_rsp.rsp',\n",
    "          group='bmin', scale=25)\n",
    "d0 = Data0([2, 10], f'{path}/LE_optbmin5.fits',\n",
    "          f'{path}/LE_phabkg20s_g0_0-94.pha', f'{path}/LE_rsp.rsp',\n",
    "          group='bmin', scale=25)\n",
    "for i in ['back_counts', 'back_error', 'net_counts', 'net_error', 'net_spec', 'ch_emin', 'ch_emax', 'ch_width', 'ch_error', 'resp_matrix', 'ph_egrid']:\n",
    "    if i == 'ch_error':\n",
    "        print(i, np.abs(getattr(d, i)-np.abs(getattr(d0, i))).max())\n",
    "    elif i == 'ph_egrid':\n",
    "        print(i, np.abs(d.ph_egrid-d0.ph_ebins).max())\n",
    "    else:\n",
    "        print(i, np.abs(getattr(d, i)-getattr(d0, i)).max())"
   ],
   "metadata": {
    "collapsed": false
   },
   "id": "b4a5f3d329b69acc"
  }
 ],
 "metadata": {
  "kernelspec": {
   "display_name": "Python 3",
   "language": "python",
   "name": "python3"
  },
  "language_info": {
   "codemirror_mode": {
    "name": "ipython",
    "version": 2
   },
   "file_extension": ".py",
   "mimetype": "text/x-python",
   "name": "python",
   "nbconvert_exporter": "python",
   "pygments_lexer": "ipython2",
   "version": "2.7.6"
  }
 },
 "nbformat": 4,
 "nbformat_minor": 5
}
