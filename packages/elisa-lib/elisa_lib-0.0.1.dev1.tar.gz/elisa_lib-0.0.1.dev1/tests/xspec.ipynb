{
 "cells": [
  {
   "cell_type": "code",
   "execution_count": 12,
   "id": "initial_id",
   "metadata": {
    "ExecuteTime": {
     "end_time": "2023-11-25T05:55:14.265450Z",
     "start_time": "2023-11-25T05:55:14.092996Z"
    }
   },
   "outputs": [],
   "source": [
    "import os\n",
    "import matplotlib.pyplot as plt\n",
    "import numpy as np\n",
    "from astropy.io import fits\n",
    "from xspec import *"
   ]
  },
  {
   "cell_type": "code",
   "execution_count": 7,
   "id": "5c2fa8b530257c2d",
   "metadata": {
    "collapsed": false,
    "jupyter": {
     "outputs_hidden": false
    }
   },
   "outputs": [
    {
     "name": "stdout",
     "output_type": "stream",
     "text": [
      "\n",
      "1 spectrum  in use\n",
      " \n",
      "Spectral Data File: BAT_3373-3500s.pha  Spectrum 1\n",
      "Net count rate (cts/s) for Spectrum:1  1.106e-01 +/- 9.390e-03\n",
      " Assigned to Data Group 1 and Plot Group 1\n",
      "  Noticed Channels:  1-80\n",
      "  Telescope: SWIFT Instrument: BAT  Channel Type: PI\n",
      "  Exposure Time: 127 sec\n",
      " Using fit statistic: chi\n",
      " Using Response (RMF) File            BAT_3373-3500s.rsp for Source 1\n",
      "\n",
      "\n",
      "========================================================================\n",
      "Model powerlaw<1> Source No.: 1   Active/On\n",
      "Model Model Component  Parameter  Unit     Value\n",
      " par  comp\n",
      "   1    1   powerlaw   PhoIndex            1.00000      +/-  0.0          \n",
      "   2    1   powerlaw   norm                1.00000      +/-  0.0          \n",
      "________________________________________________________________________\n",
      "\n",
      "\n",
      "Fit statistic  : Chi-Squared                28433.43     using 80 bins.\n",
      "\n",
      "Test statistic : Chi-Squared                28433.43     using 80 bins.\n",
      " Null hypothesis probability of 0.00e+00 with 78 degrees of freedom\n",
      " Current data and model not fit yet.\n",
      "                                   Parameters\n",
      "Chi-Squared  |beta|/N    Lvl    1:PhoIndex        2:norm\n",
      "614.281      262.784      -1       1.06679      0.275611\n",
      "555.815      255.141      -1       1.12756      0.356089\n",
      "499.273      238.439      -1       1.18476      0.457445\n",
      "447.137      188.046      -1       1.23901      0.580006\n",
      "399.792      144.649      -1       1.29044      0.725147\n",
      "357.129      111.126      -1       1.33913      0.894192\n",
      "318.914      85.3172      -1       1.38514       1.08809\n",
      "284.857      65.1795      -1       1.42854       1.30732\n",
      "254.644      49.2906      -1       1.46941       1.55182\n",
      "227.948      36.7274      -1       1.50786       1.82104\n",
      "204.444      26.9313      -1       1.54397       2.11389\n",
      "183.814      19.6416      -1       1.57785       2.42888\n",
      "165.755      14.8621      -1       1.60961       2.76409\n",
      "149.986      12.6508      -1       1.63934       3.11730\n",
      "136.244      12.5574      -1       1.66715       3.48608\n",
      "134.085      13.5889      -2       1.83056       5.72580\n",
      "79.5151      598.148      -2       1.92567       8.71617\n",
      "69.9031      402.427      -3       2.03593       13.1618\n",
      "48.0296      415.47       -4       2.04113       14.6808\n",
      "48.0202      9.47619      -5       2.04087       14.6936\n",
      "==============================\n",
      " Variances and Principal Axes\n",
      "                 1        2  \n",
      " 2.5899E-05|  0.9998  -0.0183  \n",
      " 4.9149E+00|  0.0183   0.9998  \n",
      "------------------------------\n",
      "\n",
      "========================\n",
      "  Covariance Matrix\n",
      "        1           2   \n",
      "   1.666e-03   8.977e-02\n",
      "   8.977e-02   4.913e+00\n",
      "------------------------\n",
      "\n",
      "========================================================================\n",
      "Model powerlaw<1> Source No.: 1   Active/On\n",
      "Model Model Component  Parameter  Unit     Value\n",
      " par  comp\n",
      "   1    1   powerlaw   PhoIndex            2.04087      +/-  4.08180E-02  \n",
      "   2    1   powerlaw   norm                14.6936      +/-  2.21658      \n",
      "________________________________________________________________________\n",
      "\n",
      "\n",
      "Fit statistic  : Chi-Squared                   48.02     using 80 bins.\n",
      "\n",
      "Test statistic : Chi-Squared                   48.02     using 80 bins.\n",
      " Null hypothesis probability of 9.97e-01 with 78 degrees of freedom\n"
     ]
    }
   ],
   "source": [
    "os.chdir('/Users/xuewc/ObsData/GRB221009A/01126853000/spec')\n",
    "AllData.clear()\n",
    "AllModels.clear()\n",
    "s = Spectrum('BAT_3373-3500s.pha')\n",
    "m = Model('po')\n",
    "Fit.nIterations = int(1e6)\n",
    "Fit.perform()"
   ]
  },
  {
   "cell_type": "code",
   "execution_count": 33,
   "id": "dad1d89c-7c66-45ce-a96f-9e08c768b6ad",
   "metadata": {},
   "outputs": [
    {
     "data": {
      "text/plain": [
       "(True, True)"
      ]
     },
     "execution_count": 33,
     "metadata": {},
     "output_type": "execute_result"
    }
   ],
   "source": [
    "Plot('res')\n",
    "resd1 = Plot.y()\n",
    "err1 = Plot.yErr()\n",
    "\n",
    "with fits.open('BAT_3373-3500s.pha') as hdul:\n",
    "    data = hdul['SPECTRUM'].data\n",
    "\n",
    "resd2 = data['RATE'] - m.folded(1)\n",
    "err2 = np.sqrt(data['STAT_ERR']**2 + (data['SYS_ERR']*data['RATE'])**2)\n",
    "np.allclose(resd1, resd2), np.allclose(err1, err2)"
   ]
  },
  {
   "cell_type": "code",
   "execution_count": 34,
   "id": "2aafccbc-75c0-40b1-98ed-7f608c456caf",
   "metadata": {},
   "outputs": [
    {
     "data": {
      "text/plain": [
       "True"
      ]
     },
     "execution_count": 34,
     "metadata": {},
     "output_type": "execute_result"
    }
   ],
   "source": [
    "Plot('delchi')\n",
    "\n",
    "delchi1 = Plot.y()\n",
    "delchi2 = resd2 / err2\n",
    "np.allclose(delchi1, delchi2)"
   ]
  },
  {
   "cell_type": "code",
   "execution_count": 40,
   "id": "ac218064-44d3-4ca0-b48d-a61169455c2d",
   "metadata": {},
   "outputs": [
    {
     "name": "stdout",
     "output_type": "stream",
     "text": [
      "Default fit statistic is set to: Chi-Squared\n",
      "   This will apply to all current and newly loaded spectra.\n",
      "\n",
      "Fit statistic  : Chi-Squared                   48.02     using 80 bins.\n",
      "\n",
      "Test statistic : Chi-Squared                   48.02     using 80 bins.\n",
      " Null hypothesis probability of 9.97e-01 with 78 degrees of freedom\n",
      " Current data and model not fit yet.\n",
      "                                   Parameters\n",
      "Chi-Squared  |beta|/N    Lvl    1:PhoIndex        2:norm\n",
      "48.0202      5.31543e-06  -3       2.04087       14.6936\n",
      "==============================\n",
      " Variances and Principal Axes\n",
      "                 1        2  \n",
      " 2.5804E-05|  0.9998  -0.0183  \n",
      " 4.9055E+00|  0.0183   0.9998  \n",
      "------------------------------\n",
      "\n",
      "========================\n",
      "  Covariance Matrix\n",
      "        1           2   \n",
      "   1.660e-03   8.952e-02\n",
      "   8.952e-02   4.904e+00\n",
      "------------------------\n",
      "\n",
      "========================================================================\n",
      "Model powerlaw<1> Source No.: 1   Active/On\n",
      "Model Model Component  Parameter  Unit     Value\n",
      " par  comp\n",
      "   1    1   powerlaw   PhoIndex            2.04087      +/-  4.07423E-02  \n",
      "   2    1   powerlaw   norm                14.6936      +/-  2.21448      \n",
      "________________________________________________________________________\n",
      "\n",
      "\n",
      "Fit statistic  : Chi-Squared                   48.02     using 80 bins.\n",
      "\n",
      "Test statistic : Chi-Squared                   48.02     using 80 bins.\n",
      " Null hypothesis probability of 9.97e-01 with 78 degrees of freedom\n"
     ]
    }
   ],
   "source": [
    "Fit.statMethod = 'chi'\n",
    "Fit.perform()"
   ]
  },
  {
   "cell_type": "code",
   "execution_count": 42,
   "id": "13468c18-581f-405f-89ee-ed6453920c48",
   "metadata": {},
   "outputs": [
    {
     "data": {
      "text/plain": [
       "True"
      ]
     },
     "execution_count": 42,
     "metadata": {},
     "output_type": "execute_result"
    }
   ],
   "source": [
    "np.allclose(np.square(delchi2).sum(), Fit.statistic)"
   ]
  },
  {
   "cell_type": "code",
   "execution_count": 37,
   "id": "6a814b99-1963-4d65-a3f6-ecfe319b6a1c",
   "metadata": {},
   "outputs": [
    {
     "data": {
      "text/plain": [
       "True"
      ]
     },
     "execution_count": 37,
     "metadata": {},
     "output_type": "execute_result"
    }
   ],
   "source": [
    "np.allclose(s.variance, data['STAT_ERR']**2 + (data['SYS_ERR']*data['RATE'])**2)"
   ]
  },
  {
   "cell_type": "code",
   "execution_count": 47,
   "id": "ffdcad27-3760-47d9-b980-66ab9b57f6f4",
   "metadata": {},
   "outputs": [
    {
     "data": {
      "text/plain": [
       "array([0.22680953, 0.58371702, 0.95411222, 0.20677094, 0.14776397,\n",
       "       0.11289321, 0.08818185, 0.06423229, 0.0499828 , 0.04362658,\n",
       "       0.04063909, 0.03534055, 0.03295038, 0.0311779 , 0.02885568,\n",
       "       0.02850057, 0.02740363, 0.02617251, 0.02542448, 0.02435249,\n",
       "       0.0242118 , 0.02317325, 0.02400271, 0.02359549, 0.0223783 ,\n",
       "       0.02118065, 0.02157769, 0.02055324, 0.01956622, 0.01932884,\n",
       "       0.01933339, 0.01856585, 0.01807934, 0.01673353, 0.01665404,\n",
       "       0.01668146, 0.01653296, 0.01575977, 0.01494822, 0.01425017,\n",
       "       0.01415013, 0.01337133, 0.01332979, 0.01335386, 0.01262724,\n",
       "       0.01269727, 0.01275923, 0.01242218, 0.01229947, 0.01201289,\n",
       "       0.01218639, 0.01198942, 0.01179844, 0.01194474, 0.01145153,\n",
       "       0.01134166, 0.01113152, 0.01105041, 0.01123787, 0.01085895,\n",
       "       0.01095972, 0.01099774, 0.01104645, 0.01075783, 0.01066877,\n",
       "       0.01056708, 0.01001026, 0.01001472, 0.00969847, 0.00964154,\n",
       "       0.00983686, 0.00929257, 0.00921285, 0.00887748, 0.00895662,\n",
       "       0.00904246, 0.00900732, 0.00893966, 0.00859916, 0.06599832])"
      ]
     },
     "execution_count": 47,
     "metadata": {},
     "output_type": "execute_result"
    }
   ],
   "source": [
    "np.array(err1)*s.exposure"
   ]
  },
  {
   "cell_type": "code",
   "execution_count": 48,
   "id": "b6edcaf7-468c-42e9-97e7-bb9f8ce677f3",
   "metadata": {},
   "outputs": [
    {
     "data": {
      "text/plain": [
       "127.00094604492188"
      ]
     },
     "execution_count": 48,
     "metadata": {},
     "output_type": "execute_result"
    }
   ],
   "source": [
    "s.exposure"
   ]
  },
  {
   "cell_type": "code",
   "execution_count": 1,
   "id": "0b4e792a-b11f-493e-935d-09c5ca924cef",
   "metadata": {},
   "outputs": [],
   "source": [
    "import os\n",
    "os.sys.path.append(os.path.abspath('../src'))"
   ]
  },
  {
   "cell_type": "code",
   "execution_count": 2,
   "id": "7929da8a-3b63-4fed-b2e1-476f111e1d2d",
   "metadata": {},
   "outputs": [],
   "source": [
    "from elisa.data.ogip import Data"
   ]
  },
  {
   "cell_type": "code",
   "execution_count": null,
   "id": "85d08fb8-6af5-4700-a0ce-4375d20cda9c",
   "metadata": {},
   "outputs": [],
   "source": [
    "Data.group()"
   ]
  },
  {
   "cell_type": "code",
   "execution_count": null,
   "id": "68c3ef00-be87-4eda-99ba-d71513d3a611",
   "metadata": {},
   "outputs": [],
   "source": []
  }
 ],
 "metadata": {
  "kernelspec": {
   "display_name": "Python 3 (ipykernel)",
   "language": "python",
   "name": "python3"
  },
  "language_info": {
   "codemirror_mode": {
    "name": "ipython",
    "version": 3
   },
   "file_extension": ".py",
   "mimetype": "text/x-python",
   "name": "python",
   "nbconvert_exporter": "python",
   "pygments_lexer": "ipython3",
   "version": "3.10.12"
  }
 },
 "nbformat": 4,
 "nbformat_minor": 5
}
