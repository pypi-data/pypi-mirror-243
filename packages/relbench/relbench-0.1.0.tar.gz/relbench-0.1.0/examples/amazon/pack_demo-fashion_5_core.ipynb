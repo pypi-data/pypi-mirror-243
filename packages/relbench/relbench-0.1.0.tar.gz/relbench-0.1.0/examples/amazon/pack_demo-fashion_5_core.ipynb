{
 "cells": [
  {
   "cell_type": "code",
   "execution_count": 1,
   "id": "f328220d-6d96-447b-9da6-18ae0069025a",
   "metadata": {},
   "outputs": [],
   "source": [
    "%load_ext autoreload\n",
    "%autoreload 2"
   ]
  },
  {
   "cell_type": "code",
   "execution_count": 2,
   "id": "6f3dac79-b7aa-46e7-9f60-7728da8bc263",
   "metadata": {},
   "outputs": [],
   "source": [
    "from rtb.datasets import get_dataset"
   ]
  },
  {
   "cell_type": "code",
   "execution_count": 3,
   "id": "7c9d1987-1582-4115-92e2-23d4e9da3a98",
   "metadata": {},
   "outputs": [
    {
     "name": "stderr",
     "output_type": "stream",
     "text": [
      "Downloading data from 'https://datarepo.eng.ucsd.edu/mcauley_group/data/amazon_v2/metaFiles2/meta_AMAZON_FASHION.json.gz' to file '/dfs/user/kexinh/.cache/pooch/b70e8d295f37e2465ea17803b6d1e11d-meta_AMAZON_FASHION.json.gz'.\n"
     ]
    },
    {
     "name": "stdout",
     "output_type": "stream",
     "text": [
      "making Database object from raw files...\n"
     ]
    },
    {
     "name": "stderr",
     "output_type": "stream",
     "text": [
      "100%|█████████████████████████████████████| 33.0M/33.0M [00:00<00:00, 39.1GB/s]\n",
      "SHA256 hash of downloaded file: 12c7ec0ae842561065e458d344f46f9ec8e3e3e6de72f6dc46b4d65c4e041bf1\n",
      "Use this value as the 'known_hash' argument of 'pooch.retrieve' to ensure that the file hasn't changed if it is downloaded again in the future.\n",
      "Decompressing '/dfs/user/kexinh/.cache/pooch/b70e8d295f37e2465ea17803b6d1e11d-meta_AMAZON_FASHION.json.gz' to '/dfs/user/kexinh/.cache/pooch/b70e8d295f37e2465ea17803b6d1e11d-meta_AMAZON_FASHION.json.gz.decomp' using method 'auto'.\n"
     ]
    },
    {
     "name": "stdout",
     "output_type": "stream",
     "text": [
      "reading product info from /dfs/user/kexinh/.cache/pooch/b70e8d295f37e2465ea17803b6d1e11d-meta_AMAZON_FASHION.json.gz.decomp...\n",
      "done in 0.09 seconds.\n",
      "converting to pandas dataframe...\n"
     ]
    },
    {
     "name": "stderr",
     "output_type": "stream",
     "text": [
      "Downloading data from 'https://datarepo.eng.ucsd.edu/mcauley_group/data/amazon_v2/categoryFilesSmall/AMAZON_FASHION_5.json.gz' to file '/dfs/user/kexinh/.cache/pooch/26323778935ec86761e2c260cea27601-AMAZON_FASHION_5.json.gz'.\n"
     ]
    },
    {
     "name": "stdout",
     "output_type": "stream",
     "text": [
      "done in 0.12 seconds.\n",
      "processing product info...\n",
      "done in 0.09 seconds.\n"
     ]
    },
    {
     "name": "stderr",
     "output_type": "stream",
     "text": [
      "100%|████████████████████████████████████████| 287k/287k [00:00<00:00, 352MB/s]\n",
      "SHA256 hash of downloaded file: 5c73b65d0a5cc5dcd905b75a87086c37513ff0d023b02b381e729ab8a9541cb6\n",
      "Use this value as the 'known_hash' argument of 'pooch.retrieve' to ensure that the file hasn't changed if it is downloaded again in the future.\n",
      "Decompressing '/dfs/user/kexinh/.cache/pooch/26323778935ec86761e2c260cea27601-AMAZON_FASHION_5.json.gz' to '/dfs/user/kexinh/.cache/pooch/26323778935ec86761e2c260cea27601-AMAZON_FASHION_5.json.gz.decomp' using method 'auto'.\n"
     ]
    },
    {
     "name": "stdout",
     "output_type": "stream",
     "text": [
      "reading review and customer info from /dfs/user/kexinh/.cache/pooch/26323778935ec86761e2c260cea27601-AMAZON_FASHION_5.json.gz.decomp...\n",
      "done in 0.01 seconds.\n",
      "converting to pandas dataframe...\n",
      "done in 0.00 seconds.\n",
      "processing review and customer info...\n",
      "done in 0.00 seconds.\n",
      "keeping only products common to product and review tables...\n",
      "done in 0.01 seconds.\n",
      "extracting customer table...\n",
      "done in 0.00 seconds.\n",
      "done in 2.55 seconds.\n",
      "reindexing pkeys and fkeys...\n",
      "done in 0.00 seconds.\n"
     ]
    },
    {
     "data": {
      "text/plain": [
       "AmazonReviewsDataset()"
      ]
     },
     "execution_count": 3,
     "metadata": {},
     "output_type": "execute_result"
    }
   ],
   "source": [
    "dataset = get_dataset(\n",
    "    name=\"amazon_reviews\",\n",
    "    category=\"fashion\",\n",
    "    use_5_core=True,\n",
    "    process=True,  # this will process from raw files instead of trying to download from relbench\n",
    ")\n",
    "dataset"
   ]
  },
  {
   "cell_type": "code",
   "execution_count": 4,
   "id": "fba05fee-0828-4b20-afb2-e541c0b856ab",
   "metadata": {},
   "outputs": [
    {
     "name": "stdout",
     "output_type": "stream",
     "text": [
      "saving Database object to /tmp/tmpzvplhe4y/db...\n",
      "done in 0.01 seconds.\n",
      "making zip archive for db...\n",
      "done in 0.01 seconds.\n",
      "upload: /tmp/staging_data/amazon_reviews-fashion_5_core/db.zip\n",
      "sha256: 4a670715874f313f6f434d56266bdf42b4e259c096a3f06cbd239aaf4f953152\n"
     ]
    },
    {
     "name": "stderr",
     "output_type": "stream",
     "text": [
      "/dfs/user/kexinh/miniconda3/envs/rtb/lib/python3.10/site-packages/pyarrow/pandas_compat.py:373: FutureWarning: is_sparse is deprecated and will be removed in a future version. Check `isinstance(dtype, pd.SparseDtype)` instead.\n",
      "  if _pandas_api.is_sparse(col):\n"
     ]
    }
   ],
   "source": [
    "dataset.pack_db(\"/tmp/staging_data\")"
   ]
  },
  {
   "cell_type": "code",
   "execution_count": 5,
   "id": "9f163264-dbda-4534-aa3f-19dd18572c1c",
   "metadata": {},
   "outputs": [
    {
     "data": {
      "text/plain": [
       "CustomerChurnTask(dataset=AmazonReviewsDataset())"
      ]
     },
     "execution_count": 5,
     "metadata": {},
     "output_type": "execute_result"
    }
   ],
   "source": [
    "# this will avoid downloading, and make the train/val/test tables on the fly\n",
    "task = dataset.get_task(\"customer_churn\", process=True)\n",
    "task"
   ]
  },
  {
   "cell_type": "code",
   "execution_count": 6,
   "id": "93b86076-7ecd-463e-a3a6-b53578a91043",
   "metadata": {},
   "outputs": [
    {
     "name": "stdout",
     "output_type": "stream",
     "text": [
      "upload: /tmp/staging_data/amazon_reviews-fashion_5_core/tasks/customer_churn.zip\n",
      "sha256: 7b3cfb6c3ad0cf1ca1a67d47010bf7ddaeeb9e2c614ae587cde541ebbd930e20\n"
     ]
    },
    {
     "name": "stderr",
     "output_type": "stream",
     "text": [
      "/dfs/user/kexinh/miniconda3/envs/rtb/lib/python3.10/site-packages/pyarrow/pandas_compat.py:373: FutureWarning: is_sparse is deprecated and will be removed in a future version. Check `isinstance(dtype, pd.SparseDtype)` instead.\n",
      "  if _pandas_api.is_sparse(col):\n"
     ]
    }
   ],
   "source": [
    "task.pack_tables(\"/tmp/staging_data\")"
   ]
  },
  {
   "cell_type": "code",
   "execution_count": null,
   "id": "350cef28-206b-46dd-a4db-e0b48bf5ad24",
   "metadata": {},
   "outputs": [],
   "source": []
  }
 ],
 "metadata": {
  "kernelspec": {
   "display_name": "Python 3 (ipykernel)",
   "language": "python",
   "name": "python3"
  },
  "language_info": {
   "codemirror_mode": {
    "name": "ipython",
    "version": 3
   },
   "file_extension": ".py",
   "mimetype": "text/x-python",
   "name": "python",
   "nbconvert_exporter": "python",
   "pygments_lexer": "ipython3",
   "version": "3.10.13"
  }
 },
 "nbformat": 4,
 "nbformat_minor": 5
}
