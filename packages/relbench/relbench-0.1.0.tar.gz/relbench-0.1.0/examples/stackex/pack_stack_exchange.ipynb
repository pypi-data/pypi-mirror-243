{
 "cells": [
  {
   "cell_type": "code",
   "execution_count": 2,
   "id": "461a9e35-de88-4f50-91a1-c637d65c94b2",
   "metadata": {},
   "outputs": [],
   "source": [
    "import sys\n",
    "sys.path.append('../../')\n",
    "from relbench.datasets import get_dataset"
   ]
  },
  {
   "cell_type": "code",
   "execution_count": 3,
   "id": "d8503e12-ec0f-4730-b31c-6daccd5680be",
   "metadata": {},
   "outputs": [
    {
     "name": "stdout",
     "output_type": "stream",
     "text": [
      "making Database object from raw files...\n",
      "done in 37.92 seconds.\n",
      "reindexing pkeys and fkeys...\n",
      "done in 0.86 seconds.\n"
     ]
    }
   ],
   "source": [
    "dataset = get_dataset(\n",
    "    name=\"rel-stackex\",\n",
    "    process=True\n",
    ")"
   ]
  },
  {
   "cell_type": "code",
   "execution_count": 4,
   "id": "1995fc26-7229-453a-9fe8-b5acbf924bca",
   "metadata": {},
   "outputs": [
    {
     "data": {
      "text/plain": [
       "StackExDataset()"
      ]
     },
     "execution_count": 4,
     "metadata": {},
     "output_type": "execute_result"
    }
   ],
   "source": [
    "dataset"
   ]
  },
  {
   "cell_type": "code",
   "execution_count": 5,
   "id": "0e69c47a-ad81-4405-b6c7-dab3b50b79c7",
   "metadata": {},
   "outputs": [
    {
     "name": "stdout",
     "output_type": "stream",
     "text": [
      "saving Database object to /tmp/tmp9uqvusol/db...\n"
     ]
    },
    {
     "name": "stderr",
     "output_type": "stream",
     "text": [
      "/dfs/user/kexinh/miniconda3/envs/rtb/lib/python3.10/site-packages/pyarrow/pandas_compat.py:373: FutureWarning: is_sparse is deprecated and will be removed in a future version. Check `isinstance(dtype, pd.SparseDtype)` instead.\n",
      "  if _pandas_api.is_sparse(col):\n"
     ]
    },
    {
     "name": "stdout",
     "output_type": "stream",
     "text": [
      "done in 10.32 seconds.\n",
      "making zip archive for db...\n",
      "done in 48.52 seconds.\n",
      "upload: /tmp/staging_data/rel-stackex/db.zip\n",
      "sha256: c514beb4779092caf23745a70b0e9797ebf5da2813d48b255a9427e15d9aa76c\n"
     ]
    }
   ],
   "source": [
    "dataset.pack_db(\"/tmp/staging_data\")"
   ]
  },
  {
   "cell_type": "code",
   "execution_count": 6,
   "id": "99ffa198-a0a9-4c9c-a678-0fc8061eb1f5",
   "metadata": {},
   "outputs": [
    {
     "data": {
      "text/plain": [
       "VotesTask(dataset=StackExDataset())"
      ]
     },
     "execution_count": 6,
     "metadata": {},
     "output_type": "execute_result"
    }
   ],
   "source": [
    "task = dataset.get_task(\"rel-stackex-votes\", process=True)\n",
    "task"
   ]
  },
  {
   "cell_type": "code",
   "execution_count": 8,
   "id": "e3e8dd05-5479-436b-850c-c7bf1b7b2858",
   "metadata": {},
   "outputs": [
    {
     "data": {
      "text/plain": [
       "Timestamp('2019-01-01 00:00:00')"
      ]
     },
     "execution_count": 8,
     "metadata": {},
     "output_type": "execute_result"
    }
   ],
   "source": [
    "dataset.val_timestamp"
   ]
  },
  {
   "cell_type": "code",
   "execution_count": 7,
   "id": "40a68e98-292b-4407-8c77-fd8a04b59575",
   "metadata": {},
   "outputs": [
    {
     "name": "stderr",
     "output_type": "stream",
     "text": [
      "100%|████████████████████████████████████████████████████████████████████████████████████████████████████████| 20/20 [00:07<00:00,  2.62it/s]\n"
     ]
    },
    {
     "data": {
      "text/plain": [
       "Timestamp('2018-07-05 00:00:00')"
      ]
     },
     "execution_count": 7,
     "metadata": {},
     "output_type": "execute_result"
    }
   ],
   "source": [
    "task.train_table.df.timestamp.max()"
   ]
  },
  {
   "cell_type": "code",
   "execution_count": 1,
   "id": "d1ac3372-dbdb-4d6b-95aa-063b825d78fb",
   "metadata": {},
   "outputs": [
    {
     "ename": "NameError",
     "evalue": "name 'task' is not defined",
     "output_type": "error",
     "traceback": [
      "\u001b[0;31m---------------------------------------------------------------------------\u001b[0m",
      "\u001b[0;31mNameError\u001b[0m                                 Traceback (most recent call last)",
      "Cell \u001b[0;32mIn[1], line 1\u001b[0m\n\u001b[0;32m----> 1\u001b[0m \u001b[43mtask\u001b[49m\u001b[38;5;241m.\u001b[39mval_table\n",
      "\u001b[0;31mNameError\u001b[0m: name 'task' is not defined"
     ]
    }
   ],
   "source": [
    "task.val_table"
   ]
  },
  {
   "cell_type": "code",
   "execution_count": 10,
   "id": "e0bd3c9b-967a-4e24-b11e-e4a6bd40d987",
   "metadata": {},
   "outputs": [
    {
     "name": "stderr",
     "output_type": "stream",
     "text": [
      "100%|██████████████████████████████████████████████████████████████████████████████████████████████████████████| 1/1 [00:00<00:00,  1.21it/s]\n"
     ]
    },
    {
     "data": {
      "text/plain": [
       "Table(df=\n",
       "       timestamp  PostId\n",
       "0     2021-01-01  255532\n",
       "1     2021-01-01  255533\n",
       "2     2021-01-01  255534\n",
       "3     2021-01-01  255535\n",
       "4     2021-01-01  255537\n",
       "...          ...     ...\n",
       "40058 2021-01-01  333881\n",
       "40059 2021-01-01  333883\n",
       "40060 2021-01-01  333884\n",
       "40061 2021-01-01  333885\n",
       "40062 2021-01-01  333889\n",
       "\n",
       "[40063 rows x 2 columns],\n",
       "  fkey_col_to_pkey_table={'PostId': 'posts'},\n",
       "  pkey_col=None,\n",
       "  time_col=timestamp)"
      ]
     },
     "execution_count": 10,
     "metadata": {},
     "output_type": "execute_result"
    }
   ],
   "source": [
    "task.test_table"
   ]
  },
  {
   "cell_type": "code",
   "execution_count": 11,
   "id": "0fc14a74-c9bc-45b9-912b-5252ff204f58",
   "metadata": {},
   "outputs": [
    {
     "name": "stdout",
     "output_type": "stream",
     "text": [
      "upload: /tmp/staging_data/rel-stackex/tasks/rel-stackex-votes.zip\n",
      "sha256: 888aa1ca24af84558a02ee4a7ac58507dbb754ffe57280df597a7f428651a8c5\n"
     ]
    },
    {
     "name": "stderr",
     "output_type": "stream",
     "text": [
      "/dfs/user/kexinh/miniconda3/envs/rtb/lib/python3.10/site-packages/pyarrow/pandas_compat.py:373: FutureWarning: is_sparse is deprecated and will be removed in a future version. Check `isinstance(dtype, pd.SparseDtype)` instead.\n",
      "  if _pandas_api.is_sparse(col):\n"
     ]
    }
   ],
   "source": [
    "task.pack_tables(\"/tmp/staging_data\")"
   ]
  },
  {
   "cell_type": "code",
   "execution_count": 12,
   "id": "a3406056-8d91-40a0-9d50-6e3dc84a5514",
   "metadata": {},
   "outputs": [
    {
     "data": {
      "text/plain": [
       "EngageTask(dataset=StackExDataset())"
      ]
     },
     "execution_count": 12,
     "metadata": {},
     "output_type": "execute_result"
    }
   ],
   "source": [
    "task = dataset.get_task(\"rel-stackex-engage\", process=True)\n",
    "task"
   ]
  },
  {
   "cell_type": "code",
   "execution_count": 13,
   "id": "58960838-8805-4021-a43e-d439ae6ccb94",
   "metadata": {},
   "outputs": [
    {
     "name": "stderr",
     "output_type": "stream",
     "text": [
      "100%|██████████████████████████████████████████████████████████████████████████████████████████████████████████| 4/4 [00:20<00:00,  5.17s/it]\n"
     ]
    },
    {
     "data": {
      "text/plain": [
       "Timestamp('2017-01-01 00:00:00')"
      ]
     },
     "execution_count": 13,
     "metadata": {},
     "output_type": "execute_result"
    }
   ],
   "source": [
    "task.train_table.df.timestamp.max()"
   ]
  },
  {
   "cell_type": "code",
   "execution_count": 14,
   "id": "30ec6bed-3871-4c94-8ed6-af79e9507774",
   "metadata": {},
   "outputs": [
    {
     "name": "stderr",
     "output_type": "stream",
     "text": [
      "100%|██████████████████████████████████████████████████████████████████████████████████████████████████████████| 1/1 [00:19<00:00, 19.38s/it]\n"
     ]
    },
    {
     "data": {
      "text/plain": [
       "Table(df=\n",
       "      OwnerUserId  timestamp  contribution\n",
       "0               0 2019-01-01             1\n",
       "1               2 2019-01-01             0\n",
       "2               4 2019-01-01             0\n",
       "3               5 2019-01-01             0\n",
       "4               6 2019-01-01             0\n",
       "...           ...        ...           ...\n",
       "67186      209499 2019-01-01             0\n",
       "67187      221994 2019-01-01             0\n",
       "67188      241823 2019-01-01             1\n",
       "67189      247436 2019-01-01             1\n",
       "67190      290585 2019-01-01             0\n",
       "\n",
       "[67191 rows x 3 columns],\n",
       "  fkey_col_to_pkey_table={'OwnerUserId': 'users'},\n",
       "  pkey_col=None,\n",
       "  time_col=timestamp)"
      ]
     },
     "execution_count": 14,
     "metadata": {},
     "output_type": "execute_result"
    }
   ],
   "source": [
    "task.val_table"
   ]
  },
  {
   "cell_type": "code",
   "execution_count": 15,
   "id": "2fd8fb88-70d7-4a8e-8759-6b07725299a1",
   "metadata": {},
   "outputs": [
    {
     "name": "stderr",
     "output_type": "stream",
     "text": [
      "100%|██████████████████████████████████████████████████████████████████████████████████████████████████████████| 1/1 [00:19<00:00, 19.96s/it]\n"
     ]
    },
    {
     "data": {
      "text/plain": [
       "Table(df=\n",
       "       timestamp OwnerUserId\n",
       "0     2021-01-01           0\n",
       "1     2021-01-01           2\n",
       "2     2021-01-01           4\n",
       "3     2021-01-01           5\n",
       "4     2021-01-01           6\n",
       "...          ...         ...\n",
       "88132 2021-01-01      255347\n",
       "88133 2021-01-01      256968\n",
       "88134 2021-01-01      268097\n",
       "88135 2021-01-01      278663\n",
       "88136 2021-01-01      290585\n",
       "\n",
       "[88137 rows x 2 columns],\n",
       "  fkey_col_to_pkey_table={'OwnerUserId': 'users'},\n",
       "  pkey_col=None,\n",
       "  time_col=timestamp)"
      ]
     },
     "execution_count": 15,
     "metadata": {},
     "output_type": "execute_result"
    }
   ],
   "source": [
    "task.test_table"
   ]
  },
  {
   "cell_type": "code",
   "execution_count": 16,
   "id": "ca6fb898-c45c-4a9c-af5b-6d27d8c08976",
   "metadata": {},
   "outputs": [
    {
     "data": {
      "text/plain": [
       "contribution\n",
       "0    0.827046\n",
       "1    0.172954\n",
       "Name: proportion, dtype: float64"
      ]
     },
     "execution_count": 16,
     "metadata": {},
     "output_type": "execute_result"
    }
   ],
   "source": [
    "task.train_table.df.contribution.value_counts(normalize = True)"
   ]
  },
  {
   "cell_type": "code",
   "execution_count": 17,
   "id": "2bba63c8-9f20-430c-aac2-412d03d17385",
   "metadata": {},
   "outputs": [
    {
     "name": "stderr",
     "output_type": "stream",
     "text": [
      "/dfs/user/kexinh/miniconda3/envs/rtb/lib/python3.10/site-packages/pyarrow/pandas_compat.py:373: FutureWarning: is_sparse is deprecated and will be removed in a future version. Check `isinstance(dtype, pd.SparseDtype)` instead.\n",
      "  if _pandas_api.is_sparse(col):\n"
     ]
    },
    {
     "name": "stdout",
     "output_type": "stream",
     "text": [
      "upload: /tmp/staging_data/rel-stackex/tasks/rel-stackex-engage.zip\n",
      "sha256: 8e2d26a02efa6d914de70bf69d4e0d2e1aa4730c1b0f77f1a9fab89f7197f0a7\n"
     ]
    }
   ],
   "source": [
    "task.pack_tables(\"/tmp/staging_data\")"
   ]
  },
  {
   "cell_type": "code",
   "execution_count": null,
   "id": "67cbaf97-e244-41dd-8516-911be960cc57",
   "metadata": {},
   "outputs": [],
   "source": []
  }
 ],
 "metadata": {
  "kernelspec": {
   "display_name": "Python 3 (ipykernel)",
   "language": "python",
   "name": "python3"
  },
  "language_info": {
   "codemirror_mode": {
    "name": "ipython",
    "version": 3
   },
   "file_extension": ".py",
   "mimetype": "text/x-python",
   "name": "python",
   "nbconvert_exporter": "python",
   "pygments_lexer": "ipython3",
   "version": "3.10.13"
  }
 },
 "nbformat": 4,
 "nbformat_minor": 5
}
