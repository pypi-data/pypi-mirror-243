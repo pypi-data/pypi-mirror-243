{
 "cells": [
  {
   "cell_type": "code",
   "execution_count": null,
   "id": "1c1cf213-d0f7-4e2c-a2fb-f0c2f2c866a0",
   "metadata": {},
   "outputs": [],
   "source": [
    "%load_ext autoreload\n",
    "%autoreload 2"
   ]
  },
  {
   "cell_type": "code",
   "execution_count": null,
   "id": "5301898f-4633-4dad-b259-e338637edd21",
   "metadata": {},
   "outputs": [],
   "source": [
    "# import sys\n",
    "# sys.path.append(\"../upliftnet\")"
   ]
  },
  {
   "cell_type": "code",
   "execution_count": null,
   "id": "a4f5e6d4-1afe-41ea-8ea1-b70c2b36355f",
   "metadata": {},
   "outputs": [],
   "source": [
    "import logging\n",
    "logging.getLogger('tensorflow').disabled = True"
   ]
  },
  {
   "cell_type": "code",
   "execution_count": null,
   "id": "b8b9c298-a034-4b32-a41e-f0c5c4918315",
   "metadata": {},
   "outputs": [],
   "source": [
    "import numpy as np\n",
    "import keras\n",
    "from keras import layers\n",
    "import tensorflow as tf\n",
    "import matplotlib.pyplot as plt\n",
    "\n",
    "import upliftnet.data\n",
    "import upliftnet.net\n",
    "import upliftnet.plots\n",
    "import upliftnet.metrics"
   ]
  },
  {
   "cell_type": "code",
   "execution_count": null,
   "id": "b538365b-adcf-4094-b871-fedb77b8397f",
   "metadata": {},
   "outputs": [],
   "source": [
    "import upliftnet.metrics"
   ]
  },
  {
   "cell_type": "markdown",
   "id": "b3c705c7-0843-444a-b2ee-482219b00925",
   "metadata": {
    "tags": []
   },
   "source": [
    "### Config"
   ]
  },
  {
   "cell_type": "code",
   "execution_count": null,
   "id": "87c1d99e-1df5-45c8-aca9-2263fcdf0fe4",
   "metadata": {},
   "outputs": [],
   "source": [
    "# sample size\n",
    "N_TREATMENT = 80_000\n",
    "N_CONTROL = 20_000\n",
    "\n",
    "# param dist\n",
    "MU = [0, 0, 0]\n",
    "COV = None\n",
    "\n",
    "# ground truth\n",
    "TREATMENT_TRUTH = [-4.5, -1.5, -0.8, 1.2]\n",
    "CONTROL_TRUTH = [-5, -1.8, -0.8, -1.2]\n",
    "\n",
    "# test set ration\n",
    "TEST_RATIO = 0.8"
   ]
  },
  {
   "cell_type": "markdown",
   "id": "646f29f8-77c3-488d-8402-d6b8d2d6a168",
   "metadata": {},
   "source": [
    "### Synthetic dataset"
   ]
  },
  {
   "cell_type": "code",
   "execution_count": null,
   "id": "1ea6f204-ce35-450d-9e43-feaad185737f",
   "metadata": {},
   "outputs": [],
   "source": [
    "X, y, treatment = upliftnet.data.generate_logistic_data(\n",
    "    treatment_coefs=TREATMENT_TRUTH,\n",
    "    control_coefs=CONTROL_TRUTH,\n",
    "    n_treatment=N_TREATMENT,\n",
    "    n_control=N_CONTROL,\n",
    "    mu=MU,\n",
    "    cov=COV\n",
    ")"
   ]
  },
  {
   "cell_type": "code",
   "execution_count": null,
   "id": "8750969e-4739-4e65-8d98-961eaff9078c",
   "metadata": {},
   "outputs": [],
   "source": [
    "y.mean()"
   ]
  },
  {
   "cell_type": "code",
   "execution_count": null,
   "id": "531bfbb3-40eb-4e57-94b9-d87fc7287f4f",
   "metadata": {},
   "outputs": [],
   "source": [
    "indices = np.random.permutation(X.shape[0])\n",
    "n_train = int(X.shape[0] * TEST_RATIO)\n",
    "training_idx, test_idx = indices[:n_train], indices[n_train:]\n",
    "\n",
    "train_dataset = (\n",
    "    tf.data.Dataset\n",
    "    .from_tensor_slices((X[training_idx], y[training_idx], treatment[training_idx]))\n",
    "    .shuffle(buffer_size=5000, reshuffle_each_iteration=True)\n",
    "    .batch(1_000)\n",
    ")\n",
    "\n",
    "X_test, y_test, treatment_test = X[test_idx], y[test_idx], treatment[test_idx]"
   ]
  },
  {
   "cell_type": "markdown",
   "id": "81d4e02e-3c3c-4cb2-be08-c81ccc40fa79",
   "metadata": {},
   "source": [
    "### Simple MLP model"
   ]
  },
  {
   "cell_type": "code",
   "execution_count": null,
   "id": "fd6f1ba0-6c1c-439c-8357-f48655427ada",
   "metadata": {},
   "outputs": [],
   "source": [
    "class UpliftMLP(upliftnet.net.UpliftNet):\n",
    "    def __init__(self, hidden_sizes):\n",
    "        super().__init__()\n",
    "        self.dense = [\n",
    "            layers.Dense(size, activation='relu')\n",
    "            for size in hidden_sizes\n",
    "        ]\n",
    "        self.out = layers.Dense(1, activation='linear')\n",
    "        \n",
    "    def call(self, inputs):\n",
    "        densei = self.dense[0](inputs)\n",
    "        for dense in self.dense[1:]:\n",
    "            densei = dense(densei)\n",
    "        return self.out(densei)\n",
    "\n",
    "uplift_model = UpliftMLP([32, 16])\n",
    "uplift_model.compile(optimizer=keras.optimizers.Adam())"
   ]
  },
  {
   "cell_type": "code",
   "execution_count": null,
   "id": "e30a7128-9777-49c3-ae49-3b5eea167a65",
   "metadata": {},
   "outputs": [],
   "source": [
    "res = uplift_model.fit(\n",
    "    x=train_dataset,\n",
    "    epochs=3\n",
    ")"
   ]
  },
  {
   "cell_type": "markdown",
   "id": "159d96c1-7283-460a-b58e-facdfe5a5ece",
   "metadata": {},
   "source": [
    "### Evaluate on test set"
   ]
  },
  {
   "cell_type": "code",
   "execution_count": null,
   "id": "43228a50-5909-4f63-8c28-dc3057977384",
   "metadata": {},
   "outputs": [],
   "source": [
    "preds_test = np.squeeze(uplift_model.predict(X[test_idx]), 1)"
   ]
  },
  {
   "cell_type": "code",
   "execution_count": null,
   "id": "d1f8133a-b861-45bc-82d9-8ebd4e627767",
   "metadata": {},
   "outputs": [],
   "source": [
    "upliftnet.plots.true_lift_plot(y_test, preds_test, treatment_test);"
   ]
  },
  {
   "cell_type": "code",
   "execution_count": null,
   "id": "0d33326f-af9c-4ee9-a601-425c90518796",
   "metadata": {},
   "outputs": [],
   "source": [
    "upliftnet.plots.target_plot(y_test, preds_test, treatment_test);"
   ]
  },
  {
   "cell_type": "code",
   "execution_count": null,
   "id": "f08a308e-1d47-4223-93d6-d860c7a3c13c",
   "metadata": {},
   "outputs": [],
   "source": [
    "upliftnet.plots.cumulative_gain_plot(y_test, preds_test, treatment_test);"
   ]
  }
 ],
 "metadata": {
  "kernelspec": {
   "display_name": "env_test",
   "language": "python",
   "name": "env_test"
  },
  "language_info": {
   "codemirror_mode": {
    "name": "ipython",
    "version": 3
   },
   "file_extension": ".py",
   "mimetype": "text/x-python",
   "name": "python",
   "nbconvert_exporter": "python",
   "pygments_lexer": "ipython3",
   "version": "3.10.1"
  }
 },
 "nbformat": 4,
 "nbformat_minor": 5
}
