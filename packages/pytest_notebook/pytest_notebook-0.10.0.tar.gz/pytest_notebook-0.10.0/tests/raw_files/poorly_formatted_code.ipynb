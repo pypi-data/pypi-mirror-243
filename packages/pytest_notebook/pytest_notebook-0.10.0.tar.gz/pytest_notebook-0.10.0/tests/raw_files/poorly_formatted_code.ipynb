{
 "cells": [
  {
   "cell_type": "code",
   "execution_count": 5,
   "metadata": {},
   "outputs": [],
   "source": [
    "#!/usr/bin/env python3\n",
    "import asyncio\n",
    "import sys, os\n",
    "\n",
    "from black import assert_equivalent, \\\n",
    "                    assert_stable"
   ]
  },
  {
   "cell_type": "code",
   "execution_count": 6,
   "metadata": {},
   "outputs": [],
   "source": [
    "def very_bad_function(template: str, *variables, file: os.PathLike, engine: str, header: bool = True, debug: bool = False):\n",
    "    \"\"\"Applies `variables` to the `template` and writes to `file`.\"\"\"\n",
    "    with open(file, 'w') as f:\n",
    "        a = (\"sadsad\"\n",
    "        \"sadasdas\")"
   ]
  },
  {
   "cell_type": "code",
   "execution_count": 8,
   "metadata": {},
   "outputs": [],
   "source": [
    "def func_no_args():\n",
    "  a; b; c\n",
    "  if True: raise RuntimeError\n",
    "  if False: ...\n",
    "  for i in range(10):\n",
    "    print(i)\n",
    "    continue\n",
    "  exec(\"new-style exec\", {}, {})\n",
    "  return None"
   ]
  },
  {
   "cell_type": "code",
   "execution_count": 9,
   "metadata": {},
   "outputs": [],
   "source": [
    "async def coroutine(arg, exec=False):\n",
    " \"Single-line docstring. Multiline is harder to reformat.\"\n",
    " async with some_connection() as conn:\n",
    "     await conn.do_what_i_mean('SELECT bobby, tables FROM xkcd', timeout=2)\n",
    " await asyncio.sleep(1)"
   ]
  },
  {
   "cell_type": "code",
   "execution_count": 10,
   "metadata": {},
   "outputs": [],
   "source": [
    "dct = {\"A\": [1, 2, 3, 4, 5, 6, 7, 8, 9, 10], \"B\": {\"C\": {4, 5, 6}}}"
   ]
  }
 ],
 "metadata": {
  "kernelspec": {
   "display_name": "Python 3",
   "language": "python",
   "name": "python3"
  },
  "language_info": {
   "codemirror_mode": {
    "name": "ipython",
    "version": 3
   },
   "file_extension": ".py",
   "mimetype": "text/x-python",
   "name": "python",
   "nbconvert_exporter": "python",
   "pygments_lexer": "ipython3",
   "version": "3.6.7"
  }
 },
 "nbformat": 4,
 "nbformat_minor": 2
}
