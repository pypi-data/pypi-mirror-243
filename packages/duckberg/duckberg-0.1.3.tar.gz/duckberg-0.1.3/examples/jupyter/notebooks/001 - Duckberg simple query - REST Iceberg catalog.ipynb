{
 "cells": [
  {
   "cell_type": "code",
   "execution_count": 15,
   "id": "095e2644",
   "metadata": {
    "collapsed": false,
    "jupyter": {
     "outputs_hidden": false
    },
    "pycharm": {
     "name": "#%%\n"
    }
   },
   "outputs": [],
   "source": [
    "from duckberg import *"
   ]
  },
  {
   "cell_type": "code",
   "execution_count": 16,
   "id": "a341c51f",
   "metadata": {
    "collapsed": false,
    "jupyter": {
     "outputs_hidden": false
    },
    "pycharm": {
     "name": "#%%\n"
    }
   },
   "outputs": [],
   "source": [
    "MINIO_URI = \"http://minio:9000/\"\n",
    "MINIO_USER = \"admin\"\n",
    "MINIO_PASSWORD = \"password\"\n",
    "\n",
    "catalog_config: dict[str, str] = {\n",
    "  \"type\": \"rest\",\n",
    "  \"uri\": \"http://iceberg-rest:8181/\",\n",
    "  \"credentials\": \"admin:password\",\n",
    "  \"s3.endpoint\": MINIO_URI,\n",
    "  \"s3.access-key-id\": MINIO_USER,\n",
    "  \"s3.secret-access-key\": MINIO_PASSWORD\n",
    "}\n",
    "\n",
    "catalog_name = \"warehouse\""
   ]
  },
  {
   "cell_type": "code",
   "execution_count": 17,
   "id": "5ccbb8f3",
   "metadata": {
    "collapsed": false,
    "jupyter": {
     "outputs_hidden": false
    },
    "pycharm": {
     "name": "#%%\n"
    }
   },
   "outputs": [],
   "source": [
    "db = DuckBerg(\n",
    "     catalog_name=catalog_name,\n",
    "     catalog_config=catalog_config)"
   ]
  },
  {
   "cell_type": "code",
   "execution_count": 18,
   "id": "4eb89548",
   "metadata": {
    "collapsed": false,
    "jupyter": {
     "outputs_hidden": false
    },
    "pycharm": {
     "name": "#%%\n"
    }
   },
   "outputs": [
    {
     "data": {
      "text/plain": [
       "dict_keys(['nyc.taxis'])"
      ]
     },
     "execution_count": 18,
     "metadata": {},
     "output_type": "execute_result"
    }
   ],
   "source": [
    "tables = db.list_tables()\n",
    "tables"
   ]
  },
  {
   "cell_type": "code",
   "execution_count": 19,
   "id": "0fc64b12",
   "metadata": {
    "collapsed": false,
    "jupyter": {
     "outputs_hidden": false
    },
    "pycharm": {
     "name": "#%%\n"
    }
   },
   "outputs": [
    {
     "data": {
      "text/plain": [
       "['payment_type']"
      ]
     },
     "execution_count": 19,
     "metadata": {},
     "output_type": "execute_result"
    }
   ],
   "source": [
    "partitions = db.list_partitions(table=\"nyc.taxis\")\n",
    "partitions"
   ]
  },
  {
   "cell_type": "code",
   "execution_count": null,
   "id": "06d68aac",
   "metadata": {
    "collapsed": false,
    "jupyter": {
     "outputs_hidden": false
    },
    "pycharm": {
     "name": "#%%\n"
    }
   },
   "outputs": [],
   "source": [
    "partitions = db.list_partitions(table=\"nyc.taxis\")\n",
    "partitions"
   ]
  },
  {
   "cell_type": "code",
   "execution_count": null,
   "id": "c6f44147",
   "metadata": {
    "collapsed": false,
    "jupyter": {
     "outputs_hidden": false
    },
    "pycharm": {
     "name": "#%%\n"
    }
   },
   "outputs": [],
   "source": [
    "query: str = \"SELECT * FROM nyc.taxis WHERE trip_distance > 40 ORDER BY tolls_amount DESC\"\n",
    "df = db.select(table=\"nyc.taxis\", filter=\"payment_type = 1\", sql=query)\n",
    "df"
   ]
  },
  {
   "cell_type": "code",
   "execution_count": 14,
   "id": "3fc0fd51-9cbb-415d-8280-8a62bb8b49da",
   "metadata": {
    "pycharm": {
     "name": "#%%\n"
    }
   },
   "outputs": [
    {
     "name": "stderr",
     "output_type": "stream",
     "text": [
      "/opt/conda/lib/python3.11/site-packages/pyiceberg/avro/decoder.py:184: UserWarning: Falling back to pure Python Avro decoder, missing Cython implementation\n",
      "  warnings.warn(\"Falling back to pure Python Avro decoder, missing Cython implementation\")\n"
     ]
    },
    {
     "data": {
      "text/html": [
       "<div>\n",
       "<style scoped>\n",
       "    .dataframe tbody tr th:only-of-type {\n",
       "        vertical-align: middle;\n",
       "    }\n",
       "\n",
       "    .dataframe tbody tr th {\n",
       "        vertical-align: top;\n",
       "    }\n",
       "\n",
       "    .dataframe thead th {\n",
       "        text-align: right;\n",
       "    }\n",
       "</style>\n",
       "<table border=\"1\" class=\"dataframe\">\n",
       "  <thead>\n",
       "    <tr style=\"text-align: right;\">\n",
       "      <th></th>\n",
       "      <th>VendorID</th>\n",
       "      <th>tpep_pickup_datetime</th>\n",
       "      <th>tpep_dropoff_datetime</th>\n",
       "      <th>passenger_count</th>\n",
       "      <th>trip_distance</th>\n",
       "      <th>RatecodeID</th>\n",
       "      <th>store_and_fwd_flag</th>\n",
       "      <th>PULocationID</th>\n",
       "      <th>DOLocationID</th>\n",
       "      <th>payment_type</th>\n",
       "      <th>fare_amount</th>\n",
       "      <th>extra</th>\n",
       "      <th>mta_tax</th>\n",
       "      <th>tip_amount</th>\n",
       "      <th>tolls_amount</th>\n",
       "      <th>improvement_surcharge</th>\n",
       "      <th>total_amount</th>\n",
       "      <th>congestion_surcharge</th>\n",
       "      <th>airport_fee</th>\n",
       "    </tr>\n",
       "  </thead>\n",
       "  <tbody>\n",
       "    <tr>\n",
       "      <th>0</th>\n",
       "      <td>2</td>\n",
       "      <td>2022-12-17 19:01:42</td>\n",
       "      <td>2022-12-17 20:35:24</td>\n",
       "      <td>3.0</td>\n",
       "      <td>40.27</td>\n",
       "      <td>3.0</td>\n",
       "      <td>N</td>\n",
       "      <td>132</td>\n",
       "      <td>265</td>\n",
       "      <td>1</td>\n",
       "      <td>128.5</td>\n",
       "      <td>0.00</td>\n",
       "      <td>0.0</td>\n",
       "      <td>47.59</td>\n",
       "      <td>60.30</td>\n",
       "      <td>0.3</td>\n",
       "      <td>237.94</td>\n",
       "      <td>0.0</td>\n",
       "      <td>1.25</td>\n",
       "    </tr>\n",
       "    <tr>\n",
       "      <th>1</th>\n",
       "      <td>2</td>\n",
       "      <td>2022-12-04 18:47:12</td>\n",
       "      <td>2022-12-04 20:24:14</td>\n",
       "      <td>1.0</td>\n",
       "      <td>80.44</td>\n",
       "      <td>1.0</td>\n",
       "      <td>N</td>\n",
       "      <td>132</td>\n",
       "      <td>265</td>\n",
       "      <td>1</td>\n",
       "      <td>205.0</td>\n",
       "      <td>0.00</td>\n",
       "      <td>0.5</td>\n",
       "      <td>49.47</td>\n",
       "      <td>40.30</td>\n",
       "      <td>0.3</td>\n",
       "      <td>296.82</td>\n",
       "      <td>0.0</td>\n",
       "      <td>1.25</td>\n",
       "    </tr>\n",
       "    <tr>\n",
       "      <th>2</th>\n",
       "      <td>2</td>\n",
       "      <td>2022-12-09 17:20:22</td>\n",
       "      <td>2022-12-09 19:22:00</td>\n",
       "      <td>1.0</td>\n",
       "      <td>95.83</td>\n",
       "      <td>5.0</td>\n",
       "      <td>N</td>\n",
       "      <td>132</td>\n",
       "      <td>265</td>\n",
       "      <td>1</td>\n",
       "      <td>300.0</td>\n",
       "      <td>0.00</td>\n",
       "      <td>0.0</td>\n",
       "      <td>67.83</td>\n",
       "      <td>38.85</td>\n",
       "      <td>0.3</td>\n",
       "      <td>408.23</td>\n",
       "      <td>0.0</td>\n",
       "      <td>1.25</td>\n",
       "    </tr>\n",
       "    <tr>\n",
       "      <th>3</th>\n",
       "      <td>2</td>\n",
       "      <td>2022-12-04 00:08:09</td>\n",
       "      <td>2022-12-04 01:15:18</td>\n",
       "      <td>2.0</td>\n",
       "      <td>53.36</td>\n",
       "      <td>4.0</td>\n",
       "      <td>N</td>\n",
       "      <td>132</td>\n",
       "      <td>265</td>\n",
       "      <td>1</td>\n",
       "      <td>196.5</td>\n",
       "      <td>0.50</td>\n",
       "      <td>0.0</td>\n",
       "      <td>0.00</td>\n",
       "      <td>38.30</td>\n",
       "      <td>0.3</td>\n",
       "      <td>236.85</td>\n",
       "      <td>0.0</td>\n",
       "      <td>1.25</td>\n",
       "    </tr>\n",
       "    <tr>\n",
       "      <th>4</th>\n",
       "      <td>2</td>\n",
       "      <td>2022-12-14 08:12:17</td>\n",
       "      <td>2022-12-14 09:36:33</td>\n",
       "      <td>3.0</td>\n",
       "      <td>49.93</td>\n",
       "      <td>5.0</td>\n",
       "      <td>N</td>\n",
       "      <td>132</td>\n",
       "      <td>265</td>\n",
       "      <td>1</td>\n",
       "      <td>250.0</td>\n",
       "      <td>0.00</td>\n",
       "      <td>0.0</td>\n",
       "      <td>57.66</td>\n",
       "      <td>38.00</td>\n",
       "      <td>0.3</td>\n",
       "      <td>345.96</td>\n",
       "      <td>0.0</td>\n",
       "      <td>0.00</td>\n",
       "    </tr>\n",
       "    <tr>\n",
       "      <th>...</th>\n",
       "      <td>...</td>\n",
       "      <td>...</td>\n",
       "      <td>...</td>\n",
       "      <td>...</td>\n",
       "      <td>...</td>\n",
       "      <td>...</td>\n",
       "      <td>...</td>\n",
       "      <td>...</td>\n",
       "      <td>...</td>\n",
       "      <td>...</td>\n",
       "      <td>...</td>\n",
       "      <td>...</td>\n",
       "      <td>...</td>\n",
       "      <td>...</td>\n",
       "      <td>...</td>\n",
       "      <td>...</td>\n",
       "      <td>...</td>\n",
       "      <td>...</td>\n",
       "      <td>...</td>\n",
       "    </tr>\n",
       "    <tr>\n",
       "      <th>512</th>\n",
       "      <td>1</td>\n",
       "      <td>2022-12-17 12:16:01</td>\n",
       "      <td>2022-12-17 13:14:16</td>\n",
       "      <td>2.0</td>\n",
       "      <td>42.20</td>\n",
       "      <td>5.0</td>\n",
       "      <td>N</td>\n",
       "      <td>263</td>\n",
       "      <td>265</td>\n",
       "      <td>1</td>\n",
       "      <td>160.0</td>\n",
       "      <td>0.00</td>\n",
       "      <td>0.0</td>\n",
       "      <td>20.00</td>\n",
       "      <td>0.00</td>\n",
       "      <td>0.3</td>\n",
       "      <td>180.30</td>\n",
       "      <td>0.0</td>\n",
       "      <td>0.00</td>\n",
       "    </tr>\n",
       "    <tr>\n",
       "      <th>513</th>\n",
       "      <td>1</td>\n",
       "      <td>2022-12-17 21:19:10</td>\n",
       "      <td>2022-12-17 22:19:10</td>\n",
       "      <td>1.0</td>\n",
       "      <td>50.20</td>\n",
       "      <td>4.0</td>\n",
       "      <td>N</td>\n",
       "      <td>132</td>\n",
       "      <td>265</td>\n",
       "      <td>1</td>\n",
       "      <td>238.5</td>\n",
       "      <td>1.75</td>\n",
       "      <td>0.5</td>\n",
       "      <td>0.00</td>\n",
       "      <td>0.00</td>\n",
       "      <td>0.3</td>\n",
       "      <td>241.05</td>\n",
       "      <td>0.0</td>\n",
       "      <td>1.25</td>\n",
       "    </tr>\n",
       "    <tr>\n",
       "      <th>514</th>\n",
       "      <td>1</td>\n",
       "      <td>2022-12-18 02:12:39</td>\n",
       "      <td>2022-12-18 03:09:39</td>\n",
       "      <td>0.0</td>\n",
       "      <td>47.70</td>\n",
       "      <td>5.0</td>\n",
       "      <td>N</td>\n",
       "      <td>161</td>\n",
       "      <td>265</td>\n",
       "      <td>1</td>\n",
       "      <td>150.0</td>\n",
       "      <td>0.00</td>\n",
       "      <td>0.0</td>\n",
       "      <td>20.00</td>\n",
       "      <td>0.00</td>\n",
       "      <td>0.3</td>\n",
       "      <td>170.30</td>\n",
       "      <td>0.0</td>\n",
       "      <td>0.00</td>\n",
       "    </tr>\n",
       "    <tr>\n",
       "      <th>515</th>\n",
       "      <td>2</td>\n",
       "      <td>2022-12-18 04:31:49</td>\n",
       "      <td>2022-12-18 05:25:11</td>\n",
       "      <td>2.0</td>\n",
       "      <td>40.26</td>\n",
       "      <td>5.0</td>\n",
       "      <td>N</td>\n",
       "      <td>193</td>\n",
       "      <td>265</td>\n",
       "      <td>1</td>\n",
       "      <td>120.0</td>\n",
       "      <td>0.00</td>\n",
       "      <td>0.5</td>\n",
       "      <td>24.16</td>\n",
       "      <td>0.00</td>\n",
       "      <td>0.3</td>\n",
       "      <td>144.96</td>\n",
       "      <td>0.0</td>\n",
       "      <td>0.00</td>\n",
       "    </tr>\n",
       "    <tr>\n",
       "      <th>516</th>\n",
       "      <td>1</td>\n",
       "      <td>2022-12-18 08:44:30</td>\n",
       "      <td>2022-12-18 09:53:41</td>\n",
       "      <td>2.0</td>\n",
       "      <td>60.90</td>\n",
       "      <td>5.0</td>\n",
       "      <td>N</td>\n",
       "      <td>132</td>\n",
       "      <td>265</td>\n",
       "      <td>1</td>\n",
       "      <td>200.0</td>\n",
       "      <td>1.25</td>\n",
       "      <td>0.0</td>\n",
       "      <td>0.05</td>\n",
       "      <td>0.00</td>\n",
       "      <td>0.3</td>\n",
       "      <td>201.60</td>\n",
       "      <td>0.0</td>\n",
       "      <td>1.25</td>\n",
       "    </tr>\n",
       "  </tbody>\n",
       "</table>\n",
       "<p>517 rows × 19 columns</p>\n",
       "</div>"
      ],
      "text/plain": [
       "     VendorID tpep_pickup_datetime tpep_dropoff_datetime  passenger_count  \\\n",
       "0           2  2022-12-17 19:01:42   2022-12-17 20:35:24              3.0   \n",
       "1           2  2022-12-04 18:47:12   2022-12-04 20:24:14              1.0   \n",
       "2           2  2022-12-09 17:20:22   2022-12-09 19:22:00              1.0   \n",
       "3           2  2022-12-04 00:08:09   2022-12-04 01:15:18              2.0   \n",
       "4           2  2022-12-14 08:12:17   2022-12-14 09:36:33              3.0   \n",
       "..        ...                  ...                   ...              ...   \n",
       "512         1  2022-12-17 12:16:01   2022-12-17 13:14:16              2.0   \n",
       "513         1  2022-12-17 21:19:10   2022-12-17 22:19:10              1.0   \n",
       "514         1  2022-12-18 02:12:39   2022-12-18 03:09:39              0.0   \n",
       "515         2  2022-12-18 04:31:49   2022-12-18 05:25:11              2.0   \n",
       "516         1  2022-12-18 08:44:30   2022-12-18 09:53:41              2.0   \n",
       "\n",
       "     trip_distance  RatecodeID store_and_fwd_flag  PULocationID  DOLocationID  \\\n",
       "0            40.27         3.0                  N           132           265   \n",
       "1            80.44         1.0                  N           132           265   \n",
       "2            95.83         5.0                  N           132           265   \n",
       "3            53.36         4.0                  N           132           265   \n",
       "4            49.93         5.0                  N           132           265   \n",
       "..             ...         ...                ...           ...           ...   \n",
       "512          42.20         5.0                  N           263           265   \n",
       "513          50.20         4.0                  N           132           265   \n",
       "514          47.70         5.0                  N           161           265   \n",
       "515          40.26         5.0                  N           193           265   \n",
       "516          60.90         5.0                  N           132           265   \n",
       "\n",
       "     payment_type  fare_amount  extra  mta_tax  tip_amount  tolls_amount  \\\n",
       "0               1        128.5   0.00      0.0       47.59         60.30   \n",
       "1               1        205.0   0.00      0.5       49.47         40.30   \n",
       "2               1        300.0   0.00      0.0       67.83         38.85   \n",
       "3               1        196.5   0.50      0.0        0.00         38.30   \n",
       "4               1        250.0   0.00      0.0       57.66         38.00   \n",
       "..            ...          ...    ...      ...         ...           ...   \n",
       "512             1        160.0   0.00      0.0       20.00          0.00   \n",
       "513             1        238.5   1.75      0.5        0.00          0.00   \n",
       "514             1        150.0   0.00      0.0       20.00          0.00   \n",
       "515             1        120.0   0.00      0.5       24.16          0.00   \n",
       "516             1        200.0   1.25      0.0        0.05          0.00   \n",
       "\n",
       "     improvement_surcharge  total_amount  congestion_surcharge  airport_fee  \n",
       "0                      0.3        237.94                   0.0         1.25  \n",
       "1                      0.3        296.82                   0.0         1.25  \n",
       "2                      0.3        408.23                   0.0         1.25  \n",
       "3                      0.3        236.85                   0.0         1.25  \n",
       "4                      0.3        345.96                   0.0         0.00  \n",
       "..                     ...           ...                   ...          ...  \n",
       "512                    0.3        180.30                   0.0         0.00  \n",
       "513                    0.3        241.05                   0.0         1.25  \n",
       "514                    0.3        170.30                   0.0         0.00  \n",
       "515                    0.3        144.96                   0.0         0.00  \n",
       "516                    0.3        201.60                   0.0         1.25  \n",
       "\n",
       "[517 rows x 19 columns]"
      ]
     },
     "execution_count": 14,
     "metadata": {},
     "output_type": "execute_result"
    }
   ],
   "source": [
    "query: str = \"SELECT * FROM 'nyc.taxis' WHERE trip_distance > 40 ORDER BY tolls_amount DESC\"\n",
    "df = db.select(table=\"nyc.taxis\", partition_filter=\"payment_type = 1\", sql=query)\n",
    "df"
   ]
  }
 ],
 "metadata": {
  "kernelspec": {
   "display_name": "Python 3 (ipykernel)",
   "language": "python",
   "name": "python3"
  },
  "language_info": {
   "codemirror_mode": {
    "name": "ipython",
    "version": 3
   },
   "file_extension": ".py",
   "mimetype": "text/x-python",
   "name": "python",
   "nbconvert_exporter": "python",
   "pygments_lexer": "ipython3",
   "version": "3.11.6"
  }
 },
 "nbformat": 4,
 "nbformat_minor": 5
}